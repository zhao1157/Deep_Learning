{
 "cells": [
  {
   "cell_type": "markdown",
   "metadata": {
    "colab_type": "text",
    "id": "20YCjVKnzw2p"
   },
   "source": [
    "## Data Preprocessing"
   ]
  },
  {
   "cell_type": "code",
   "execution_count": 0,
   "metadata": {
    "colab": {},
    "colab_type": "code",
    "id": "6KTngesJzw2r"
   },
   "outputs": [],
   "source": [
    "import pandas as pd"
   ]
  },
  {
   "cell_type": "code",
   "execution_count": 0,
   "metadata": {
    "colab": {},
    "colab_type": "code",
    "id": "OUMhaWBYzw2u"
   },
   "outputs": [],
   "source": [
    "diabetes = pd.read_csv('pima-indians-diabetes.csv')"
   ]
  },
  {
   "cell_type": "code",
   "execution_count": 5,
   "metadata": {
    "colab": {
     "base_uri": "https://localhost:8080/",
     "height": 195
    },
    "colab_type": "code",
    "id": "qHiQv6aAzw2w",
    "outputId": "40262282-da9e-4911-a5c4-18ab8fb7c999"
   },
   "outputs": [
    {
     "data": {
      "text/html": [
       "<div>\n",
       "<style scoped>\n",
       "    .dataframe tbody tr th:only-of-type {\n",
       "        vertical-align: middle;\n",
       "    }\n",
       "\n",
       "    .dataframe tbody tr th {\n",
       "        vertical-align: top;\n",
       "    }\n",
       "\n",
       "    .dataframe thead th {\n",
       "        text-align: right;\n",
       "    }\n",
       "</style>\n",
       "<table border=\"1\" class=\"dataframe\">\n",
       "  <thead>\n",
       "    <tr style=\"text-align: right;\">\n",
       "      <th></th>\n",
       "      <th>Number_pregnant</th>\n",
       "      <th>Glucose_concentration</th>\n",
       "      <th>Blood_pressure</th>\n",
       "      <th>Triceps</th>\n",
       "      <th>Insulin</th>\n",
       "      <th>BMI</th>\n",
       "      <th>Pedigree</th>\n",
       "      <th>Age</th>\n",
       "      <th>Class</th>\n",
       "      <th>Group</th>\n",
       "    </tr>\n",
       "  </thead>\n",
       "  <tbody>\n",
       "    <tr>\n",
       "      <th>0</th>\n",
       "      <td>6</td>\n",
       "      <td>0.743719</td>\n",
       "      <td>0.590164</td>\n",
       "      <td>0.353535</td>\n",
       "      <td>0.000000</td>\n",
       "      <td>0.500745</td>\n",
       "      <td>0.234415</td>\n",
       "      <td>50</td>\n",
       "      <td>1</td>\n",
       "      <td>B</td>\n",
       "    </tr>\n",
       "    <tr>\n",
       "      <th>1</th>\n",
       "      <td>1</td>\n",
       "      <td>0.427136</td>\n",
       "      <td>0.540984</td>\n",
       "      <td>0.292929</td>\n",
       "      <td>0.000000</td>\n",
       "      <td>0.396423</td>\n",
       "      <td>0.116567</td>\n",
       "      <td>31</td>\n",
       "      <td>0</td>\n",
       "      <td>C</td>\n",
       "    </tr>\n",
       "    <tr>\n",
       "      <th>2</th>\n",
       "      <td>8</td>\n",
       "      <td>0.919598</td>\n",
       "      <td>0.524590</td>\n",
       "      <td>0.000000</td>\n",
       "      <td>0.000000</td>\n",
       "      <td>0.347243</td>\n",
       "      <td>0.253629</td>\n",
       "      <td>32</td>\n",
       "      <td>1</td>\n",
       "      <td>B</td>\n",
       "    </tr>\n",
       "    <tr>\n",
       "      <th>3</th>\n",
       "      <td>1</td>\n",
       "      <td>0.447236</td>\n",
       "      <td>0.540984</td>\n",
       "      <td>0.232323</td>\n",
       "      <td>0.111111</td>\n",
       "      <td>0.418778</td>\n",
       "      <td>0.038002</td>\n",
       "      <td>21</td>\n",
       "      <td>0</td>\n",
       "      <td>B</td>\n",
       "    </tr>\n",
       "    <tr>\n",
       "      <th>4</th>\n",
       "      <td>0</td>\n",
       "      <td>0.688442</td>\n",
       "      <td>0.327869</td>\n",
       "      <td>0.353535</td>\n",
       "      <td>0.198582</td>\n",
       "      <td>0.642325</td>\n",
       "      <td>0.943638</td>\n",
       "      <td>33</td>\n",
       "      <td>1</td>\n",
       "      <td>C</td>\n",
       "    </tr>\n",
       "  </tbody>\n",
       "</table>\n",
       "</div>"
      ],
      "text/plain": [
       "   Number_pregnant  Glucose_concentration  Blood_pressure  ...  Age  Class  Group\n",
       "0                6               0.743719        0.590164  ...   50      1      B\n",
       "1                1               0.427136        0.540984  ...   31      0      C\n",
       "2                8               0.919598        0.524590  ...   32      1      B\n",
       "3                1               0.447236        0.540984  ...   21      0      B\n",
       "4                0               0.688442        0.327869  ...   33      1      C\n",
       "\n",
       "[5 rows x 10 columns]"
      ]
     },
     "execution_count": 5,
     "metadata": {
      "tags": []
     },
     "output_type": "execute_result"
    }
   ],
   "source": [
    "diabetes.head()"
   ]
  },
  {
   "cell_type": "code",
   "execution_count": 6,
   "metadata": {
    "colab": {
     "base_uri": "https://localhost:8080/",
     "height": 67
    },
    "colab_type": "code",
    "id": "0N5smro1zw22",
    "outputId": "535a10e4-a281-4693-cf8b-2bc267f28c6b"
   },
   "outputs": [
    {
     "data": {
      "text/plain": [
       "(Index(['Number_pregnant', 'Glucose_concentration', 'Blood_pressure', 'Triceps',\n",
       "        'Insulin', 'BMI', 'Pedigree', 'Age', 'Class', 'Group'],\n",
       "       dtype='object'), pandas.core.indexes.base.Index, (768, 10))"
      ]
     },
     "execution_count": 6,
     "metadata": {
      "tags": []
     },
     "output_type": "execute_result"
    }
   ],
   "source": [
    "diabetes.columns, type(diabetes.columns), diabetes.shape"
   ]
  },
  {
   "cell_type": "code",
   "execution_count": 0,
   "metadata": {
    "colab": {},
    "colab_type": "code",
    "id": "AUudFxJOzw25"
   },
   "outputs": [],
   "source": [
    "cols_to_norm = ['Number_pregnant', 'Glucose_concentration', 'Blood_pressure', 'Triceps',\n",
    "        'Insulin', 'BMI', 'Pedigree']"
   ]
  },
  {
   "cell_type": "code",
   "execution_count": 0,
   "metadata": {
    "colab": {},
    "colab_type": "code",
    "id": "jLjNAWWxzw28"
   },
   "outputs": [],
   "source": [
    "\n",
    "diabetes[cols_to_norm] = diabetes[cols_to_norm].apply(lambda x: (x-x.min())/(x.max()-x.min()))\n"
   ]
  },
  {
   "cell_type": "code",
   "execution_count": 9,
   "metadata": {
    "colab": {
     "base_uri": "https://localhost:8080/",
     "height": 195
    },
    "colab_type": "code",
    "id": "lsJQXaNNzw2-",
    "outputId": "5f4a1fe1-a34f-408e-d090-f6c7a1bbc583"
   },
   "outputs": [
    {
     "data": {
      "text/html": [
       "<div>\n",
       "<style scoped>\n",
       "    .dataframe tbody tr th:only-of-type {\n",
       "        vertical-align: middle;\n",
       "    }\n",
       "\n",
       "    .dataframe tbody tr th {\n",
       "        vertical-align: top;\n",
       "    }\n",
       "\n",
       "    .dataframe thead th {\n",
       "        text-align: right;\n",
       "    }\n",
       "</style>\n",
       "<table border=\"1\" class=\"dataframe\">\n",
       "  <thead>\n",
       "    <tr style=\"text-align: right;\">\n",
       "      <th></th>\n",
       "      <th>Number_pregnant</th>\n",
       "      <th>Glucose_concentration</th>\n",
       "      <th>Blood_pressure</th>\n",
       "      <th>Triceps</th>\n",
       "      <th>Insulin</th>\n",
       "      <th>BMI</th>\n",
       "      <th>Pedigree</th>\n",
       "      <th>Age</th>\n",
       "      <th>Class</th>\n",
       "      <th>Group</th>\n",
       "    </tr>\n",
       "  </thead>\n",
       "  <tbody>\n",
       "    <tr>\n",
       "      <th>0</th>\n",
       "      <td>0.352941</td>\n",
       "      <td>0.743719</td>\n",
       "      <td>0.590164</td>\n",
       "      <td>0.353535</td>\n",
       "      <td>0.000000</td>\n",
       "      <td>0.500745</td>\n",
       "      <td>0.234415</td>\n",
       "      <td>50</td>\n",
       "      <td>1</td>\n",
       "      <td>B</td>\n",
       "    </tr>\n",
       "    <tr>\n",
       "      <th>1</th>\n",
       "      <td>0.058824</td>\n",
       "      <td>0.427136</td>\n",
       "      <td>0.540984</td>\n",
       "      <td>0.292929</td>\n",
       "      <td>0.000000</td>\n",
       "      <td>0.396423</td>\n",
       "      <td>0.116567</td>\n",
       "      <td>31</td>\n",
       "      <td>0</td>\n",
       "      <td>C</td>\n",
       "    </tr>\n",
       "    <tr>\n",
       "      <th>2</th>\n",
       "      <td>0.470588</td>\n",
       "      <td>0.919598</td>\n",
       "      <td>0.524590</td>\n",
       "      <td>0.000000</td>\n",
       "      <td>0.000000</td>\n",
       "      <td>0.347243</td>\n",
       "      <td>0.253629</td>\n",
       "      <td>32</td>\n",
       "      <td>1</td>\n",
       "      <td>B</td>\n",
       "    </tr>\n",
       "    <tr>\n",
       "      <th>3</th>\n",
       "      <td>0.058824</td>\n",
       "      <td>0.447236</td>\n",
       "      <td>0.540984</td>\n",
       "      <td>0.232323</td>\n",
       "      <td>0.111111</td>\n",
       "      <td>0.418778</td>\n",
       "      <td>0.038002</td>\n",
       "      <td>21</td>\n",
       "      <td>0</td>\n",
       "      <td>B</td>\n",
       "    </tr>\n",
       "    <tr>\n",
       "      <th>4</th>\n",
       "      <td>0.000000</td>\n",
       "      <td>0.688442</td>\n",
       "      <td>0.327869</td>\n",
       "      <td>0.353535</td>\n",
       "      <td>0.198582</td>\n",
       "      <td>0.642325</td>\n",
       "      <td>0.943638</td>\n",
       "      <td>33</td>\n",
       "      <td>1</td>\n",
       "      <td>C</td>\n",
       "    </tr>\n",
       "  </tbody>\n",
       "</table>\n",
       "</div>"
      ],
      "text/plain": [
       "   Number_pregnant  Glucose_concentration  Blood_pressure  ...  Age  Class  Group\n",
       "0         0.352941               0.743719        0.590164  ...   50      1      B\n",
       "1         0.058824               0.427136        0.540984  ...   31      0      C\n",
       "2         0.470588               0.919598        0.524590  ...   32      1      B\n",
       "3         0.058824               0.447236        0.540984  ...   21      0      B\n",
       "4         0.000000               0.688442        0.327869  ...   33      1      C\n",
       "\n",
       "[5 rows x 10 columns]"
      ]
     },
     "execution_count": 9,
     "metadata": {
      "tags": []
     },
     "output_type": "execute_result"
    }
   ],
   "source": [
    "diabetes.head()"
   ]
  },
  {
   "cell_type": "markdown",
   "metadata": {
    "colab_type": "text",
    "id": "QeAnjCVkzw3B"
   },
   "source": [
    "## Feature Columns"
   ]
  },
  {
   "cell_type": "code",
   "execution_count": 10,
   "metadata": {
    "colab": {
     "base_uri": "https://localhost:8080/",
     "height": 67
    },
    "colab_type": "code",
    "id": "Clyk59JCzw3C",
    "outputId": "2d8a518b-bacf-4c11-8b84-202bd31a7189"
   },
   "outputs": [
    {
     "data": {
      "text/plain": [
       "Index(['Number_pregnant', 'Glucose_concentration', 'Blood_pressure', 'Triceps',\n",
       "       'Insulin', 'BMI', 'Pedigree', 'Age', 'Class', 'Group'],\n",
       "      dtype='object')"
      ]
     },
     "execution_count": 10,
     "metadata": {
      "tags": []
     },
     "output_type": "execute_result"
    }
   ],
   "source": [
    "diabetes.columns"
   ]
  },
  {
   "cell_type": "code",
   "execution_count": 0,
   "metadata": {
    "colab": {},
    "colab_type": "code",
    "id": "M5P1b2_Bzw3F"
   },
   "outputs": [],
   "source": [
    "import tensorflow as tf"
   ]
  },
  {
   "cell_type": "markdown",
   "metadata": {
    "colab_type": "text",
    "id": "AdMrSNDkzw3H"
   },
   "source": [
    "### Continuous Features"
   ]
  },
  {
   "cell_type": "code",
   "execution_count": 0,
   "metadata": {
    "colab": {},
    "colab_type": "code",
    "id": "-4C3dj02zw3I"
   },
   "outputs": [],
   "source": [
    "num_preg = tf.feature_column.numeric_column('Number_pregnant')\n",
    "plasma_gluc = tf.feature_column.numeric_column('Glucose_concentration')\n",
    "dias_press = tf.feature_column.numeric_column('Blood_pressure')\n",
    "tricep = tf.feature_column.numeric_column('Triceps')\n",
    "insulin = tf.feature_column.numeric_column('Insulin')\n",
    "bmi = tf.feature_column.numeric_column('BMI')\n",
    "diabetes_pedigree = tf.feature_column.numeric_column('Pedigree')\n",
    "age = tf.feature_column.numeric_column('Age')"
   ]
  },
  {
   "cell_type": "markdown",
   "metadata": {
    "colab_type": "text",
    "id": "OnUEHETpzw3U"
   },
   "source": [
    "## Categorical Features"
   ]
  },
  {
   "cell_type": "code",
   "execution_count": 0,
   "metadata": {
    "colab": {},
    "colab_type": "code",
    "id": "uTcC8un9zw3V"
   },
   "outputs": [],
   "source": [
    "assigned_group = tf.feature_column.categorical_column_with_vocabulary_list('Group', ['A', 'B', 'C', 'D'])\n",
    "#alternatively\n",
    "#assigned_group = tf.feature_column.categorical_column_with_hash_bucket('Group', hash_bucket_size=10000)\n"
   ]
  },
  {
   "cell_type": "markdown",
   "metadata": {
    "colab_type": "text",
    "id": "WCdHxGNazw3Z"
   },
   "source": [
    "### Converting Continuous to Categorical type"
   ]
  },
  {
   "cell_type": "code",
   "execution_count": 0,
   "metadata": {
    "colab": {},
    "colab_type": "code",
    "id": "F_wtgiUKzw3Z"
   },
   "outputs": [],
   "source": [
    "import matplotlib.pyplot as plt\n",
    "%matplotlib inline"
   ]
  },
  {
   "cell_type": "code",
   "execution_count": 15,
   "metadata": {
    "colab": {
     "base_uri": "https://localhost:8080/",
     "height": 286
    },
    "colab_type": "code",
    "id": "fxvpJo8Ozw3c",
    "outputId": "1b7ec2c8-88de-491a-df2a-2cffb9e62e07",
    "scrolled": true
   },
   "outputs": [
    {
     "data": {
      "text/plain": [
       "<matplotlib.axes._subplots.AxesSubplot at 0x7f7eadd68128>"
      ]
     },
     "execution_count": 15,
     "metadata": {
      "tags": []
     },
     "output_type": "execute_result"
    },
    {
     "data": {
      "image/png": "[encoded data removed]",
      "text/plain": [
       "<Figure size 432x288 with 1 Axes>"
      ]
     },
     "metadata": {
      "tags": []
     },
     "output_type": "display_data"
    }
   ],
   "source": [
    "diabetes['Age'].hist(bins = 20)"
   ]
  },
  {
   "cell_type": "code",
   "execution_count": 0,
   "metadata": {
    "colab": {},
    "colab_type": "code",
    "id": "NhfZNH8Qzw3h"
   },
   "outputs": [],
   "source": [
    "#allow more exploring on different ranges of age\n",
    "age_buckets = tf.feature_column.bucketized_column(age, boundaries=list(range(20, 90, 10)))"
   ]
  },
  {
   "cell_type": "markdown",
   "metadata": {
    "colab_type": "text",
    "id": "Wpj-24xDzw3k"
   },
   "source": [
    "### Putting them together"
   ]
  },
  {
   "cell_type": "code",
   "execution_count": 0,
   "metadata": {
    "colab": {},
    "colab_type": "code",
    "id": "6754V1dszw3m"
   },
   "outputs": [],
   "source": [
    "feat_cols = [num_preg ,plasma_gluc,dias_press ,tricep ,insulin,bmi,diabetes_pedigree ,assigned_group, age_buckets]"
   ]
  },
  {
   "cell_type": "markdown",
   "metadata": {
    "colab_type": "text",
    "id": "hiiIor37zw3p"
   },
   "source": [
    "## Train Test Split"
   ]
  },
  {
   "cell_type": "code",
   "execution_count": 18,
   "metadata": {
    "colab": {
     "base_uri": "https://localhost:8080/",
     "height": 269
    },
    "colab_type": "code",
    "id": "v2UKEbANzw3r",
    "outputId": "2bc343ee-7b91-4920-98e5-07fe17149c15"
   },
   "outputs": [
    {
     "name": "stdout",
     "output_type": "stream",
     "text": [
      "<class 'pandas.core.frame.DataFrame'>\n",
      "RangeIndex: 768 entries, 0 to 767\n",
      "Data columns (total 10 columns):\n",
      "Number_pregnant          768 non-null float64\n",
      "Glucose_concentration    768 non-null float64\n",
      "Blood_pressure           768 non-null float64\n",
      "Triceps                  768 non-null float64\n",
      "Insulin                  768 non-null float64\n",
      "BMI                      768 non-null float64\n",
      "Pedigree                 768 non-null float64\n",
      "Age                      768 non-null int64\n",
      "Class                    768 non-null int64\n",
      "Group                    768 non-null object\n",
      "dtypes: float64(7), int64(2), object(1)\n",
      "memory usage: 60.1+ KB\n"
     ]
    }
   ],
   "source": [
    "diabetes.info()"
   ]
  },
  {
   "cell_type": "code",
   "execution_count": 0,
   "metadata": {
    "colab": {},
    "colab_type": "code",
    "id": "epl3qb4hzw3x"
   },
   "outputs": [],
   "source": [
    "x_data = diabetes.drop('Class', axis=1)"
   ]
  },
  {
   "cell_type": "code",
   "execution_count": 0,
   "metadata": {
    "colab": {},
    "colab_type": "code",
    "id": "3hyZkKvgzw33"
   },
   "outputs": [],
   "source": [
    "labels = diabetes['Class']"
   ]
  },
  {
   "cell_type": "code",
   "execution_count": 0,
   "metadata": {
    "colab": {},
    "colab_type": "code",
    "id": "vJyR73Yfzw38"
   },
   "outputs": [],
   "source": [
    "from sklearn.model_selection import train_test_split"
   ]
  },
  {
   "cell_type": "code",
   "execution_count": 0,
   "metadata": {
    "colab": {},
    "colab_type": "code",
    "id": "-KieA9QIzw3_"
   },
   "outputs": [],
   "source": [
    "x_train, x_test, y_train, y_test = train_test_split(x_data, labels, test_size = 0.2, random_state = 0)"
   ]
  },
  {
   "cell_type": "markdown",
   "metadata": {
    "colab_type": "text",
    "id": "x2NBCslFzw4B"
   },
   "source": [
    "### Input Function"
   ]
  },
  {
   "cell_type": "code",
   "execution_count": 0,
   "metadata": {
    "colab": {},
    "colab_type": "code",
    "id": "ggqkq8tTzw4C"
   },
   "outputs": [],
   "source": [
    "input_func = tf.estimator.inputs.pandas_input_fn(x=x_train, y=y_train, batch_size=10, num_epochs=100, shuffle=True)\n"
   ]
  },
  {
   "cell_type": "markdown",
   "metadata": {
    "colab_type": "text",
    "id": "fYZwM88vzw4E"
   },
   "source": [
    "## Creating the LinearClassifier Model"
   ]
  },
  {
   "cell_type": "code",
   "execution_count": 24,
   "metadata": {
    "colab": {
     "base_uri": "https://localhost:8080/",
     "height": 188
    },
    "colab_type": "code",
    "id": "9VoLMVYnzw4E",
    "outputId": "aedab4fa-ccff-4759-b0bb-12edc9937ad3"
   },
   "outputs": [
    {
     "name": "stdout",
     "output_type": "stream",
     "text": [
      "INFO:tensorflow:Using default config.\n",
      "WARNING:tensorflow:Using temporary folder as model directory: /tmp/tmpropf_lmr\n",
      "INFO:tensorflow:Using config: {'_model_dir': '/tmp/tmpropf_lmr', '_tf_random_seed': None, '_save_summary_steps': 100, '_save_checkpoints_steps': None, '_save_checkpoints_secs': 600, '_session_config': allow_soft_placement: true\n",
      "graph_options {\n",
      "  rewrite_options {\n",
      "    meta_optimizer_iterations: ONE\n",
      "  }\n",
      "}\n",
      ", '_keep_checkpoint_max': 5, '_keep_checkpoint_every_n_hours': 10000, '_log_step_count_steps': 100, '_train_distribute': None, '_device_fn': None, '_protocol': None, '_eval_distribute': None, '_experimental_distribute': None, '_service': None, '_cluster_spec': <tensorflow.python.training.server_lib.ClusterSpec object at 0x7f7ea3425080>, '_task_type': 'worker', '_task_id': 0, '_global_id_in_cluster': 0, '_master': '', '_evaluation_master': '', '_is_chief': True, '_num_ps_replicas': 0, '_num_worker_replicas': 1}\n"
     ]
    }
   ],
   "source": [
    "model = tf.estimator.LinearClassifier(feature_columns=feat_cols, n_classes=2)"
   ]
  },
  {
   "cell_type": "code",
   "execution_count": 25,
   "metadata": {
    "colab": {
     "base_uri": "https://localhost:8080/",
     "height": 2574
    },
    "colab_type": "code",
    "id": "dr8WRGHpzw4I",
    "outputId": "0b42037c-331a-4ba9-94e1-3bb3a0d81195"
   },
   "outputs": [
    {
     "name": "stdout",
     "output_type": "stream",
     "text": [
      "WARNING:tensorflow:From /usr/local/lib/python3.6/dist-packages/tensorflow/python/framework/op_def_library.py:263: colocate_with (from tensorflow.python.framework.ops) is deprecated and will be removed in a future version.\n",
      "Instructions for updating:\n",
      "Colocations handled automatically by placer.\n",
      "WARNING:tensorflow:From /usr/local/lib/python3.6/dist-packages/tensorflow_estimator/python/estimator/inputs/queues/feeding_queue_runner.py:62: QueueRunner.__init__ (from tensorflow.python.training.queue_runner_impl) is deprecated and will be removed in a future version.\n",
      "Instructions for updating:\n",
      "To construct input pipelines, use the `tf.data` module.\n",
      "WARNING:tensorflow:From /usr/local/lib/python3.6/dist-packages/tensorflow_estimator/python/estimator/inputs/queues/feeding_functions.py:500: add_queue_runner (from tensorflow.python.training.queue_runner_impl) is deprecated and will be removed in a future version.\n",
      "Instructions for updating:\n",
      "To construct input pipelines, use the `tf.data` module.\n",
      "INFO:tensorflow:Calling model_fn.\n",
      "WARNING:tensorflow:From /usr/local/lib/python3.6/dist-packages/tensorflow/python/feature_column/feature_column_v2.py:2703: to_float (from tensorflow.python.ops.math_ops) is deprecated and will be removed in a future version.\n",
      "Instructions for updating:\n",
      "Use tf.cast instead.\n",
      "WARNING:tensorflow:From /usr/local/lib/python3.6/dist-packages/tensorflow/python/feature_column/feature_column_v2.py:2898: to_int64 (from tensorflow.python.ops.math_ops) is deprecated and will be removed in a future version.\n",
      "Instructions for updating:\n",
      "Use tf.cast instead.\n",
      "INFO:tensorflow:Done calling model_fn.\n",
      "INFO:tensorflow:Create CheckpointSaverHook.\n",
      "INFO:tensorflow:Graph was finalized.\n",
      "INFO:tensorflow:Running local_init_op.\n",
      "INFO:tensorflow:Done running local_init_op.\n",
      "WARNING:tensorflow:From /usr/local/lib/python3.6/dist-packages/tensorflow/python/training/monitored_session.py:809: start_queue_runners (from tensorflow.python.training.queue_runner_impl) is deprecated and will be removed in a future version.\n",
      "Instructions for updating:\n",
      "To construct input pipelines, use the `tf.data` module.\n",
      "INFO:tensorflow:Saving checkpoints for 0 into /tmp/tmpropf_lmr/model.ckpt.\n",
      "INFO:tensorflow:loss = 6.931472, step = 1\n",
      "INFO:tensorflow:global_step/sec: 238.988\n",
      "INFO:tensorflow:loss = 6.0764484, step = 101 (0.430 sec)\n",
      "INFO:tensorflow:global_step/sec: 337.358\n",
      "INFO:tensorflow:loss = 6.0737844, step = 201 (0.306 sec)\n",
      "INFO:tensorflow:global_step/sec: 341.992\n",
      "INFO:tensorflow:loss = 6.931815, step = 301 (0.275 sec)\n",
      "INFO:tensorflow:global_step/sec: 349.029\n",
      "INFO:tensorflow:loss = 5.2050223, step = 401 (0.297 sec)\n",
      "INFO:tensorflow:global_step/sec: 318.89\n",
      "INFO:tensorflow:loss = 6.0694284, step = 501 (0.311 sec)\n",
      "INFO:tensorflow:global_step/sec: 312.809\n",
      "INFO:tensorflow:loss = 4.146827, step = 601 (0.322 sec)\n",
      "INFO:tensorflow:global_step/sec: 310.712\n",
      "INFO:tensorflow:loss = 5.059153, step = 701 (0.323 sec)\n",
      "INFO:tensorflow:global_step/sec: 315.465\n",
      "INFO:tensorflow:loss = 4.3840203, step = 801 (0.313 sec)\n",
      "INFO:tensorflow:global_step/sec: 298.399\n",
      "INFO:tensorflow:loss = 4.6218495, step = 901 (0.329 sec)\n",
      "INFO:tensorflow:global_step/sec: 315.933\n",
      "INFO:tensorflow:loss = 6.921629, step = 1001 (0.321 sec)\n",
      "INFO:tensorflow:global_step/sec: 312.416\n",
      "INFO:tensorflow:loss = 4.5307503, step = 1101 (0.329 sec)\n",
      "INFO:tensorflow:global_step/sec: 301.628\n",
      "INFO:tensorflow:loss = 7.590888, step = 1201 (0.325 sec)\n",
      "INFO:tensorflow:global_step/sec: 302.052\n",
      "INFO:tensorflow:loss = 5.2557883, step = 1301 (0.334 sec)\n",
      "INFO:tensorflow:global_step/sec: 311.797\n",
      "INFO:tensorflow:loss = 5.403078, step = 1401 (0.314 sec)\n",
      "INFO:tensorflow:global_step/sec: 303.014\n",
      "INFO:tensorflow:loss = 4.928341, step = 1501 (0.323 sec)\n",
      "INFO:tensorflow:global_step/sec: 300.224\n",
      "INFO:tensorflow:loss = 4.8931704, step = 1601 (0.334 sec)\n",
      "INFO:tensorflow:global_step/sec: 327.616\n",
      "INFO:tensorflow:loss = 7.4144287, step = 1701 (0.314 sec)\n",
      "INFO:tensorflow:global_step/sec: 297.435\n",
      "INFO:tensorflow:loss = 3.9484727, step = 1801 (0.343 sec)\n",
      "INFO:tensorflow:global_step/sec: 312.608\n",
      "INFO:tensorflow:loss = 4.7963147, step = 1901 (0.307 sec)\n",
      "INFO:tensorflow:global_step/sec: 306.817\n",
      "INFO:tensorflow:loss = 6.3363914, step = 2001 (0.343 sec)\n",
      "INFO:tensorflow:global_step/sec: 290.739\n",
      "INFO:tensorflow:loss = 4.372117, step = 2101 (0.328 sec)\n",
      "INFO:tensorflow:global_step/sec: 315.161\n",
      "INFO:tensorflow:loss = 6.220801, step = 2201 (0.316 sec)\n",
      "INFO:tensorflow:global_step/sec: 322.108\n",
      "INFO:tensorflow:loss = 3.9331114, step = 2301 (0.316 sec)\n",
      "INFO:tensorflow:global_step/sec: 299.298\n",
      "INFO:tensorflow:loss = 5.0949316, step = 2401 (0.329 sec)\n",
      "INFO:tensorflow:global_step/sec: 301.835\n",
      "INFO:tensorflow:loss = 5.8579407, step = 2501 (0.338 sec)\n",
      "INFO:tensorflow:global_step/sec: 312.627\n",
      "INFO:tensorflow:loss = 7.373474, step = 2601 (0.312 sec)\n",
      "INFO:tensorflow:global_step/sec: 311.122\n",
      "INFO:tensorflow:loss = 6.9426203, step = 2701 (0.320 sec)\n",
      "INFO:tensorflow:global_step/sec: 297.452\n",
      "INFO:tensorflow:loss = 4.577305, step = 2801 (0.341 sec)\n",
      "INFO:tensorflow:global_step/sec: 309.582\n",
      "INFO:tensorflow:loss = 5.31706, step = 2901 (0.325 sec)\n",
      "INFO:tensorflow:global_step/sec: 304.645\n",
      "INFO:tensorflow:loss = 4.5243044, step = 3001 (0.321 sec)\n",
      "INFO:tensorflow:global_step/sec: 305.391\n",
      "INFO:tensorflow:loss = 5.171611, step = 3101 (0.340 sec)\n",
      "INFO:tensorflow:global_step/sec: 312.008\n",
      "INFO:tensorflow:loss = 3.3326356, step = 3201 (0.308 sec)\n",
      "INFO:tensorflow:global_step/sec: 314.475\n",
      "INFO:tensorflow:loss = 7.925127, step = 3301 (0.327 sec)\n",
      "INFO:tensorflow:global_step/sec: 318.381\n",
      "INFO:tensorflow:loss = 4.0187116, step = 3401 (0.306 sec)\n",
      "INFO:tensorflow:global_step/sec: 322.054\n",
      "INFO:tensorflow:loss = 3.273856, step = 3501 (0.310 sec)\n",
      "INFO:tensorflow:global_step/sec: 315.267\n",
      "INFO:tensorflow:loss = 3.9801226, step = 3601 (0.315 sec)\n",
      "INFO:tensorflow:global_step/sec: 304.177\n",
      "INFO:tensorflow:loss = 5.238508, step = 3701 (0.336 sec)\n",
      "INFO:tensorflow:global_step/sec: 307.774\n",
      "INFO:tensorflow:loss = 5.762641, step = 3801 (0.321 sec)\n",
      "INFO:tensorflow:global_step/sec: 326.399\n",
      "INFO:tensorflow:loss = 5.10331, step = 3901 (0.302 sec)\n",
      "INFO:tensorflow:global_step/sec: 310.535\n",
      "INFO:tensorflow:loss = 3.2539382, step = 4001 (0.325 sec)\n",
      "INFO:tensorflow:global_step/sec: 321.309\n",
      "INFO:tensorflow:loss = 5.6237645, step = 4101 (0.313 sec)\n",
      "INFO:tensorflow:global_step/sec: 311.048\n",
      "INFO:tensorflow:loss = 4.417774, step = 4201 (0.320 sec)\n",
      "INFO:tensorflow:global_step/sec: 312.244\n",
      "INFO:tensorflow:loss = 7.2460017, step = 4301 (0.320 sec)\n",
      "INFO:tensorflow:global_step/sec: 303.812\n",
      "INFO:tensorflow:loss = 5.249662, step = 4401 (0.329 sec)\n",
      "INFO:tensorflow:global_step/sec: 326.829\n",
      "INFO:tensorflow:loss = 5.0834246, step = 4501 (0.309 sec)\n",
      "INFO:tensorflow:global_step/sec: 319.673\n",
      "INFO:tensorflow:loss = 5.361104, step = 4601 (0.321 sec)\n",
      "INFO:tensorflow:global_step/sec: 306.513\n",
      "INFO:tensorflow:loss = 4.7555904, step = 4701 (0.324 sec)\n",
      "INFO:tensorflow:global_step/sec: 321.007\n",
      "INFO:tensorflow:loss = 4.612161, step = 4801 (0.301 sec)\n",
      "INFO:tensorflow:global_step/sec: 310.851\n",
      "INFO:tensorflow:loss = 4.385734, step = 4901 (0.325 sec)\n",
      "INFO:tensorflow:global_step/sec: 304.95\n",
      "INFO:tensorflow:loss = 3.5118926, step = 5001 (0.332 sec)\n",
      "INFO:tensorflow:global_step/sec: 314.077\n",
      "INFO:tensorflow:loss = 6.051626, step = 5101 (0.311 sec)\n",
      "INFO:tensorflow:global_step/sec: 315.213\n",
      "INFO:tensorflow:loss = 4.8827295, step = 5201 (0.343 sec)\n",
      "INFO:tensorflow:global_step/sec: 289.032\n",
      "INFO:tensorflow:loss = 5.9903007, step = 5301 (0.332 sec)\n",
      "INFO:tensorflow:global_step/sec: 317.151\n",
      "INFO:tensorflow:loss = 4.594344, step = 5401 (0.308 sec)\n",
      "INFO:tensorflow:global_step/sec: 302.358\n",
      "INFO:tensorflow:loss = 3.7716513, step = 5501 (0.332 sec)\n",
      "INFO:tensorflow:global_step/sec: 311.377\n",
      "INFO:tensorflow:loss = 4.5232406, step = 5601 (0.319 sec)\n",
      "INFO:tensorflow:global_step/sec: 334.195\n",
      "INFO:tensorflow:loss = 2.7314668, step = 5701 (0.311 sec)\n",
      "INFO:tensorflow:global_step/sec: 317.126\n",
      "INFO:tensorflow:loss = 4.801823, step = 5801 (0.298 sec)\n",
      "INFO:tensorflow:global_step/sec: 325.261\n",
      "INFO:tensorflow:loss = 6.259401, step = 5901 (0.308 sec)\n",
      "INFO:tensorflow:global_step/sec: 321.041\n",
      "INFO:tensorflow:loss = 4.5968857, step = 6001 (0.321 sec)\n",
      "INFO:tensorflow:global_step/sec: 316.602\n",
      "INFO:tensorflow:loss = 3.146483, step = 6101 (0.312 sec)\n",
      "INFO:tensorflow:Saving checkpoints for 6140 into /tmp/tmpropf_lmr/model.ckpt.\n",
      "INFO:tensorflow:Loss for final step: 6.8575263.\n"
     ]
    },
    {
     "data": {
      "text/plain": [
       "<tensorflow_estimator.python.estimator.canned.linear.LinearClassifier at 0x7f7ea3407390>"
      ]
     },
     "execution_count": 25,
     "metadata": {
      "tags": []
     },
     "output_type": "execute_result"
    }
   ],
   "source": [
    "model.train(input_fn=input_func)"
   ]
  },
  {
   "cell_type": "markdown",
   "metadata": {
    "colab_type": "text",
    "id": "mC6x8xknzw4K"
   },
   "source": [
    "## Evaluation"
   ]
  },
  {
   "cell_type": "code",
   "execution_count": 0,
   "metadata": {
    "colab": {},
    "colab_type": "code",
    "id": "DnhHUHiCzw4L"
   },
   "outputs": [],
   "source": [
    "train_input_func = tf.estimator.inputs.pandas_input_fn(x=x_train, y=y_train, batch_size=1, num_epochs=1, shuffle=False)\n",
    "\n",
    "eval_input_func = tf.estimator.inputs.pandas_input_fn(x = x_test, y=y_test, batch_size=1, num_epochs=1, shuffle=False)\n"
   ]
  },
  {
   "cell_type": "code",
   "execution_count": 27,
   "metadata": {
    "colab": {
     "base_uri": "https://localhost:8080/",
     "height": 541
    },
    "colab_type": "code",
    "id": "LYcisSYYzw4N",
    "outputId": "77982d5f-c350-47e9-b95b-625ee819d01e",
    "scrolled": false
   },
   "outputs": [
    {
     "name": "stdout",
     "output_type": "stream",
     "text": [
      "INFO:tensorflow:Calling model_fn.\n",
      "WARNING:tensorflow:From /usr/local/lib/python3.6/dist-packages/tensorflow/python/ops/metrics_impl.py:2002: div (from tensorflow.python.ops.math_ops) is deprecated and will be removed in a future version.\n",
      "Instructions for updating:\n",
      "Deprecated in favor of operator or tf.math.divide.\n",
      "WARNING:tensorflow:Trapezoidal rule is known to produce incorrect PR-AUCs; please switch to \"careful_interpolation\" instead.\n",
      "WARNING:tensorflow:Trapezoidal rule is known to produce incorrect PR-AUCs; please switch to \"careful_interpolation\" instead.\n",
      "INFO:tensorflow:Done calling model_fn.\n",
      "INFO:tensorflow:Starting evaluation at 2019-06-13T03:10:31Z\n",
      "INFO:tensorflow:Graph was finalized.\n",
      "WARNING:tensorflow:From /usr/local/lib/python3.6/dist-packages/tensorflow/python/training/saver.py:1266: checkpoint_exists (from tensorflow.python.training.checkpoint_management) is deprecated and will be removed in a future version.\n",
      "Instructions for updating:\n",
      "Use standard file APIs to check for files with this prefix.\n",
      "INFO:tensorflow:Restoring parameters from /tmp/tmpropf_lmr/model.ckpt-6140\n",
      "INFO:tensorflow:Running local_init_op.\n",
      "INFO:tensorflow:Done running local_init_op.\n",
      "INFO:tensorflow:Finished evaluation at 2019-06-13-03:10:34\n",
      "INFO:tensorflow:Saving dict for global step 6140: accuracy = 0.7703583, accuracy_baseline = 0.64006513, auc = 0.83189994, auc_precision_recall = 0.71928334, average_loss = 0.48950306, global_step = 6140, label/mean = 0.35993487, loss = 0.48950306, precision = 0.7222222, prediction/mean = 0.36732802, recall = 0.5882353\n",
      "INFO:tensorflow:Saving 'checkpoint_path' summary for global step 6140: /tmp/tmpropf_lmr/model.ckpt-6140\n",
      "INFO:tensorflow:Calling model_fn.\n",
      "WARNING:tensorflow:Trapezoidal rule is known to produce incorrect PR-AUCs; please switch to \"careful_interpolation\" instead.\n",
      "WARNING:tensorflow:Trapezoidal rule is known to produce incorrect PR-AUCs; please switch to \"careful_interpolation\" instead.\n",
      "INFO:tensorflow:Done calling model_fn.\n",
      "INFO:tensorflow:Starting evaluation at 2019-06-13T03:10:35Z\n",
      "INFO:tensorflow:Graph was finalized.\n",
      "INFO:tensorflow:Restoring parameters from /tmp/tmpropf_lmr/model.ckpt-6140\n",
      "INFO:tensorflow:Running local_init_op.\n",
      "INFO:tensorflow:Done running local_init_op.\n",
      "INFO:tensorflow:Finished evaluation at 2019-06-13-03:10:37\n",
      "INFO:tensorflow:Saving dict for global step 6140: accuracy = 0.77922076, accuracy_baseline = 0.6948052, auc = 0.82839537, auc_precision_recall = 0.6683782, average_loss = 0.47254068, global_step = 6140, label/mean = 0.3051948, loss = 0.47254068, precision = 0.6756757, prediction/mean = 0.34925416, recall = 0.5319149\n",
      "INFO:tensorflow:Saving 'checkpoint_path' summary for global step 6140: /tmp/tmpropf_lmr/model.ckpt-6140\n"
     ]
    }
   ],
   "source": [
    "#different steps output confusing Evaluation [?/?]\n",
    "train_results = model.evaluate(train_input_func)\n",
    "eval_results = model.evaluate(eval_input_func)"
   ]
  },
  {
   "cell_type": "code",
   "execution_count": 28,
   "metadata": {
    "colab": {
     "base_uri": "https://localhost:8080/",
     "height": 202
    },
    "colab_type": "code",
    "id": "_9RoUEdHzw4S",
    "outputId": "1341cbda-d85d-4cc9-a1bf-4aafff61b4bb"
   },
   "outputs": [
    {
     "name": "stdout",
     "output_type": "stream",
     "text": [
      "accuracy 0.7703583 0.77922076\n",
      "accuracy_baseline 0.64006513 0.6948052\n",
      "auc 0.83189994 0.82839537\n",
      "auc_precision_recall 0.71928334 0.6683782\n",
      "average_loss 0.48950306 0.47254068\n",
      "label/mean 0.35993487 0.3051948\n",
      "loss 0.48950306 0.47254068\n",
      "precision 0.7222222 0.6756757\n",
      "prediction/mean 0.36732802 0.34925416\n",
      "recall 0.5882353 0.5319149\n",
      "global_step 6140 6140\n"
     ]
    }
   ],
   "source": [
    "for key in train_results:\n",
    "    print (key, train_results[key], eval_results[key])"
   ]
  },
  {
   "cell_type": "markdown",
   "metadata": {
    "colab_type": "text",
    "id": "K3AnhUifzw4V"
   },
   "source": [
    "## Prediction"
   ]
  },
  {
   "cell_type": "code",
   "execution_count": 0,
   "metadata": {
    "colab": {},
    "colab_type": "code",
    "id": "TMV-7q5ozw4W"
   },
   "outputs": [],
   "source": [
    "pred_input_func = tf.estimator.inputs.pandas_input_fn(x = x_test, batch_size=1, num_epochs=1, shuffle=False)\n"
   ]
  },
  {
   "cell_type": "code",
   "execution_count": 0,
   "metadata": {
    "colab": {},
    "colab_type": "code",
    "id": "UKtF7bLGzw4Z"
   },
   "outputs": [],
   "source": [
    "predictions = model.predict(pred_input_func)"
   ]
  },
  {
   "cell_type": "code",
   "execution_count": 31,
   "metadata": {
    "colab": {
     "base_uri": "https://localhost:8080/",
     "height": 118
    },
    "colab_type": "code",
    "id": "GEekSzZLzw4c",
    "outputId": "ff5064b7-ee93-46b7-babf-cc9ce5e5cf75",
    "scrolled": true
   },
   "outputs": [
    {
     "name": "stdout",
     "output_type": "stream",
     "text": [
      "INFO:tensorflow:Calling model_fn.\n",
      "INFO:tensorflow:Done calling model_fn.\n",
      "INFO:tensorflow:Graph was finalized.\n",
      "INFO:tensorflow:Restoring parameters from /tmp/tmpropf_lmr/model.ckpt-6140\n",
      "INFO:tensorflow:Running local_init_op.\n",
      "INFO:tensorflow:Done running local_init_op.\n"
     ]
    }
   ],
   "source": [
    "pred_values = list(predictions)"
   ]
  },
  {
   "cell_type": "code",
   "execution_count": 32,
   "metadata": {
    "colab": {
     "base_uri": "https://localhost:8080/",
     "height": 70
    },
    "colab_type": "code",
    "id": "oemNDZiozw4g",
    "outputId": "d125e237-566e-47f8-9d0f-e4cd4352707f"
   },
   "outputs": [
    {
     "name": "stdout",
     "output_type": "stream",
     "text": [
      "The classes are:\n",
      "[b'1'] [b'0'] [b'0'] [b'1'] [b'0'] [b'0'] [b'1'] [b'1'] [b'0'] [b'1'] [b'0'] [b'1'] [b'0'] [b'0'] [b'0'] [b'0'] [b'1'] [b'0'] [b'0'] [b'0'] [b'1'] [b'0'] [b'0'] [b'0'] [b'0'] [b'0'] [b'0'] [b'1'] [b'0'] [b'0'] [b'1'] [b'0'] [b'0'] [b'0'] [b'0'] [b'1'] [b'1'] [b'0'] [b'0'] [b'0'] [b'0'] [b'0'] [b'0'] [b'0'] [b'1'] [b'0'] [b'0'] [b'0'] [b'0'] [b'0'] [b'0'] [b'0'] [b'1'] [b'0'] [b'0'] [b'0'] [b'0'] [b'0'] [b'0'] [b'0'] [b'1'] [b'1'] [b'0'] [b'1'] [b'0'] [b'1'] [b'1'] [b'0'] [b'0'] [b'0'] [b'0'] [b'1'] [b'0'] [b'1'] [b'0'] [b'0'] [b'0'] [b'1'] [b'0'] [b'0'] [b'0'] [b'0'] [b'0'] [b'0'] [b'0'] [b'0'] [b'0'] [b'1'] [b'1'] [b'0'] [b'0'] [b'0'] [b'0'] [b'0'] [b'1'] [b'0'] [b'0'] [b'0'] [b'1'] [b'0'] [b'0'] [b'0'] [b'0'] [b'0'] [b'0'] [b'0'] [b'0'] [b'0'] [b'0'] [b'1'] [b'0'] [b'0'] [b'1'] [b'1'] [b'0'] [b'1'] [b'0'] [b'1'] [b'0'] [b'1'] [b'0'] [b'0'] [b'0'] [b'0'] [b'0'] [b'0'] [b'0'] [b'1'] [b'0'] [b'0'] [b'0'] [b'0'] [b'0'] [b'1'] [b'1'] [b'1'] [b'0'] [b'0'] [b'0'] [b'0'] [b'0'] [b'1'] [b'0'] [b'0'] [b'0'] [b'0'] [b'0'] [b'0'] [b'0'] [b'0'] [b'0'] [b'0'] [b'0'] [b'0'] "
     ]
    }
   ],
   "source": [
    "print ('The classes are:')\n",
    "for i in range(len(pred_values)):\n",
    "    print (pred_values[i]['classes'], end = ' ')"
   ]
  },
  {
   "cell_type": "markdown",
   "metadata": {
    "colab_type": "text",
    "id": "AxE02vJrzw4l"
   },
   "source": [
    "## DNN Classifier"
   ]
  },
  {
   "cell_type": "code",
   "execution_count": 33,
   "metadata": {
    "colab": {
     "base_uri": "https://localhost:8080/",
     "height": 188
    },
    "colab_type": "code",
    "id": "B4bcsGJ0zw4m",
    "outputId": "3f493806-59ea-4434-92ee-a5cad5b302d6"
   },
   "outputs": [
    {
     "name": "stdout",
     "output_type": "stream",
     "text": [
      "INFO:tensorflow:Using default config.\n",
      "WARNING:tensorflow:Using temporary folder as model directory: /tmp/tmpxow_16pa\n",
      "INFO:tensorflow:Using config: {'_model_dir': '/tmp/tmpxow_16pa', '_tf_random_seed': None, '_save_summary_steps': 100, '_save_checkpoints_steps': None, '_save_checkpoints_secs': 600, '_session_config': allow_soft_placement: true\n",
      "graph_options {\n",
      "  rewrite_options {\n",
      "    meta_optimizer_iterations: ONE\n",
      "  }\n",
      "}\n",
      ", '_keep_checkpoint_max': 5, '_keep_checkpoint_every_n_hours': 10000, '_log_step_count_steps': 100, '_train_distribute': None, '_device_fn': None, '_protocol': None, '_eval_distribute': None, '_experimental_distribute': None, '_service': None, '_cluster_spec': <tensorflow.python.training.server_lib.ClusterSpec object at 0x7f7ea2e07a58>, '_task_type': 'worker', '_task_id': 0, '_global_id_in_cluster': 0, '_master': '', '_evaluation_master': '', '_is_chief': True, '_num_ps_replicas': 0, '_num_worker_replicas': 1}\n"
     ]
    }
   ],
   "source": [
    "dnn_model = tf.estimator.DNNClassifier(hidden_units=[10, 10, 10], feature_columns=feat_cols, n_classes=2)"
   ]
  },
  {
   "cell_type": "code",
   "execution_count": 34,
   "metadata": {
    "colab": {
     "base_uri": "https://localhost:8080/",
     "height": 341
    },
    "colab_type": "code",
    "id": "Vx59EK_vzw4s",
    "outputId": "ddb13316-47b5-4b54-d45b-3f630db03cd0"
   },
   "outputs": [
    {
     "name": "stdout",
     "output_type": "stream",
     "text": [
      "INFO:tensorflow:Calling model_fn.\n"
     ]
    },
    {
     "ename": "ValueError",
     "evalue": "ignored",
     "output_type": "error",
     "traceback": [
      "\u001b[0;31m---------------------------------------------------------------------------\u001b[0m",
      "\u001b[0;31mValueError\u001b[0m                                Traceback (most recent call last)",
      "\u001b[0;32m<ipython-input-34-477c7545f6fb>\u001b[0m in \u001b[0;36m<module>\u001b[0;34m()\u001b[0m\n\u001b[0;32m----> 1\u001b[0;31m \u001b[0mdnn_model\u001b[0m\u001b[0;34m.\u001b[0m\u001b[0mtrain\u001b[0m\u001b[0;34m(\u001b[0m\u001b[0minput_fn\u001b[0m\u001b[0;34m=\u001b[0m\u001b[0minput_func\u001b[0m\u001b[0;34m)\u001b[0m\u001b[0;34m\u001b[0m\u001b[0;34m\u001b[0m\u001b[0m\n\u001b[0m",
      "\u001b[0;32m/usr/local/lib/python3.6/dist-packages/tensorflow_estimator/python/estimator/estimator.py\u001b[0m in \u001b[0;36mtrain\u001b[0;34m(self, input_fn, hooks, steps, max_steps, saving_listeners)\u001b[0m\n\u001b[1;32m    356\u001b[0m \u001b[0;34m\u001b[0m\u001b[0m\n\u001b[1;32m    357\u001b[0m       \u001b[0msaving_listeners\u001b[0m \u001b[0;34m=\u001b[0m \u001b[0m_check_listeners_type\u001b[0m\u001b[0;34m(\u001b[0m\u001b[0msaving_listeners\u001b[0m\u001b[0;34m)\u001b[0m\u001b[0;34m\u001b[0m\u001b[0;34m\u001b[0m\u001b[0m\n\u001b[0;32m--> 358\u001b[0;31m       \u001b[0mloss\u001b[0m \u001b[0;34m=\u001b[0m \u001b[0mself\u001b[0m\u001b[0;34m.\u001b[0m\u001b[0m_train_model\u001b[0m\u001b[0;34m(\u001b[0m\u001b[0minput_fn\u001b[0m\u001b[0;34m,\u001b[0m \u001b[0mhooks\u001b[0m\u001b[0;34m,\u001b[0m \u001b[0msaving_listeners\u001b[0m\u001b[0;34m)\u001b[0m\u001b[0;34m\u001b[0m\u001b[0;34m\u001b[0m\u001b[0m\n\u001b[0m\u001b[1;32m    359\u001b[0m       \u001b[0mlogging\u001b[0m\u001b[0;34m.\u001b[0m\u001b[0minfo\u001b[0m\u001b[0;34m(\u001b[0m\u001b[0;34m'Loss for final step: %s.'\u001b[0m\u001b[0;34m,\u001b[0m \u001b[0mloss\u001b[0m\u001b[0;34m)\u001b[0m\u001b[0;34m\u001b[0m\u001b[0;34m\u001b[0m\u001b[0m\n\u001b[1;32m    360\u001b[0m       \u001b[0;32mreturn\u001b[0m \u001b[0mself\u001b[0m\u001b[0;34m\u001b[0m\u001b[0;34m\u001b[0m\u001b[0m\n",
      "\u001b[0;32m/usr/local/lib/python3.6/dist-packages/tensorflow_estimator/python/estimator/estimator.py\u001b[0m in \u001b[0;36m_train_model\u001b[0;34m(self, input_fn, hooks, saving_listeners)\u001b[0m\n\u001b[1;32m   1122\u001b[0m       \u001b[0;32mreturn\u001b[0m \u001b[0mself\u001b[0m\u001b[0;34m.\u001b[0m\u001b[0m_train_model_distributed\u001b[0m\u001b[0;34m(\u001b[0m\u001b[0minput_fn\u001b[0m\u001b[0;34m,\u001b[0m \u001b[0mhooks\u001b[0m\u001b[0;34m,\u001b[0m \u001b[0msaving_listeners\u001b[0m\u001b[0;34m)\u001b[0m\u001b[0;34m\u001b[0m\u001b[0;34m\u001b[0m\u001b[0m\n\u001b[1;32m   1123\u001b[0m     \u001b[0;32melse\u001b[0m\u001b[0;34m:\u001b[0m\u001b[0;34m\u001b[0m\u001b[0;34m\u001b[0m\u001b[0m\n\u001b[0;32m-> 1124\u001b[0;31m       \u001b[0;32mreturn\u001b[0m \u001b[0mself\u001b[0m\u001b[0;34m.\u001b[0m\u001b[0m_train_model_default\u001b[0m\u001b[0;34m(\u001b[0m\u001b[0minput_fn\u001b[0m\u001b[0;34m,\u001b[0m \u001b[0mhooks\u001b[0m\u001b[0;34m,\u001b[0m \u001b[0msaving_listeners\u001b[0m\u001b[0;34m)\u001b[0m\u001b[0;34m\u001b[0m\u001b[0;34m\u001b[0m\u001b[0m\n\u001b[0m\u001b[1;32m   1125\u001b[0m \u001b[0;34m\u001b[0m\u001b[0m\n\u001b[1;32m   1126\u001b[0m   \u001b[0;32mdef\u001b[0m \u001b[0m_train_model_default\u001b[0m\u001b[0;34m(\u001b[0m\u001b[0mself\u001b[0m\u001b[0;34m,\u001b[0m \u001b[0minput_fn\u001b[0m\u001b[0;34m,\u001b[0m \u001b[0mhooks\u001b[0m\u001b[0;34m,\u001b[0m \u001b[0msaving_listeners\u001b[0m\u001b[0;34m)\u001b[0m\u001b[0;34m:\u001b[0m\u001b[0;34m\u001b[0m\u001b[0;34m\u001b[0m\u001b[0m\n",
      "\u001b[0;32m/usr/local/lib/python3.6/dist-packages/tensorflow_estimator/python/estimator/estimator.py\u001b[0m in \u001b[0;36m_train_model_default\u001b[0;34m(self, input_fn, hooks, saving_listeners)\u001b[0m\n\u001b[1;32m   1152\u001b[0m       \u001b[0mworker_hooks\u001b[0m\u001b[0;34m.\u001b[0m\u001b[0mextend\u001b[0m\u001b[0;34m(\u001b[0m\u001b[0minput_hooks\u001b[0m\u001b[0;34m)\u001b[0m\u001b[0;34m\u001b[0m\u001b[0;34m\u001b[0m\u001b[0m\n\u001b[1;32m   1153\u001b[0m       estimator_spec = self._call_model_fn(\n\u001b[0;32m-> 1154\u001b[0;31m           features, labels, model_fn_lib.ModeKeys.TRAIN, self.config)\n\u001b[0m\u001b[1;32m   1155\u001b[0m       \u001b[0mglobal_step_tensor\u001b[0m \u001b[0;34m=\u001b[0m \u001b[0mtraining_util\u001b[0m\u001b[0;34m.\u001b[0m\u001b[0mget_global_step\u001b[0m\u001b[0;34m(\u001b[0m\u001b[0mg\u001b[0m\u001b[0;34m)\u001b[0m\u001b[0;34m\u001b[0m\u001b[0;34m\u001b[0m\u001b[0m\n\u001b[1;32m   1156\u001b[0m       return self._train_with_estimator_spec(estimator_spec, worker_hooks,\n",
      "\u001b[0;32m/usr/local/lib/python3.6/dist-packages/tensorflow_estimator/python/estimator/estimator.py\u001b[0m in \u001b[0;36m_call_model_fn\u001b[0;34m(self, features, labels, mode, config)\u001b[0m\n\u001b[1;32m   1110\u001b[0m \u001b[0;34m\u001b[0m\u001b[0m\n\u001b[1;32m   1111\u001b[0m     \u001b[0mlogging\u001b[0m\u001b[0;34m.\u001b[0m\u001b[0minfo\u001b[0m\u001b[0;34m(\u001b[0m\u001b[0;34m'Calling model_fn.'\u001b[0m\u001b[0;34m)\u001b[0m\u001b[0;34m\u001b[0m\u001b[0;34m\u001b[0m\u001b[0m\n\u001b[0;32m-> 1112\u001b[0;31m     \u001b[0mmodel_fn_results\u001b[0m \u001b[0;34m=\u001b[0m \u001b[0mself\u001b[0m\u001b[0;34m.\u001b[0m\u001b[0m_model_fn\u001b[0m\u001b[0;34m(\u001b[0m\u001b[0mfeatures\u001b[0m\u001b[0;34m=\u001b[0m\u001b[0mfeatures\u001b[0m\u001b[0;34m,\u001b[0m \u001b[0;34m**\u001b[0m\u001b[0mkwargs\u001b[0m\u001b[0;34m)\u001b[0m\u001b[0;34m\u001b[0m\u001b[0;34m\u001b[0m\u001b[0m\n\u001b[0m\u001b[1;32m   1113\u001b[0m     \u001b[0mlogging\u001b[0m\u001b[0;34m.\u001b[0m\u001b[0minfo\u001b[0m\u001b[0;34m(\u001b[0m\u001b[0;34m'Done calling model_fn.'\u001b[0m\u001b[0;34m)\u001b[0m\u001b[0;34m\u001b[0m\u001b[0;34m\u001b[0m\u001b[0m\n\u001b[1;32m   1114\u001b[0m \u001b[0;34m\u001b[0m\u001b[0m\n",
      "\u001b[0;32m/usr/local/lib/python3.6/dist-packages/tensorflow_estimator/python/estimator/canned/dnn.py\u001b[0m in \u001b[0;36m_model_fn\u001b[0;34m(features, labels, mode, config)\u001b[0m\n\u001b[1;32m    520\u001b[0m           \u001b[0minput_layer_partitioner\u001b[0m\u001b[0;34m=\u001b[0m\u001b[0minput_layer_partitioner\u001b[0m\u001b[0;34m,\u001b[0m\u001b[0;34m\u001b[0m\u001b[0;34m\u001b[0m\u001b[0m\n\u001b[1;32m    521\u001b[0m           \u001b[0mconfig\u001b[0m\u001b[0;34m=\u001b[0m\u001b[0mconfig\u001b[0m\u001b[0;34m,\u001b[0m\u001b[0;34m\u001b[0m\u001b[0;34m\u001b[0m\u001b[0m\n\u001b[0;32m--> 522\u001b[0;31m           batch_norm=batch_norm)\n\u001b[0m\u001b[1;32m    523\u001b[0m \u001b[0;34m\u001b[0m\u001b[0m\n\u001b[1;32m    524\u001b[0m     super(DNNClassifier, self).__init__(\n",
      "\u001b[0;32m/usr/local/lib/python3.6/dist-packages/tensorflow_estimator/python/estimator/canned/dnn.py\u001b[0m in \u001b[0;36m_dnn_model_fn\u001b[0;34m(features, labels, mode, head, hidden_units, feature_columns, optimizer, activation_fn, dropout, input_layer_partitioner, config, use_tpu, batch_norm)\u001b[0m\n\u001b[1;32m    285\u001b[0m         \u001b[0minput_layer_partitioner\u001b[0m\u001b[0;34m=\u001b[0m\u001b[0minput_layer_partitioner\u001b[0m\u001b[0;34m,\u001b[0m\u001b[0;34m\u001b[0m\u001b[0;34m\u001b[0m\u001b[0m\n\u001b[1;32m    286\u001b[0m         batch_norm=batch_norm)\n\u001b[0;32m--> 287\u001b[0;31m     \u001b[0mlogits\u001b[0m \u001b[0;34m=\u001b[0m \u001b[0mlogit_fn\u001b[0m\u001b[0;34m(\u001b[0m\u001b[0mfeatures\u001b[0m\u001b[0;34m=\u001b[0m\u001b[0mfeatures\u001b[0m\u001b[0;34m,\u001b[0m \u001b[0mmode\u001b[0m\u001b[0;34m=\u001b[0m\u001b[0mmode\u001b[0m\u001b[0;34m)\u001b[0m\u001b[0;34m\u001b[0m\u001b[0;34m\u001b[0m\u001b[0m\n\u001b[0m\u001b[1;32m    288\u001b[0m \u001b[0;34m\u001b[0m\u001b[0m\n\u001b[1;32m    289\u001b[0m     \u001b[0;32mif\u001b[0m \u001b[0muse_tpu\u001b[0m\u001b[0;34m:\u001b[0m\u001b[0;34m\u001b[0m\u001b[0;34m\u001b[0m\u001b[0m\n",
      "\u001b[0;32m/usr/local/lib/python3.6/dist-packages/tensorflow_estimator/python/estimator/canned/dnn.py\u001b[0m in \u001b[0;36mdnn_logit_fn\u001b[0;34m(features, mode)\u001b[0m\n\u001b[1;32m    100\u001b[0m         \u001b[0minput_layer_partitioner\u001b[0m\u001b[0;34m,\u001b[0m\u001b[0;34m\u001b[0m\u001b[0;34m\u001b[0m\u001b[0m\n\u001b[1;32m    101\u001b[0m         \u001b[0mbatch_norm\u001b[0m\u001b[0;34m,\u001b[0m\u001b[0;34m\u001b[0m\u001b[0;34m\u001b[0m\u001b[0m\n\u001b[0;32m--> 102\u001b[0;31m         name='dnn')\n\u001b[0m\u001b[1;32m    103\u001b[0m     \u001b[0;32mreturn\u001b[0m \u001b[0mdnn_model\u001b[0m\u001b[0;34m(\u001b[0m\u001b[0mfeatures\u001b[0m\u001b[0;34m,\u001b[0m \u001b[0mmode\u001b[0m\u001b[0;34m)\u001b[0m\u001b[0;34m\u001b[0m\u001b[0;34m\u001b[0m\u001b[0m\n\u001b[1;32m    104\u001b[0m \u001b[0;34m\u001b[0m\u001b[0m\n",
      "\u001b[0;32m/usr/local/lib/python3.6/dist-packages/tensorflow_estimator/python/estimator/canned/dnn.py\u001b[0m in \u001b[0;36m__init__\u001b[0;34m(self, units, hidden_units, feature_columns, activation_fn, dropout, input_layer_partitioner, batch_norm, name, **kwargs)\u001b[0m\n\u001b[1;32m    127\u001b[0m     \u001b[0;32mif\u001b[0m \u001b[0mfeature_column_lib\u001b[0m\u001b[0;34m.\u001b[0m\u001b[0mis_feature_column_v2\u001b[0m\u001b[0;34m(\u001b[0m\u001b[0mfeature_columns\u001b[0m\u001b[0;34m)\u001b[0m\u001b[0;34m:\u001b[0m\u001b[0;34m\u001b[0m\u001b[0;34m\u001b[0m\u001b[0m\n\u001b[1;32m    128\u001b[0m       self._input_layer = feature_column_lib.DenseFeatures(\n\u001b[0;32m--> 129\u001b[0;31m           feature_columns=feature_columns, name='input_layer')\n\u001b[0m\u001b[1;32m    130\u001b[0m     \u001b[0;32melse\u001b[0m\u001b[0;34m:\u001b[0m\u001b[0;34m\u001b[0m\u001b[0;34m\u001b[0m\u001b[0m\n\u001b[1;32m    131\u001b[0m       self._input_layer = feature_column.InputLayer(\n",
      "\u001b[0;32m/usr/local/lib/python3.6/dist-packages/tensorflow/python/feature_column/feature_column_v2.py\u001b[0m in \u001b[0;36m__init__\u001b[0;34m(self, feature_columns, trainable, name, **kwargs)\u001b[0m\n\u001b[1;32m    364\u001b[0m             \u001b[0;34m'Items of feature_columns must be a DenseColumn. '\u001b[0m\u001b[0;34m\u001b[0m\u001b[0;34m\u001b[0m\u001b[0m\n\u001b[1;32m    365\u001b[0m             \u001b[0;34m'You can wrap a categorical column with an '\u001b[0m\u001b[0;34m\u001b[0m\u001b[0;34m\u001b[0m\u001b[0m\n\u001b[0;32m--> 366\u001b[0;31m             'embedding_column or indicator_column. Given: {}'.format(column))\n\u001b[0m\u001b[1;32m    367\u001b[0m \u001b[0;34m\u001b[0m\u001b[0m\n\u001b[1;32m    368\u001b[0m   \u001b[0;34m@\u001b[0m\u001b[0mproperty\u001b[0m\u001b[0;34m\u001b[0m\u001b[0;34m\u001b[0m\u001b[0m\n",
      "\u001b[0;31mValueError\u001b[0m: Items of feature_columns must be a DenseColumn. You can wrap a categorical column with an embedding_column or indicator_column. Given: VocabularyListCategoricalColumn(key='Group', vocabulary_list=('A', 'B', 'C', 'D'), dtype=tf.string, default_value=-1, num_oov_buckets=0)"
     ]
    }
   ],
   "source": [
    "dnn_model.train(input_fn=input_func)"
   ]
  },
  {
   "cell_type": "code",
   "execution_count": 0,
   "metadata": {
    "colab": {},
    "colab_type": "code",
    "id": "C0OptJYgzw4w"
   },
   "outputs": [],
   "source": [
    "embedded_group_column = tf.feature_column.embedding_column(assigned_group, dimension=len(set(diabetes['Group'].to_numpy())))\n"
   ]
  },
  {
   "cell_type": "code",
   "execution_count": 0,
   "metadata": {
    "colab": {},
    "colab_type": "code",
    "id": "z200_0L1zw4z"
   },
   "outputs": [],
   "source": [
    "feat_cols = [num_preg ,plasma_gluc,dias_press ,tricep ,insulin,bmi,diabetes_pedigree ,embedded_group_column, age_buckets]"
   ]
  },
  {
   "cell_type": "code",
   "execution_count": 0,
   "metadata": {
    "colab": {},
    "colab_type": "code",
    "id": "GZPF0lLSzw43"
   },
   "outputs": [],
   "source": [
    "input_func = tf.estimator.inputs.pandas_input_fn(x=x_train, y=y_train, batch_size=10, num_epochs=100, shuffle=True)\n"
   ]
  },
  {
   "cell_type": "code",
   "execution_count": 39,
   "metadata": {
    "colab": {
     "base_uri": "https://localhost:8080/",
     "height": 188
    },
    "colab_type": "code",
    "id": "wN2hcD72zw46",
    "outputId": "9f2203d0-a419-4aee-9015-8e9d7c6ea629"
   },
   "outputs": [
    {
     "name": "stdout",
     "output_type": "stream",
     "text": [
      "INFO:tensorflow:Using default config.\n",
      "WARNING:tensorflow:Using temporary folder as model directory: /tmp/tmp81dhyhc_\n",
      "INFO:tensorflow:Using config: {'_model_dir': '/tmp/tmp81dhyhc_', '_tf_random_seed': None, '_save_summary_steps': 100, '_save_checkpoints_steps': None, '_save_checkpoints_secs': 600, '_session_config': allow_soft_placement: true\n",
      "graph_options {\n",
      "  rewrite_options {\n",
      "    meta_optimizer_iterations: ONE\n",
      "  }\n",
      "}\n",
      ", '_keep_checkpoint_max': 5, '_keep_checkpoint_every_n_hours': 10000, '_log_step_count_steps': 100, '_train_distribute': None, '_device_fn': None, '_protocol': None, '_eval_distribute': None, '_experimental_distribute': None, '_service': None, '_cluster_spec': <tensorflow.python.training.server_lib.ClusterSpec object at 0x7f7e9b3b8828>, '_task_type': 'worker', '_task_id': 0, '_global_id_in_cluster': 0, '_master': '', '_evaluation_master': '', '_is_chief': True, '_num_ps_replicas': 0, '_num_worker_replicas': 1}\n"
     ]
    }
   ],
   "source": [
    "dnn_model = tf.estimator.DNNClassifier(hidden_units=[5, 5, 5], feature_columns=feat_cols, n_classes=2)"
   ]
  },
  {
   "cell_type": "code",
   "execution_count": 40,
   "metadata": {
    "colab": {
     "base_uri": "https://localhost:8080/",
     "height": 2372
    },
    "colab_type": "code",
    "id": "aAd7w98ozw48",
    "outputId": "724f2fa0-503e-4ee2-ccd3-8ccffb4e9408"
   },
   "outputs": [
    {
     "name": "stdout",
     "output_type": "stream",
     "text": [
      "INFO:tensorflow:Calling model_fn.\n",
      "WARNING:tensorflow:From /usr/local/lib/python3.6/dist-packages/tensorflow/python/feature_column/feature_column_v2.py:2997: VocabularyListCategoricalColumn._num_buckets (from tensorflow.python.feature_column.feature_column_v2) is deprecated and will be removed after 2018-11-30.\n",
      "Instructions for updating:\n",
      "The old _FeatureColumn APIs are being deprecated. Please use the new FeatureColumn APIs instead.\n",
      "WARNING:tensorflow:From /usr/local/lib/python3.6/dist-packages/tensorflow/python/ops/array_grad.py:425: to_int32 (from tensorflow.python.ops.math_ops) is deprecated and will be removed in a future version.\n",
      "Instructions for updating:\n",
      "Use tf.cast instead.\n",
      "INFO:tensorflow:Done calling model_fn.\n",
      "INFO:tensorflow:Create CheckpointSaverHook.\n",
      "INFO:tensorflow:Graph was finalized.\n",
      "INFO:tensorflow:Running local_init_op.\n",
      "INFO:tensorflow:Done running local_init_op.\n",
      "INFO:tensorflow:Saving checkpoints for 0 into /tmp/tmp81dhyhc_/model.ckpt.\n",
      "INFO:tensorflow:loss = 6.0993466, step = 1\n",
      "INFO:tensorflow:global_step/sec: 127.229\n",
      "INFO:tensorflow:loss = 5.069416, step = 101 (0.791 sec)\n",
      "INFO:tensorflow:global_step/sec: 361.34\n",
      "INFO:tensorflow:loss = 5.524232, step = 201 (0.274 sec)\n",
      "INFO:tensorflow:global_step/sec: 326.272\n",
      "INFO:tensorflow:loss = 6.3770742, step = 301 (0.306 sec)\n",
      "INFO:tensorflow:global_step/sec: 386.242\n",
      "INFO:tensorflow:loss = 5.8555193, step = 401 (0.261 sec)\n",
      "INFO:tensorflow:global_step/sec: 313.116\n",
      "INFO:tensorflow:loss = 4.672826, step = 501 (0.319 sec)\n",
      "INFO:tensorflow:global_step/sec: 312.422\n",
      "INFO:tensorflow:loss = 4.1513424, step = 601 (0.319 sec)\n",
      "INFO:tensorflow:global_step/sec: 282.485\n",
      "INFO:tensorflow:loss = 4.989584, step = 701 (0.357 sec)\n",
      "INFO:tensorflow:global_step/sec: 310.315\n",
      "INFO:tensorflow:loss = 5.145688, step = 801 (0.322 sec)\n",
      "INFO:tensorflow:global_step/sec: 303.055\n",
      "INFO:tensorflow:loss = 4.3515434, step = 901 (0.324 sec)\n",
      "INFO:tensorflow:global_step/sec: 313.456\n",
      "INFO:tensorflow:loss = 3.3051705, step = 1001 (0.323 sec)\n",
      "INFO:tensorflow:global_step/sec: 322.751\n",
      "INFO:tensorflow:loss = 9.014299, step = 1101 (0.318 sec)\n",
      "INFO:tensorflow:global_step/sec: 308.32\n",
      "INFO:tensorflow:loss = 6.2394238, step = 1201 (0.312 sec)\n",
      "INFO:tensorflow:global_step/sec: 300.474\n",
      "INFO:tensorflow:loss = 5.1204104, step = 1301 (0.337 sec)\n",
      "INFO:tensorflow:global_step/sec: 314.59\n",
      "INFO:tensorflow:loss = 4.5129585, step = 1401 (0.320 sec)\n",
      "INFO:tensorflow:global_step/sec: 313.575\n",
      "INFO:tensorflow:loss = 3.1568627, step = 1501 (0.316 sec)\n",
      "INFO:tensorflow:global_step/sec: 312.344\n",
      "INFO:tensorflow:loss = 5.5518622, step = 1601 (0.318 sec)\n",
      "INFO:tensorflow:global_step/sec: 324.6\n",
      "INFO:tensorflow:loss = 7.1096, step = 1701 (0.310 sec)\n",
      "INFO:tensorflow:global_step/sec: 326.228\n",
      "INFO:tensorflow:loss = 3.8069565, step = 1801 (0.306 sec)\n",
      "INFO:tensorflow:global_step/sec: 317.033\n",
      "INFO:tensorflow:loss = 4.158189, step = 1901 (0.334 sec)\n",
      "INFO:tensorflow:global_step/sec: 306.617\n",
      "INFO:tensorflow:loss = 4.6737404, step = 2001 (0.310 sec)\n",
      "INFO:tensorflow:global_step/sec: 317.302\n",
      "INFO:tensorflow:loss = 3.9842598, step = 2101 (0.311 sec)\n",
      "INFO:tensorflow:global_step/sec: 311.939\n",
      "INFO:tensorflow:loss = 2.3287358, step = 2201 (0.327 sec)\n",
      "INFO:tensorflow:global_step/sec: 315.958\n",
      "INFO:tensorflow:loss = 4.3945246, step = 2301 (0.310 sec)\n",
      "INFO:tensorflow:global_step/sec: 337.019\n",
      "INFO:tensorflow:loss = 5.48541, step = 2401 (0.297 sec)\n",
      "INFO:tensorflow:global_step/sec: 304.216\n",
      "INFO:tensorflow:loss = 4.601567, step = 2501 (0.333 sec)\n",
      "INFO:tensorflow:global_step/sec: 289.884\n",
      "INFO:tensorflow:loss = 9.220264, step = 2601 (0.341 sec)\n",
      "INFO:tensorflow:global_step/sec: 310.305\n",
      "INFO:tensorflow:loss = 6.0412292, step = 2701 (0.322 sec)\n",
      "INFO:tensorflow:global_step/sec: 301.517\n",
      "INFO:tensorflow:loss = 3.0811372, step = 2801 (0.341 sec)\n",
      "INFO:tensorflow:global_step/sec: 303.924\n",
      "INFO:tensorflow:loss = 5.221254, step = 2901 (0.326 sec)\n",
      "INFO:tensorflow:global_step/sec: 301.303\n",
      "INFO:tensorflow:loss = 3.3676393, step = 3001 (0.336 sec)\n",
      "INFO:tensorflow:global_step/sec: 302.653\n",
      "INFO:tensorflow:loss = 2.574853, step = 3101 (0.326 sec)\n",
      "INFO:tensorflow:global_step/sec: 301.646\n",
      "INFO:tensorflow:loss = 5.3231974, step = 3201 (0.325 sec)\n",
      "INFO:tensorflow:global_step/sec: 288.788\n",
      "INFO:tensorflow:loss = 6.0723596, step = 3301 (0.346 sec)\n",
      "INFO:tensorflow:global_step/sec: 309.862\n",
      "INFO:tensorflow:loss = 3.6652846, step = 3401 (0.328 sec)\n",
      "INFO:tensorflow:global_step/sec: 306.654\n",
      "INFO:tensorflow:loss = 5.577509, step = 3501 (0.319 sec)\n",
      "INFO:tensorflow:global_step/sec: 306.296\n",
      "INFO:tensorflow:loss = 6.7347116, step = 3601 (0.337 sec)\n",
      "INFO:tensorflow:global_step/sec: 292.404\n",
      "INFO:tensorflow:loss = 3.7771711, step = 3701 (0.339 sec)\n",
      "INFO:tensorflow:global_step/sec: 293.349\n",
      "INFO:tensorflow:loss = 5.5232215, step = 3801 (0.339 sec)\n",
      "INFO:tensorflow:global_step/sec: 301.395\n",
      "INFO:tensorflow:loss = 7.9588413, step = 3901 (0.330 sec)\n",
      "INFO:tensorflow:global_step/sec: 318.6\n",
      "INFO:tensorflow:loss = 3.0249157, step = 4001 (0.321 sec)\n",
      "INFO:tensorflow:global_step/sec: 300.057\n",
      "INFO:tensorflow:loss = 3.736183, step = 4101 (0.330 sec)\n",
      "INFO:tensorflow:global_step/sec: 310.703\n",
      "INFO:tensorflow:loss = 3.6337008, step = 4201 (0.317 sec)\n",
      "INFO:tensorflow:global_step/sec: 305.339\n",
      "INFO:tensorflow:loss = 3.6785302, step = 4301 (0.329 sec)\n",
      "INFO:tensorflow:global_step/sec: 298.466\n",
      "INFO:tensorflow:loss = 7.0205994, step = 4401 (0.341 sec)\n",
      "INFO:tensorflow:global_step/sec: 309.996\n",
      "INFO:tensorflow:loss = 6.33156, step = 4501 (0.325 sec)\n",
      "INFO:tensorflow:global_step/sec: 305.964\n",
      "INFO:tensorflow:loss = 4.766656, step = 4601 (0.317 sec)\n",
      "INFO:tensorflow:global_step/sec: 313.02\n",
      "INFO:tensorflow:loss = 4.571668, step = 4701 (0.326 sec)\n",
      "INFO:tensorflow:global_step/sec: 301.78\n",
      "INFO:tensorflow:loss = 6.427244, step = 4801 (0.334 sec)\n",
      "INFO:tensorflow:global_step/sec: 291.25\n",
      "INFO:tensorflow:loss = 3.9489665, step = 4901 (0.338 sec)\n",
      "INFO:tensorflow:global_step/sec: 308.115\n",
      "INFO:tensorflow:loss = 2.1442742, step = 5001 (0.319 sec)\n",
      "INFO:tensorflow:global_step/sec: 308.217\n",
      "INFO:tensorflow:loss = 3.064904, step = 5101 (0.325 sec)\n",
      "INFO:tensorflow:global_step/sec: 313.271\n",
      "INFO:tensorflow:loss = 1.5977199, step = 5201 (0.324 sec)\n",
      "INFO:tensorflow:global_step/sec: 315.532\n",
      "INFO:tensorflow:loss = 2.9971492, step = 5301 (0.326 sec)\n",
      "INFO:tensorflow:global_step/sec: 320.804\n",
      "INFO:tensorflow:loss = 2.9898348, step = 5401 (0.302 sec)\n",
      "INFO:tensorflow:global_step/sec: 295.29\n",
      "INFO:tensorflow:loss = 5.0461626, step = 5501 (0.344 sec)\n",
      "INFO:tensorflow:global_step/sec: 285.509\n",
      "INFO:tensorflow:loss = 2.9083424, step = 5601 (0.343 sec)\n",
      "INFO:tensorflow:global_step/sec: 300.724\n",
      "INFO:tensorflow:loss = 5.536658, step = 5701 (0.339 sec)\n",
      "INFO:tensorflow:global_step/sec: 287.933\n",
      "INFO:tensorflow:loss = 3.6023865, step = 5801 (0.343 sec)\n",
      "INFO:tensorflow:global_step/sec: 287.727\n",
      "INFO:tensorflow:loss = 4.839125, step = 5901 (0.346 sec)\n",
      "INFO:tensorflow:global_step/sec: 308.946\n",
      "INFO:tensorflow:loss = 4.4802194, step = 6001 (0.326 sec)\n",
      "INFO:tensorflow:global_step/sec: 309.3\n",
      "INFO:tensorflow:loss = 4.3221717, step = 6101 (0.323 sec)\n",
      "INFO:tensorflow:Saving checkpoints for 6140 into /tmp/tmp81dhyhc_/model.ckpt.\n",
      "INFO:tensorflow:Loss for final step: 2.0678508.\n"
     ]
    },
    {
     "data": {
      "text/plain": [
       "<tensorflow_estimator.python.estimator.canned.dnn.DNNClassifier at 0x7f7e9b3b8f28>"
      ]
     },
     "execution_count": 40,
     "metadata": {
      "tags": []
     },
     "output_type": "execute_result"
    }
   ],
   "source": [
    "dnn_model.train(input_fn=input_func)"
   ]
  },
  {
   "cell_type": "markdown",
   "metadata": {
    "colab_type": "text",
    "id": "M80MTV9O1Cr8"
   },
   "source": [
    "## Evaluation"
   ]
  },
  {
   "cell_type": "code",
   "execution_count": 0,
   "metadata": {
    "colab": {},
    "colab_type": "code",
    "id": "zjfxdVou0-6-"
   },
   "outputs": [],
   "source": [
    "train_input_func = tf.estimator.inputs.pandas_input_fn(x=x_train, y=y_train, batch_size=1, num_epochs=1, shuffle=False)\n",
    "\n",
    "eval_input_func = tf.estimator.inputs.pandas_input_fn(x = x_test, y=y_test, batch_size=1, num_epochs=1, shuffle=False)\n"
   ]
  },
  {
   "cell_type": "code",
   "execution_count": 44,
   "metadata": {
    "colab": {
     "base_uri": "https://localhost:8080/",
     "height": 440
    },
    "colab_type": "code",
    "id": "vbgVeQq_1Qmu",
    "outputId": "c993aafe-7f6b-4444-facf-34c4231912ed"
   },
   "outputs": [
    {
     "name": "stdout",
     "output_type": "stream",
     "text": [
      "INFO:tensorflow:Calling model_fn.\n",
      "WARNING:tensorflow:Trapezoidal rule is known to produce incorrect PR-AUCs; please switch to \"careful_interpolation\" instead.\n",
      "WARNING:tensorflow:Trapezoidal rule is known to produce incorrect PR-AUCs; please switch to \"careful_interpolation\" instead.\n",
      "INFO:tensorflow:Done calling model_fn.\n",
      "INFO:tensorflow:Starting evaluation at 2019-06-13T03:18:47Z\n",
      "INFO:tensorflow:Graph was finalized.\n",
      "INFO:tensorflow:Restoring parameters from /tmp/tmp81dhyhc_/model.ckpt-6140\n",
      "INFO:tensorflow:Running local_init_op.\n",
      "INFO:tensorflow:Done running local_init_op.\n",
      "INFO:tensorflow:Finished evaluation at 2019-06-13-03:18:50\n",
      "INFO:tensorflow:Saving dict for global step 6140: accuracy = 0.7980456, accuracy_baseline = 0.64006513, auc = 0.8669131, auc_precision_recall = 0.7935038, average_loss = 0.44000706, global_step = 6140, label/mean = 0.35993487, loss = 0.44000706, precision = 0.7461929, prediction/mean = 0.34229046, recall = 0.6651584\n",
      "INFO:tensorflow:Saving 'checkpoint_path' summary for global step 6140: /tmp/tmp81dhyhc_/model.ckpt-6140\n",
      "INFO:tensorflow:Calling model_fn.\n",
      "WARNING:tensorflow:Trapezoidal rule is known to produce incorrect PR-AUCs; please switch to \"careful_interpolation\" instead.\n",
      "WARNING:tensorflow:Trapezoidal rule is known to produce incorrect PR-AUCs; please switch to \"careful_interpolation\" instead.\n",
      "INFO:tensorflow:Done calling model_fn.\n",
      "INFO:tensorflow:Starting evaluation at 2019-06-13T03:18:51Z\n",
      "INFO:tensorflow:Graph was finalized.\n",
      "INFO:tensorflow:Restoring parameters from /tmp/tmp81dhyhc_/model.ckpt-6140\n",
      "INFO:tensorflow:Running local_init_op.\n",
      "INFO:tensorflow:Done running local_init_op.\n",
      "INFO:tensorflow:Finished evaluation at 2019-06-13-03:18:52\n",
      "INFO:tensorflow:Saving dict for global step 6140: accuracy = 0.8246753, accuracy_baseline = 0.6948052, auc = 0.85583615, auc_precision_recall = 0.7207469, average_loss = 0.430677, global_step = 6140, label/mean = 0.3051948, loss = 0.430677, precision = 0.7380952, prediction/mean = 0.32631382, recall = 0.65957445\n",
      "INFO:tensorflow:Saving 'checkpoint_path' summary for global step 6140: /tmp/tmp81dhyhc_/model.ckpt-6140\n"
     ]
    }
   ],
   "source": [
    "train_results = dnn_model.evaluate(train_input_func)\n",
    "eval_results = dnn_model.evaluate(eval_input_func)"
   ]
  },
  {
   "cell_type": "code",
   "execution_count": 45,
   "metadata": {
    "colab": {
     "base_uri": "https://localhost:8080/",
     "height": 202
    },
    "colab_type": "code",
    "id": "0U1b-hja2QJ1",
    "outputId": "45b112fe-f4a8-4115-b6a9-f198d59ed23e"
   },
   "outputs": [
    {
     "name": "stdout",
     "output_type": "stream",
     "text": [
      "accuracy 0.7980456 0.8246753\n",
      "accuracy_baseline 0.64006513 0.6948052\n",
      "auc 0.8669131 0.85583615\n",
      "auc_precision_recall 0.7935038 0.7207469\n",
      "average_loss 0.44000706 0.430677\n",
      "label/mean 0.35993487 0.3051948\n",
      "loss 0.44000706 0.430677\n",
      "precision 0.7461929 0.7380952\n",
      "prediction/mean 0.34229046 0.32631382\n",
      "recall 0.6651584 0.65957445\n",
      "global_step 6140 6140\n"
     ]
    }
   ],
   "source": [
    "for key in train_results:\n",
    "    print (key, train_results[key], eval_results[key])"
   ]
  },
  {
   "cell_type": "markdown",
   "metadata": {
    "colab_type": "text",
    "id": "i2Kse_qn2l6m"
   },
   "source": [
    "## Prediction"
   ]
  },
  {
   "cell_type": "code",
   "execution_count": 47,
   "metadata": {
    "colab": {
     "base_uri": "https://localhost:8080/",
     "height": 171
    },
    "colab_type": "code",
    "id": "Fmuy3_lS2oCK",
    "outputId": "4c6720a0-cc75-4fe4-a6a9-85392c7c5c28"
   },
   "outputs": [
    {
     "name": "stdout",
     "output_type": "stream",
     "text": [
      "INFO:tensorflow:Calling model_fn.\n",
      "INFO:tensorflow:Done calling model_fn.\n",
      "INFO:tensorflow:Graph was finalized.\n",
      "INFO:tensorflow:Restoring parameters from /tmp/tmp81dhyhc_/model.ckpt-6140\n",
      "INFO:tensorflow:Running local_init_op.\n",
      "INFO:tensorflow:Done running local_init_op.\n",
      "The classes are:\n",
      "[b'1'] [b'0'] [b'0'] [b'1'] [b'0'] [b'0'] [b'1'] [b'1'] [b'0'] [b'0'] [b'1'] [b'1'] [b'0'] [b'0'] [b'0'] [b'0'] [b'1'] [b'0'] [b'0'] [b'0'] [b'1'] [b'1'] [b'0'] [b'0'] [b'0'] [b'0'] [b'0'] [b'1'] [b'0'] [b'0'] [b'1'] [b'0'] [b'0'] [b'1'] [b'0'] [b'1'] [b'0'] [b'0'] [b'0'] [b'1'] [b'0'] [b'0'] [b'0'] [b'1'] [b'1'] [b'0'] [b'0'] [b'0'] [b'0'] [b'0'] [b'0'] [b'0'] [b'1'] [b'0'] [b'0'] [b'0'] [b'0'] [b'0'] [b'0'] [b'0'] [b'1'] [b'0'] [b'0'] [b'1'] [b'1'] [b'1'] [b'1'] [b'0'] [b'0'] [b'0'] [b'0'] [b'0'] [b'0'] [b'1'] [b'1'] [b'0'] [b'0'] [b'1'] [b'0'] [b'0'] [b'0'] [b'0'] [b'0'] [b'0'] [b'0'] [b'0'] [b'0'] [b'0'] [b'1'] [b'0'] [b'0'] [b'0'] [b'0'] [b'0'] [b'1'] [b'0'] [b'0'] [b'1'] [b'1'] [b'0'] [b'0'] [b'0'] [b'0'] [b'0'] [b'1'] [b'0'] [b'0'] [b'0'] [b'0'] [b'1'] [b'0'] [b'0'] [b'1'] [b'1'] [b'0'] [b'1'] [b'0'] [b'0'] [b'0'] [b'1'] [b'0'] [b'0'] [b'0'] [b'0'] [b'0'] [b'0'] [b'0'] [b'1'] [b'0'] [b'0'] [b'0'] [b'0'] [b'0'] [b'1'] [b'1'] [b'1'] [b'0'] [b'0'] [b'1'] [b'0'] [b'0'] [b'1'] [b'0'] [b'0'] [b'0'] [b'0'] [b'0'] [b'0'] [b'0'] [b'0'] [b'0'] [b'1'] [b'0'] [b'0'] "
     ]
    }
   ],
   "source": [
    "predictions = dnn_model.predict(pred_input_func)\n",
    "pred_values = list(predictions)\n",
    "print ('The classes are:')\n",
    "for i in range(len(pred_values)):\n",
    "    print (pred_values[i]['classes'], end = ' ')"
   ]
  }
 ],
 "metadata": {
  "colab": {
   "name": "05_TF_Classification_Example.ipynb",
   "provenance": [],
   "version": "0.3.2"
  },
  "kernelspec": {
   "display_name": "Python 3",
   "language": "python",
   "name": "python3"
  },
  "language_info": {
   "codemirror_mode": {
    "name": "ipython",
    "version": 3
   },
   "file_extension": ".py",
   "mimetype": "text/x-python",
   "name": "python",
   "nbconvert_exporter": "python",
   "pygments_lexer": "ipython3",
   "version": "3.7.3"
  }
 },
 "nbformat": 4,
 "nbformat_minor": 1
}
