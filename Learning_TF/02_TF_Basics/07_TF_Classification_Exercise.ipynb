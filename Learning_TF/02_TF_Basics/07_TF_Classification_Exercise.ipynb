{
  "nbformat": 4,
  "nbformat_minor": 0,
  "metadata": {
    "colab": {
      "name": "07_TF_Classification_Exercise.ipynb",
      "version": "0.3.2",
      "provenance": [],
      "toc_visible": true
    },
    "language_info": {
      "codemirror_mode": {
        "name": "ipython",
        "version": 3
      },
      "file_extension": ".py",
      "mimetype": "text/x-python",
      "name": "python",
      "nbconvert_exporter": "python",
      "pygments_lexer": "ipython3",
      "version": "3.7.3"
    },
    "kernelspec": {
      "display_name": "Python 3",
      "language": "python",
      "name": "python3"
    }
  },
  "cells": [
    {
      "cell_type": "markdown",
      "metadata": {
        "id": "TgFnD9dmADOC",
        "colab_type": "text"
      },
      "source": [
        "## Data Preprocessing"
      ]
    },
    {
      "cell_type": "code",
      "metadata": {
        "id": "drmW7senADOH",
        "colab_type": "code",
        "colab": {
          "base_uri": "https://localhost:8080/",
          "height": 34
        },
        "outputId": "0c235766-2168-4523-f13e-bd9399b96f48"
      },
      "source": [
        "import pandas as pd\n",
        "import tensorflow as tf\n",
        "tf.__version__"
      ],
      "execution_count": 13,
      "outputs": [
        {
          "output_type": "execute_result",
          "data": {
            "text/plain": [
              "'1.13.1'"
            ]
          },
          "metadata": {
            "tags": []
          },
          "execution_count": 13
        }
      ]
    },
    {
      "cell_type": "code",
      "metadata": {
        "id": "O2Nzh21xADOT",
        "colab_type": "code",
        "colab": {}
      },
      "source": [
        "census = pd.read_csv('census_data.csv')"
      ],
      "execution_count": 0,
      "outputs": []
    },
    {
      "cell_type": "code",
      "metadata": {
        "scrolled": true,
        "id": "47oxkyX5ADOZ",
        "colab_type": "code",
        "colab": {
          "base_uri": "https://localhost:8080/",
          "height": 282
        },
        "outputId": "55bfcad2-d31a-4256-f74d-70e16e3b5b89"
      },
      "source": [
        "census.head()"
      ],
      "execution_count": 15,
      "outputs": [
        {
          "output_type": "execute_result",
          "data": {
            "text/html": [
              "<div>\n",
              "<style scoped>\n",
              "    .dataframe tbody tr th:only-of-type {\n",
              "        vertical-align: middle;\n",
              "    }\n",
              "\n",
              "    .dataframe tbody tr th {\n",
              "        vertical-align: top;\n",
              "    }\n",
              "\n",
              "    .dataframe thead th {\n",
              "        text-align: right;\n",
              "    }\n",
              "</style>\n",
              "<table border=\"1\" class=\"dataframe\">\n",
              "  <thead>\n",
              "    <tr style=\"text-align: right;\">\n",
              "      <th></th>\n",
              "      <th>age</th>\n",
              "      <th>workclass</th>\n",
              "      <th>education</th>\n",
              "      <th>education_num</th>\n",
              "      <th>marital_status</th>\n",
              "      <th>occupation</th>\n",
              "      <th>relationship</th>\n",
              "      <th>race</th>\n",
              "      <th>gender</th>\n",
              "      <th>capital_gain</th>\n",
              "      <th>capital_loss</th>\n",
              "      <th>hours_per_week</th>\n",
              "      <th>native_country</th>\n",
              "      <th>income_bracket</th>\n",
              "    </tr>\n",
              "  </thead>\n",
              "  <tbody>\n",
              "    <tr>\n",
              "      <th>0</th>\n",
              "      <td>39</td>\n",
              "      <td>State-gov</td>\n",
              "      <td>Bachelors</td>\n",
              "      <td>13</td>\n",
              "      <td>Never-married</td>\n",
              "      <td>Adm-clerical</td>\n",
              "      <td>Not-in-family</td>\n",
              "      <td>White</td>\n",
              "      <td>Male</td>\n",
              "      <td>2174</td>\n",
              "      <td>0</td>\n",
              "      <td>40</td>\n",
              "      <td>United-States</td>\n",
              "      <td>&lt;=50K</td>\n",
              "    </tr>\n",
              "    <tr>\n",
              "      <th>1</th>\n",
              "      <td>50</td>\n",
              "      <td>Self-emp-not-inc</td>\n",
              "      <td>Bachelors</td>\n",
              "      <td>13</td>\n",
              "      <td>Married-civ-spouse</td>\n",
              "      <td>Exec-managerial</td>\n",
              "      <td>Husband</td>\n",
              "      <td>White</td>\n",
              "      <td>Male</td>\n",
              "      <td>0</td>\n",
              "      <td>0</td>\n",
              "      <td>13</td>\n",
              "      <td>United-States</td>\n",
              "      <td>&lt;=50K</td>\n",
              "    </tr>\n",
              "    <tr>\n",
              "      <th>2</th>\n",
              "      <td>38</td>\n",
              "      <td>Private</td>\n",
              "      <td>HS-grad</td>\n",
              "      <td>9</td>\n",
              "      <td>Divorced</td>\n",
              "      <td>Handlers-cleaners</td>\n",
              "      <td>Not-in-family</td>\n",
              "      <td>White</td>\n",
              "      <td>Male</td>\n",
              "      <td>0</td>\n",
              "      <td>0</td>\n",
              "      <td>40</td>\n",
              "      <td>United-States</td>\n",
              "      <td>&lt;=50K</td>\n",
              "    </tr>\n",
              "    <tr>\n",
              "      <th>3</th>\n",
              "      <td>53</td>\n",
              "      <td>Private</td>\n",
              "      <td>11th</td>\n",
              "      <td>7</td>\n",
              "      <td>Married-civ-spouse</td>\n",
              "      <td>Handlers-cleaners</td>\n",
              "      <td>Husband</td>\n",
              "      <td>Black</td>\n",
              "      <td>Male</td>\n",
              "      <td>0</td>\n",
              "      <td>0</td>\n",
              "      <td>40</td>\n",
              "      <td>United-States</td>\n",
              "      <td>&lt;=50K</td>\n",
              "    </tr>\n",
              "    <tr>\n",
              "      <th>4</th>\n",
              "      <td>28</td>\n",
              "      <td>Private</td>\n",
              "      <td>Bachelors</td>\n",
              "      <td>13</td>\n",
              "      <td>Married-civ-spouse</td>\n",
              "      <td>Prof-specialty</td>\n",
              "      <td>Wife</td>\n",
              "      <td>Black</td>\n",
              "      <td>Female</td>\n",
              "      <td>0</td>\n",
              "      <td>0</td>\n",
              "      <td>40</td>\n",
              "      <td>Cuba</td>\n",
              "      <td>&lt;=50K</td>\n",
              "    </tr>\n",
              "  </tbody>\n",
              "</table>\n",
              "</div>"
            ],
            "text/plain": [
              "   age          workclass  ...  native_country  income_bracket\n",
              "0   39          State-gov  ...   United-States           <=50K\n",
              "1   50   Self-emp-not-inc  ...   United-States           <=50K\n",
              "2   38            Private  ...   United-States           <=50K\n",
              "3   53            Private  ...   United-States           <=50K\n",
              "4   28            Private  ...            Cuba           <=50K\n",
              "\n",
              "[5 rows x 14 columns]"
            ]
          },
          "metadata": {
            "tags": []
          },
          "execution_count": 15
        }
      ]
    },
    {
      "cell_type": "code",
      "metadata": {
        "id": "Q5gXdLc1ADO4",
        "colab_type": "code",
        "colab": {
          "base_uri": "https://localhost:8080/",
          "height": 34
        },
        "outputId": "15abf546-2547-44e9-9bce-c863fabe6dbe"
      },
      "source": [
        "set(census['income_bracket'].to_numpy())"
      ],
      "execution_count": 16,
      "outputs": [
        {
          "output_type": "execute_result",
          "data": {
            "text/plain": [
              "{' <=50K', ' >50K'}"
            ]
          },
          "metadata": {
            "tags": []
          },
          "execution_count": 16
        }
      ]
    },
    {
      "cell_type": "code",
      "metadata": {
        "id": "CGG4kOVEADPB",
        "colab_type": "code",
        "colab": {
          "base_uri": "https://localhost:8080/",
          "height": 34
        },
        "outputId": "e534e3ce-585a-45b3-fec0-30f26d4a82dd"
      },
      "source": [
        "#.unique() finds out the unique values in that column\n",
        "len(census['income_bracket'].unique())"
      ],
      "execution_count": 17,
      "outputs": [
        {
          "output_type": "execute_result",
          "data": {
            "text/plain": [
              "2"
            ]
          },
          "metadata": {
            "tags": []
          },
          "execution_count": 17
        }
      ]
    },
    {
      "cell_type": "code",
      "metadata": {
        "id": "HRbfk3gEADPH",
        "colab_type": "code",
        "colab": {}
      },
      "source": [
        "census['income_bracket'] = census['income_bracket'].apply(lambda label: int(label == ' <=50K'))"
      ],
      "execution_count": 0,
      "outputs": []
    },
    {
      "cell_type": "code",
      "metadata": {
        "id": "bAVTpgi5ADPK",
        "colab_type": "code",
        "colab": {}
      },
      "source": [
        "from sklearn.model_selection import train_test_split"
      ],
      "execution_count": 0,
      "outputs": []
    },
    {
      "cell_type": "code",
      "metadata": {
        "id": "z0B72if6ADPN",
        "colab_type": "code",
        "colab": {}
      },
      "source": [
        "x_data = census.drop('income_bracket', axis = 1)\n",
        "y_labels = census['income_bracket']\n",
        "x_train, x_test, y_train, y_test = train_test_split(x_data, y_labels, test_size = 0.2, random_state = 2)"
      ],
      "execution_count": 0,
      "outputs": []
    },
    {
      "cell_type": "markdown",
      "metadata": {
        "id": "-_SOmdilADPP",
        "colab_type": "text"
      },
      "source": [
        "## LinearClassification Model"
      ]
    },
    {
      "cell_type": "code",
      "metadata": {
        "id": "xixMETMQADPQ",
        "colab_type": "code",
        "colab": {
          "base_uri": "https://localhost:8080/",
          "height": 84
        },
        "outputId": "58af9712-1250-4405-b88a-10b92cc5f7b0"
      },
      "source": [
        "census.columns"
      ],
      "execution_count": 21,
      "outputs": [
        {
          "output_type": "execute_result",
          "data": {
            "text/plain": [
              "Index(['age', 'workclass', 'education', 'education_num', 'marital_status',\n",
              "       'occupation', 'relationship', 'race', 'gender', 'capital_gain',\n",
              "       'capital_loss', 'hours_per_week', 'native_country', 'income_bracket'],\n",
              "      dtype='object')"
            ]
          },
          "metadata": {
            "tags": []
          },
          "execution_count": 21
        }
      ]
    },
    {
      "cell_type": "code",
      "metadata": {
        "id": "-F6UtbQMADPU",
        "colab_type": "code",
        "colab": {}
      },
      "source": [
        "#import tensorflow as tf\n",
        "#!pip install tensorflow==1.13.1"
      ],
      "execution_count": 0,
      "outputs": []
    },
    {
      "cell_type": "code",
      "metadata": {
        "id": "vofyh4BrADPX",
        "colab_type": "code",
        "colab": {}
      },
      "source": [
        "#categorical columns\n",
        "#for linear classifier\n",
        "gender = tf.feature_column.categorical_column_with_vocabulary_list(\"gender\", [\"Female\", \"Male\"])\n",
        "occupation = tf.feature_column.categorical_column_with_hash_bucket(\"occupation\", hash_bucket_size=len(census['occupation'].unique()))\n",
        "marital_status = tf.feature_column.categorical_column_with_hash_bucket(\"marital_status\", hash_bucket_size=len(census['marital_status'].unique()))\n",
        "relationship = tf.feature_column.categorical_column_with_hash_bucket(\"relationship\", hash_bucket_size=len(census['relationship'].unique()))\n",
        "education = tf.feature_column.categorical_column_with_hash_bucket(\"education\", hash_bucket_size=len(census['education'].unique()))\n",
        "workclass = tf.feature_column.categorical_column_with_hash_bucket(\"workclass\", hash_bucket_size=len(census['workclass'].unique()))\n",
        "native_country = tf.feature_column.categorical_column_with_hash_bucket(\"native_country\", hash_bucket_size=len(census['native_country'].unique()))\n",
        "\n",
        "#for DNN classifier\n",
        "embedded_gender = tf.feature_column.embedding_column(gender, dimension=len(census['gender'].unique()))\n",
        "embedded_occupation = tf.feature_column.embedding_column(occupation, dimension=len(census['occupation'].unique()))\n",
        "embedded_marital_status = tf.feature_column.embedding_column(marital_status, dimension=len(census['marital_status'].unique()))\n",
        "embedded_relationship = tf.feature_column.embedding_column(relationship, dimension=len(census['relationship'].unique()))\n",
        "embedded_education = tf.feature_column.embedding_column(education, dimension=len(census['education'].unique()))\n",
        "embedded_workclass = tf.feature_column.embedding_column(workclass, dimension=len(census['workclass'].unique()))\n",
        "embedded_native_country = tf.feature_column.embedding_column(native_country, dimension=len(census['native_country'].unique()))\n"
      ],
      "execution_count": 0,
      "outputs": []
    },
    {
      "cell_type": "code",
      "metadata": {
        "id": "WhhRTMOGADPa",
        "colab_type": "code",
        "colab": {}
      },
      "source": [
        "#continuous columns\n",
        "age = tf.feature_column.numeric_column(\"age\")\n",
        "education_num = tf.feature_column.numeric_column(\"education_num\")\n",
        "capital_gain = tf.feature_column.numeric_column(\"capital_gain\")\n",
        "capital_loss = tf.feature_column.numeric_column(\"capital_loss\")\n",
        "hours_per_week = tf.feature_column.numeric_column(\"hours_per_week\")"
      ],
      "execution_count": 0,
      "outputs": []
    },
    {
      "cell_type": "code",
      "metadata": {
        "id": "1iRh2bQcADPc",
        "colab_type": "code",
        "colab": {}
      },
      "source": [
        "import matplotlib.pyplot as plt\n",
        "%matplotlib inline"
      ],
      "execution_count": 0,
      "outputs": []
    },
    {
      "cell_type": "code",
      "metadata": {
        "id": "fMpYraD-ADPf",
        "colab_type": "code",
        "colab": {
          "base_uri": "https://localhost:8080/",
          "height": 286
        },
        "outputId": "e306e34f-5a52-450e-b715-8d8c163f5345"
      },
      "source": [
        "census['age'].hist(bins = 20)"
      ],
      "execution_count": 26,
      "outputs": [
        {
          "output_type": "execute_result",
          "data": {
            "text/plain": [
              "<matplotlib.axes._subplots.AxesSubplot at 0x7f90cadd3f60>"
            ]
          },
          "metadata": {
            "tags": []
          },
          "execution_count": 26
        },
        {
          "output_type": "display_data",
          "data": {
            "image/png": "[encoded data removed]",
            "text/plain": [
              "<Figure size 432x288 with 1 Axes>"
            ]
          },
          "metadata": {
            "tags": []
          }
        }
      ]
    },
    {
      "cell_type": "code",
      "metadata": {
        "id": "dztGI69wADPt",
        "colab_type": "code",
        "colab": {}
      },
      "source": [
        "age_buckets = tf.feature_column.bucketized_column(age, boundaries=list(range(20, 70, 10)))\n"
      ],
      "execution_count": 0,
      "outputs": []
    },
    {
      "cell_type": "code",
      "metadata": {
        "id": "uv7Mb012ADPw",
        "colab_type": "code",
        "colab": {}
      },
      "source": [
        "feat_cols = [gender,occupation,marital_status,relationship,education,workclass,native_country,\n",
        "            age,education_num,capital_gain,capital_loss,hours_per_week]"
      ],
      "execution_count": 0,
      "outputs": []
    },
    {
      "cell_type": "code",
      "metadata": {
        "id": "Plrf1yZcADPz",
        "colab_type": "code",
        "colab": {}
      },
      "source": [
        "input_func = tf.estimator.inputs.pandas_input_fn(x=x_train, y=y_train, batch_size=100, num_epochs=50, shuffle=True)"
      ],
      "execution_count": 0,
      "outputs": []
    },
    {
      "cell_type": "code",
      "metadata": {
        "id": "fdHsbzBOADP3",
        "colab_type": "code",
        "colab": {
          "base_uri": "https://localhost:8080/",
          "height": 188
        },
        "outputId": "9c19fca5-9c65-4485-bb6a-4576c79db8d2"
      },
      "source": [
        "lin_mode = tf.estimator.LinearClassifier(feature_columns=feat_cols)"
      ],
      "execution_count": 30,
      "outputs": [
        {
          "output_type": "stream",
          "text": [
            "INFO:tensorflow:Using default config.\n",
            "WARNING:tensorflow:Using temporary folder as model directory: /tmp/tmpk9x29gh8\n",
            "INFO:tensorflow:Using config: {'_model_dir': '/tmp/tmpk9x29gh8', '_tf_random_seed': None, '_save_summary_steps': 100, '_save_checkpoints_steps': None, '_save_checkpoints_secs': 600, '_session_config': allow_soft_placement: true\n",
            "graph_options {\n",
            "  rewrite_options {\n",
            "    meta_optimizer_iterations: ONE\n",
            "  }\n",
            "}\n",
            ", '_keep_checkpoint_max': 5, '_keep_checkpoint_every_n_hours': 10000, '_log_step_count_steps': 100, '_train_distribute': None, '_device_fn': None, '_protocol': None, '_eval_distribute': None, '_experimental_distribute': None, '_service': None, '_cluster_spec': <tensorflow.python.training.server_lib.ClusterSpec object at 0x7f90cadbb160>, '_task_type': 'worker', '_task_id': 0, '_global_id_in_cluster': 0, '_master': '', '_evaluation_master': '', '_is_chief': True, '_num_ps_replicas': 0, '_num_worker_replicas': 1}\n"
          ],
          "name": "stdout"
        }
      ]
    },
    {
      "cell_type": "code",
      "metadata": {
        "id": "8ukn7CxUADP_",
        "colab_type": "code",
        "colab": {
          "base_uri": "https://localhost:8080/",
          "height": 2170
        },
        "outputId": "cd5a91a3-ca9c-4f79-baa5-514f0ea269cd"
      },
      "source": [
        "lin_mode.train(input_fn=input_func, steps=5000)"
      ],
      "execution_count": 31,
      "outputs": [
        {
          "output_type": "stream",
          "text": [
            "WARNING:tensorflow:From /usr/local/lib/python3.6/dist-packages/tensorflow/python/framework/op_def_library.py:263: colocate_with (from tensorflow.python.framework.ops) is deprecated and will be removed in a future version.\n",
            "Instructions for updating:\n",
            "Colocations handled automatically by placer.\n",
            "WARNING:tensorflow:From /usr/local/lib/python3.6/dist-packages/tensorflow_estimator/python/estimator/inputs/queues/feeding_queue_runner.py:62: QueueRunner.__init__ (from tensorflow.python.training.queue_runner_impl) is deprecated and will be removed in a future version.\n",
            "Instructions for updating:\n",
            "To construct input pipelines, use the `tf.data` module.\n",
            "WARNING:tensorflow:From /usr/local/lib/python3.6/dist-packages/tensorflow_estimator/python/estimator/inputs/queues/feeding_functions.py:500: add_queue_runner (from tensorflow.python.training.queue_runner_impl) is deprecated and will be removed in a future version.\n",
            "Instructions for updating:\n",
            "To construct input pipelines, use the `tf.data` module.\n",
            "INFO:tensorflow:Calling model_fn.\n",
            "WARNING:tensorflow:From /usr/local/lib/python3.6/dist-packages/tensorflow/python/feature_column/feature_column_v2.py:2703: to_float (from tensorflow.python.ops.math_ops) is deprecated and will be removed in a future version.\n",
            "Instructions for updating:\n",
            "Use tf.cast instead.\n",
            "WARNING:tensorflow:From /usr/local/lib/python3.6/dist-packages/tensorflow/python/ops/lookup_ops.py:1137: to_int64 (from tensorflow.python.ops.math_ops) is deprecated and will be removed in a future version.\n",
            "Instructions for updating:\n",
            "Use tf.cast instead.\n",
            "INFO:tensorflow:Done calling model_fn.\n",
            "INFO:tensorflow:Create CheckpointSaverHook.\n",
            "INFO:tensorflow:Graph was finalized.\n",
            "INFO:tensorflow:Running local_init_op.\n",
            "INFO:tensorflow:Done running local_init_op.\n",
            "WARNING:tensorflow:From /usr/local/lib/python3.6/dist-packages/tensorflow/python/training/monitored_session.py:809: start_queue_runners (from tensorflow.python.training.queue_runner_impl) is deprecated and will be removed in a future version.\n",
            "Instructions for updating:\n",
            "To construct input pipelines, use the `tf.data` module.\n",
            "INFO:tensorflow:Saving checkpoints for 0 into /tmp/tmpk9x29gh8/model.ckpt.\n",
            "INFO:tensorflow:loss = 69.31472, step = 1\n",
            "INFO:tensorflow:global_step/sec: 165.941\n",
            "INFO:tensorflow:loss = 487.56125, step = 101 (0.605 sec)\n",
            "INFO:tensorflow:global_step/sec: 233.971\n",
            "INFO:tensorflow:loss = 146.67891, step = 201 (0.427 sec)\n",
            "INFO:tensorflow:global_step/sec: 236.244\n",
            "INFO:tensorflow:loss = 287.7886, step = 301 (0.425 sec)\n",
            "INFO:tensorflow:global_step/sec: 236.04\n",
            "INFO:tensorflow:loss = 52.57719, step = 401 (0.428 sec)\n",
            "INFO:tensorflow:global_step/sec: 220.23\n",
            "INFO:tensorflow:loss = 228.02657, step = 501 (0.452 sec)\n",
            "INFO:tensorflow:global_step/sec: 238.38\n",
            "INFO:tensorflow:loss = 100.06407, step = 601 (0.417 sec)\n",
            "INFO:tensorflow:global_step/sec: 233.304\n",
            "INFO:tensorflow:loss = 762.5889, step = 701 (0.433 sec)\n",
            "INFO:tensorflow:global_step/sec: 235.428\n",
            "INFO:tensorflow:loss = 91.29272, step = 801 (0.421 sec)\n",
            "INFO:tensorflow:global_step/sec: 236.425\n",
            "INFO:tensorflow:loss = 253.50464, step = 901 (0.429 sec)\n",
            "INFO:tensorflow:global_step/sec: 235.284\n",
            "INFO:tensorflow:loss = 135.67467, step = 1001 (0.421 sec)\n",
            "INFO:tensorflow:global_step/sec: 236.409\n",
            "INFO:tensorflow:loss = 58.576355, step = 1101 (0.423 sec)\n",
            "INFO:tensorflow:global_step/sec: 231.717\n",
            "INFO:tensorflow:loss = 96.868904, step = 1201 (0.432 sec)\n",
            "INFO:tensorflow:global_step/sec: 241.253\n",
            "INFO:tensorflow:loss = 192.93683, step = 1301 (0.411 sec)\n",
            "INFO:tensorflow:global_step/sec: 240.57\n",
            "INFO:tensorflow:loss = 221.3827, step = 1401 (0.415 sec)\n",
            "INFO:tensorflow:global_step/sec: 231.766\n",
            "INFO:tensorflow:loss = 70.932945, step = 1501 (0.437 sec)\n",
            "INFO:tensorflow:global_step/sec: 233.304\n",
            "INFO:tensorflow:loss = 57.61071, step = 1601 (0.427 sec)\n",
            "INFO:tensorflow:global_step/sec: 239.019\n",
            "INFO:tensorflow:loss = 68.841156, step = 1701 (0.417 sec)\n",
            "INFO:tensorflow:global_step/sec: 238.494\n",
            "INFO:tensorflow:loss = 67.60506, step = 1801 (0.417 sec)\n",
            "INFO:tensorflow:global_step/sec: 227.962\n",
            "INFO:tensorflow:loss = 91.99928, step = 1901 (0.444 sec)\n",
            "INFO:tensorflow:global_step/sec: 231.666\n",
            "INFO:tensorflow:loss = 65.16251, step = 2001 (0.433 sec)\n",
            "INFO:tensorflow:global_step/sec: 234.607\n",
            "INFO:tensorflow:loss = 53.86425, step = 2101 (0.423 sec)\n",
            "INFO:tensorflow:global_step/sec: 235.312\n",
            "INFO:tensorflow:loss = 171.0504, step = 2201 (0.428 sec)\n",
            "INFO:tensorflow:global_step/sec: 237.204\n",
            "INFO:tensorflow:loss = 71.41558, step = 2301 (0.420 sec)\n",
            "INFO:tensorflow:global_step/sec: 238.866\n",
            "INFO:tensorflow:loss = 37.49225, step = 2401 (0.413 sec)\n",
            "INFO:tensorflow:global_step/sec: 235.39\n",
            "INFO:tensorflow:loss = 118.92579, step = 2501 (0.426 sec)\n",
            "INFO:tensorflow:global_step/sec: 234.578\n",
            "INFO:tensorflow:loss = 47.8896, step = 2601 (0.426 sec)\n",
            "INFO:tensorflow:global_step/sec: 236.063\n",
            "INFO:tensorflow:loss = 52.43127, step = 2701 (0.426 sec)\n",
            "INFO:tensorflow:global_step/sec: 243.765\n",
            "INFO:tensorflow:loss = 88.446335, step = 2801 (0.408 sec)\n",
            "INFO:tensorflow:global_step/sec: 226.825\n",
            "INFO:tensorflow:loss = 55.42536, step = 2901 (0.449 sec)\n",
            "INFO:tensorflow:global_step/sec: 240.714\n",
            "INFO:tensorflow:loss = 43.59675, step = 3001 (0.408 sec)\n",
            "INFO:tensorflow:global_step/sec: 237.519\n",
            "INFO:tensorflow:loss = 64.8106, step = 3101 (0.429 sec)\n",
            "INFO:tensorflow:global_step/sec: 236.179\n",
            "INFO:tensorflow:loss = 60.109135, step = 3201 (0.420 sec)\n",
            "INFO:tensorflow:global_step/sec: 234.076\n",
            "INFO:tensorflow:loss = 130.96849, step = 3301 (0.423 sec)\n",
            "INFO:tensorflow:global_step/sec: 230.979\n",
            "INFO:tensorflow:loss = 36.07611, step = 3401 (0.432 sec)\n",
            "INFO:tensorflow:global_step/sec: 231.67\n",
            "INFO:tensorflow:loss = 267.74115, step = 3501 (0.439 sec)\n",
            "INFO:tensorflow:global_step/sec: 229.69\n",
            "INFO:tensorflow:loss = 29.656755, step = 3601 (0.430 sec)\n",
            "INFO:tensorflow:global_step/sec: 233.017\n",
            "INFO:tensorflow:loss = 40.074554, step = 3701 (0.428 sec)\n",
            "INFO:tensorflow:global_step/sec: 232.917\n",
            "INFO:tensorflow:loss = 53.285286, step = 3801 (0.437 sec)\n",
            "INFO:tensorflow:global_step/sec: 237.248\n",
            "INFO:tensorflow:loss = 53.651726, step = 3901 (0.414 sec)\n",
            "INFO:tensorflow:global_step/sec: 236.903\n",
            "INFO:tensorflow:loss = 51.60063, step = 4001 (0.429 sec)\n",
            "INFO:tensorflow:global_step/sec: 238.146\n",
            "INFO:tensorflow:loss = 106.41025, step = 4101 (0.413 sec)\n",
            "INFO:tensorflow:global_step/sec: 236.271\n",
            "INFO:tensorflow:loss = 48.859207, step = 4201 (0.429 sec)\n",
            "INFO:tensorflow:global_step/sec: 239.963\n",
            "INFO:tensorflow:loss = 56.407433, step = 4301 (0.409 sec)\n",
            "INFO:tensorflow:global_step/sec: 236.146\n",
            "INFO:tensorflow:loss = 77.23559, step = 4401 (0.429 sec)\n",
            "INFO:tensorflow:global_step/sec: 233.055\n",
            "INFO:tensorflow:loss = 50.3621, step = 4501 (0.424 sec)\n",
            "INFO:tensorflow:global_step/sec: 241.289\n",
            "INFO:tensorflow:loss = 43.199615, step = 4601 (0.420 sec)\n",
            "INFO:tensorflow:global_step/sec: 231.355\n",
            "INFO:tensorflow:loss = 50.16291, step = 4701 (0.432 sec)\n",
            "INFO:tensorflow:global_step/sec: 231.598\n",
            "INFO:tensorflow:loss = 86.33358, step = 4801 (0.430 sec)\n",
            "INFO:tensorflow:global_step/sec: 234.243\n",
            "INFO:tensorflow:loss = 37.123024, step = 4901 (0.427 sec)\n",
            "INFO:tensorflow:Saving checkpoints for 5000 into /tmp/tmpk9x29gh8/model.ckpt.\n",
            "INFO:tensorflow:Loss for final step: 67.68027.\n"
          ],
          "name": "stdout"
        },
        {
          "output_type": "execute_result",
          "data": {
            "text/plain": [
              "<tensorflow_estimator.python.estimator.canned.linear.LinearClassifier at 0x7f90cad85ba8>"
            ]
          },
          "metadata": {
            "tags": []
          },
          "execution_count": 31
        }
      ]
    },
    {
      "cell_type": "markdown",
      "metadata": {
        "id": "SSWwVsfeADQJ",
        "colab_type": "text"
      },
      "source": [
        "### Evaluation"
      ]
    },
    {
      "cell_type": "code",
      "metadata": {
        "id": "qeNImvIJADQL",
        "colab_type": "code",
        "colab": {}
      },
      "source": [
        "train_input_func = tf.estimator.inputs.pandas_input_fn(x=x_train.iloc[:1000, :], y=y_train.iloc[:1000], batch_size=1, num_epochs=1, shuffle=False)\n",
        "\n",
        "eval_input_func = tf.estimator.inputs.pandas_input_fn(x = x_test.iloc[:1000, :], y=y_test.iloc[:1000], batch_size=1, num_epochs=1, shuffle=False)\n"
      ],
      "execution_count": 0,
      "outputs": []
    },
    {
      "cell_type": "code",
      "metadata": {
        "id": "YQcOMt3TADQN",
        "colab_type": "code",
        "colab": {
          "base_uri": "https://localhost:8080/",
          "height": 541
        },
        "outputId": "0295629f-d38d-4223-f8fc-00aa0a88c948"
      },
      "source": [
        "train_results = lin_mode.evaluate(train_input_func)\n",
        "eval_results = lin_mode.evaluate(eval_input_func)"
      ],
      "execution_count": 33,
      "outputs": [
        {
          "output_type": "stream",
          "text": [
            "INFO:tensorflow:Calling model_fn.\n",
            "WARNING:tensorflow:From /usr/local/lib/python3.6/dist-packages/tensorflow/python/ops/metrics_impl.py:2002: div (from tensorflow.python.ops.math_ops) is deprecated and will be removed in a future version.\n",
            "Instructions for updating:\n",
            "Deprecated in favor of operator or tf.math.divide.\n",
            "WARNING:tensorflow:Trapezoidal rule is known to produce incorrect PR-AUCs; please switch to \"careful_interpolation\" instead.\n",
            "WARNING:tensorflow:Trapezoidal rule is known to produce incorrect PR-AUCs; please switch to \"careful_interpolation\" instead.\n",
            "INFO:tensorflow:Done calling model_fn.\n",
            "INFO:tensorflow:Starting evaluation at 2019-06-13T18:10:55Z\n",
            "INFO:tensorflow:Graph was finalized.\n",
            "WARNING:tensorflow:From /usr/local/lib/python3.6/dist-packages/tensorflow/python/training/saver.py:1266: checkpoint_exists (from tensorflow.python.training.checkpoint_management) is deprecated and will be removed in a future version.\n",
            "Instructions for updating:\n",
            "Use standard file APIs to check for files with this prefix.\n",
            "INFO:tensorflow:Restoring parameters from /tmp/tmpk9x29gh8/model.ckpt-5000\n",
            "INFO:tensorflow:Running local_init_op.\n",
            "INFO:tensorflow:Done running local_init_op.\n",
            "INFO:tensorflow:Finished evaluation at 2019-06-13-18:10:58\n",
            "INFO:tensorflow:Saving dict for global step 5000: accuracy = 0.811, accuracy_baseline = 0.745, auc = 0.838713, auc_precision_recall = 0.93586564, average_loss = 0.58583057, global_step = 5000, label/mean = 0.745, loss = 0.58583057, precision = 0.8398533, prediction/mean = 0.75873846, recall = 0.92214763\n",
            "INFO:tensorflow:Saving 'checkpoint_path' summary for global step 5000: /tmp/tmpk9x29gh8/model.ckpt-5000\n",
            "INFO:tensorflow:Calling model_fn.\n",
            "WARNING:tensorflow:Trapezoidal rule is known to produce incorrect PR-AUCs; please switch to \"careful_interpolation\" instead.\n",
            "WARNING:tensorflow:Trapezoidal rule is known to produce incorrect PR-AUCs; please switch to \"careful_interpolation\" instead.\n",
            "INFO:tensorflow:Done calling model_fn.\n",
            "INFO:tensorflow:Starting evaluation at 2019-06-13T18:11:00Z\n",
            "INFO:tensorflow:Graph was finalized.\n",
            "INFO:tensorflow:Restoring parameters from /tmp/tmpk9x29gh8/model.ckpt-5000\n",
            "INFO:tensorflow:Running local_init_op.\n",
            "INFO:tensorflow:Done running local_init_op.\n",
            "INFO:tensorflow:Finished evaluation at 2019-06-13-18:11:04\n",
            "INFO:tensorflow:Saving dict for global step 5000: accuracy = 0.827, accuracy_baseline = 0.765, auc = 0.8462467, auc_precision_recall = 0.94008446, average_loss = 0.52642626, global_step = 5000, label/mean = 0.765, loss = 0.52642626, precision = 0.8609756, prediction/mean = 0.76446617, recall = 0.9228758\n",
            "INFO:tensorflow:Saving 'checkpoint_path' summary for global step 5000: /tmp/tmpk9x29gh8/model.ckpt-5000\n"
          ],
          "name": "stdout"
        }
      ]
    },
    {
      "cell_type": "code",
      "metadata": {
        "id": "PQy-dC1oADQQ",
        "colab_type": "code",
        "colab": {
          "base_uri": "https://localhost:8080/",
          "height": 202
        },
        "outputId": "2798bac5-3075-4950-c250-4a2048023510"
      },
      "source": [
        "for key in train_results:\n",
        "    print (key, train_results[key], eval_results[key])"
      ],
      "execution_count": 34,
      "outputs": [
        {
          "output_type": "stream",
          "text": [
            "accuracy 0.811 0.827\n",
            "accuracy_baseline 0.745 0.765\n",
            "auc 0.838713 0.8462467\n",
            "auc_precision_recall 0.93586564 0.94008446\n",
            "average_loss 0.58583057 0.52642626\n",
            "label/mean 0.745 0.765\n",
            "loss 0.58583057 0.52642626\n",
            "precision 0.8398533 0.8609756\n",
            "prediction/mean 0.75873846 0.76446617\n",
            "recall 0.92214763 0.9228758\n",
            "global_step 5000 5000\n"
          ],
          "name": "stdout"
        }
      ]
    },
    {
      "cell_type": "markdown",
      "metadata": {
        "id": "jRvPKJEQADQS",
        "colab_type": "text"
      },
      "source": [
        "### Prediction"
      ]
    },
    {
      "cell_type": "code",
      "metadata": {
        "id": "UGV3cSlpADQT",
        "colab_type": "code",
        "colab": {}
      },
      "source": [
        "pred_input_func = tf.estimator.inputs.pandas_input_fn(x = x_test.iloc[:1000, :], batch_size=1, num_epochs=1, shuffle=False)\n"
      ],
      "execution_count": 0,
      "outputs": []
    },
    {
      "cell_type": "code",
      "metadata": {
        "id": "RCv9OneAADQW",
        "colab_type": "code",
        "colab": {
          "base_uri": "https://localhost:8080/",
          "height": 171
        },
        "outputId": "4cf513ea-4963-4b5d-ebcf-c205a3be4380"
      },
      "source": [
        "predictions = lin_mode.predict(pred_input_func)\n",
        "pred_values = list(predictions)\n",
        "print ('The classes are:')\n",
        "for i in range(len(pred_values)):\n",
        "    print (pred_values[i]['class_ids'], end = ' ')"
      ],
      "execution_count": 41,
      "outputs": [
        {
          "output_type": "stream",
          "text": [
            "INFO:tensorflow:Calling model_fn.\n",
            "INFO:tensorflow:Done calling model_fn.\n",
            "INFO:tensorflow:Graph was finalized.\n",
            "INFO:tensorflow:Restoring parameters from /tmp/tmpk9x29gh8/model.ckpt-5000\n",
            "INFO:tensorflow:Running local_init_op.\n",
            "INFO:tensorflow:Done running local_init_op.\n",
            "The classes are:\n",
            "[1] [1] [1] [1] [1] [1] [0] [1] [0] [1] [1] [1] [1] [1] [1] [1] [0] [0] [1] [1] [1] [1] [1] [1] [1] [1] [0] [1] [1] [1] [0] [1] [1] [1] [1] [1] [1] [1] [0] [1] [1] [1] [1] [1] [1] [1] [1] [1] [1] [1] [0] [0] [1] [1] [1] [1] [0] [1] [1] [1] [1] [1] [1] [1] [1] [1] [1] [1] [1] [1] [1] [0] [1] [1] [1] [1] [1] [1] [1] [1] [1] [1] [1] [1] [1] [1] [1] [1] [1] [1] [1] [1] [1] [0] [1] [1] [1] [1] [1] [0] [1] [1] [0] [1] [0] [0] [1] [0] [1] [1] [1] [1] [1] [0] [1] [1] [1] [0] [0] [1] [1] [1] [0] [1] [1] [1] [1] [1] [1] [1] [1] [1] [1] [1] [1] [1] [0] [1] [1] [1] [1] [1] [1] [1] [1] [1] [1] [0] [1] [0] [1] [1] [1] [1] [1] [0] [0] [0] [0] [1] [1] [1] [0] [1] [1] [0] [1] [1] [0] [1] [1] [1] [1] [1] [1] [1] [1] [1] [1] [1] [1] [1] [0] [0] [1] [1] [1] [0] [1] [0] [1] [1] [1] [1] [0] [0] [1] [0] [0] [1] [1] [1] [1] [1] [1] [1] [0] [1] [0] [1] [1] [1] [0] [1] [1] [0] [0] [0] [0] [1] [1] [1] [0] [1] [1] [1] [1] [0] [1] [1] [1] [1] [0] [1] [1] [1] [0] [1] [1] [1] [0] [1] [0] [0] [0] [1] [1] [1] [1] [1] [1] [1] [1] [1] [1] [1] [0] [1] [1] [0] [1] [1] [1] [1] [0] [1] [1] [1] [1] [1] [1] [1] [1] [1] [1] [1] [1] [1] [1] [1] [1] [1] [1] [1] [1] [1] [0] [1] [1] [1] [1] [1] [1] [1] [1] [1] [1] [0] [0] [1] [1] [1] [1] [1] [0] [0] [1] [0] [1] [1] [0] [0] [1] [1] [1] [1] [0] [1] [1] [1] [0] [0] [0] [1] [1] [1] [1] [1] [1] [0] [0] [1] [1] [1] [1] [1] [0] [1] [1] [0] [1] [1] [1] [1] [1] [0] [0] [0] [1] [0] [0] [1] [1] [0] [1] [1] [0] [1] [1] [1] [1] [0] [1] [1] [1] [1] [1] [1] [1] [1] [1] [1] [1] [1] [1] [1] [1] [0] [1] [1] [1] [1] [0] [0] [1] [1] [1] [1] [1] [1] [0] [1] [1] [1] [0] [1] [1] [1] [1] [1] [1] [1] [1] [1] [1] [1] [1] [1] [0] [1] [1] [1] [1] [1] [1] [1] [1] [0] [1] [1] [1] [1] [1] [1] [0] [1] [1] [1] [1] [1] [1] [1] [0] [1] [1] [0] [1] [1] [1] [0] [1] [1] [1] [1] [1] [1] [1] [1] [1] [1] [1] [1] [1] [1] [1] [1] [0] [1] [0] [1] [1] [1] [0] [0] [1] [0] [1] [1] [0] [1] [1] [1] [0] [1] [1] [1] [0] [0] [1] [1] [1] [1] [1] [1] [1] [0] [1] [1] [1] [1] [1] [0] [1] [1] [1] [1] [1] [1] [1] [1] [1] [0] [1] [1] [1] [1] [0] [1] [1] [1] [1] [1] [1] [1] [1] [1] [1] [1] [1] [1] [1] [1] [0] [1] [1] [1] [0] [1] [1] [1] [1] [0] [1] [1] [1] [1] [1] [1] [0] [1] [1] [0] [1] [1] [1] [1] [1] [0] [1] [1] [1] [1] [1] [1] [1] [1] [1] [1] [1] [1] [1] [1] [1] [1] [1] [0] [1] [1] [1] [1] [1] [0] [1] [1] [1] [0] [1] [0] [1] [1] [1] [1] [1] [1] [1] [1] [1] [1] [1] [1] [0] [1] [1] [1] [1] [1] [1] [1] [1] [1] [1] [1] [1] [1] [1] [0] [0] [0] [1] [1] [1] [1] [0] [1] [0] [1] [1] [1] [1] [1] [1] [1] [1] [1] [0] [1] [0] [1] [1] [1] [1] [1] [0] [1] [1] [0] [1] [1] [1] [1] [1] [1] [1] [1] [1] [1] [1] [1] [1] [1] [1] [1] [1] [1] [1] [0] [1] [1] [1] [1] [1] [1] [1] [1] [1] [1] [1] [1] [1] [1] [1] [1] [1] [1] [1] [0] [1] [1] [1] [1] [0] [1] [1] [1] [1] [1] [1] [1] [1] [1] [1] [1] [0] [1] [1] [1] [1] [1] [1] [1] [1] [1] [0] [1] [1] [1] [0] [1] [1] [1] [1] [1] [1] [1] [1] [1] [1] [1] [1] [1] [1] [1] [1] [1] [1] [1] [1] [1] [1] [1] [1] [1] [1] [1] [1] [1] [1] [0] [1] [1] [1] [1] [0] [1] [1] [1] [1] [0] [1] [1] [1] [0] [1] [1] [0] [1] [1] [1] [1] [1] [0] [1] [0] [1] [1] [1] [1] [1] [1] [1] [1] [1] [1] [1] [1] [1] [1] [1] [1] [1] [1] [0] [1] [1] [1] [1] [1] [1] [1] [1] [0] [1] [1] [0] [1] [1] [1] [1] [1] [1] [1] [1] [1] [1] [1] [0] [0] [1] [1] [1] [1] [1] [0] [1] [0] [1] [1] [1] [0] [1] [1] [1] [0] [1] [1] [1] [1] [0] [0] [1] [1] [1] [1] [1] [1] [1] [1] [1] [1] [1] [0] [1] [1] [1] [1] [1] [1] [1] [1] [1] [1] [1] [1] [1] [1] [0] [1] [1] [1] [1] [1] [0] [1] [0] [1] [1] [1] [1] [1] [0] [1] [1] [1] [0] [1] [0] [0] [1] [1] [1] [0] [1] [1] [1] [1] [1] [0] [1] [1] [1] [0] [1] [1] [1] [1] [1] [1] [1] [1] [1] [0] [1] [1] [0] [0] [1] [1] [1] [1] [1] [1] [1] [1] [1] [1] [1] [1] [1] [1] [1] [1] [1] [1] [0] [1] [1] [1] [0] [1] [0] [1] [0] [1] [1] [1] [1] [1] [0] [1] [1] [1] [1] [1] [1] [0] [0] [1] [1] [1] [1] [1] [1] [1] [1] [1] [1] [1] [1] [0] [1] [0] [0] [1] [1] [1] [1] [1] [1] [1] [1] [1] [1] [1] [1] [1] [1] [1] [1] [1] [1] [0] [1] [1] [1] [1] [1] [1] [1] [0] [0] [1] [0] [1] [0] [1] [0] [1] [0] [1] [1] "
          ],
          "name": "stdout"
        }
      ]
    },
    {
      "cell_type": "markdown",
      "metadata": {
        "id": "T98uVznJADQZ",
        "colab_type": "text"
      },
      "source": [
        "## DNNClassifier"
      ]
    },
    {
      "cell_type": "code",
      "metadata": {
        "id": "JK28eyQrADQZ",
        "colab_type": "code",
        "colab": {}
      },
      "source": [
        "feat_cols = [embedded_gender, embedded_occupation, embedded_marital_status, embedded_relationship, embedded_education, embedded_workclass, embedded_native_country,\n",
        "            age_buckets,education_num,capital_gain,capital_loss,hours_per_week]"
      ],
      "execution_count": 0,
      "outputs": []
    },
    {
      "cell_type": "code",
      "metadata": {
        "id": "aqK0hYAOADQb",
        "colab_type": "code",
        "colab": {}
      },
      "source": [
        "input_func = tf.estimator.inputs.pandas_input_fn(x=x_train, y=y_train, batch_size=100, num_epochs=50, shuffle=True)"
      ],
      "execution_count": 0,
      "outputs": []
    },
    {
      "cell_type": "code",
      "metadata": {
        "id": "MI6GFPAoADQe",
        "colab_type": "code",
        "colab": {
          "base_uri": "https://localhost:8080/",
          "height": 188
        },
        "outputId": "26402af0-1872-4393-ad32-7196b3686aaf"
      },
      "source": [
        "dnn_model = tf.estimator.DNNClassifier(hidden_units=[6, 6, 6], feature_columns=feat_cols, n_classes=len(y_train.unique()))"
      ],
      "execution_count": 39,
      "outputs": [
        {
          "output_type": "stream",
          "text": [
            "INFO:tensorflow:Using default config.\n",
            "WARNING:tensorflow:Using temporary folder as model directory: /tmp/tmp8tsu76os\n",
            "INFO:tensorflow:Using config: {'_model_dir': '/tmp/tmp8tsu76os', '_tf_random_seed': None, '_save_summary_steps': 100, '_save_checkpoints_steps': None, '_save_checkpoints_secs': 600, '_session_config': allow_soft_placement: true\n",
            "graph_options {\n",
            "  rewrite_options {\n",
            "    meta_optimizer_iterations: ONE\n",
            "  }\n",
            "}\n",
            ", '_keep_checkpoint_max': 5, '_keep_checkpoint_every_n_hours': 10000, '_log_step_count_steps': 100, '_train_distribute': None, '_device_fn': None, '_protocol': None, '_eval_distribute': None, '_experimental_distribute': None, '_service': None, '_cluster_spec': <tensorflow.python.training.server_lib.ClusterSpec object at 0x7f90c6e38ac8>, '_task_type': 'worker', '_task_id': 0, '_global_id_in_cluster': 0, '_master': '', '_evaluation_master': '', '_is_chief': True, '_num_ps_replicas': 0, '_num_worker_replicas': 1}\n"
          ],
          "name": "stdout"
        }
      ]
    },
    {
      "cell_type": "code",
      "metadata": {
        "id": "7cOOrw4MADQm",
        "colab_type": "code",
        "colab": {
          "base_uri": "https://localhost:8080/",
          "height": 2019
        },
        "outputId": "188820f6-2c8d-4e7d-c86c-fa96c05ecfde"
      },
      "source": [
        "dnn_model.train(input_fn=input_func, steps = 5000)"
      ],
      "execution_count": 40,
      "outputs": [
        {
          "output_type": "stream",
          "text": [
            "INFO:tensorflow:Calling model_fn.\n",
            "WARNING:tensorflow:From /usr/local/lib/python3.6/dist-packages/tensorflow/python/feature_column/feature_column_v2.py:2997: HashedCategoricalColumn._num_buckets (from tensorflow.python.feature_column.feature_column_v2) is deprecated and will be removed after 2018-11-30.\n",
            "Instructions for updating:\n",
            "The old _FeatureColumn APIs are being deprecated. Please use the new FeatureColumn APIs instead.\n",
            "WARNING:tensorflow:From /usr/local/lib/python3.6/dist-packages/tensorflow/python/feature_column/feature_column_v2.py:2997: VocabularyListCategoricalColumn._num_buckets (from tensorflow.python.feature_column.feature_column_v2) is deprecated and will be removed after 2018-11-30.\n",
            "Instructions for updating:\n",
            "The old _FeatureColumn APIs are being deprecated. Please use the new FeatureColumn APIs instead.\n",
            "WARNING:tensorflow:From /usr/local/lib/python3.6/dist-packages/tensorflow/python/ops/array_grad.py:425: to_int32 (from tensorflow.python.ops.math_ops) is deprecated and will be removed in a future version.\n",
            "Instructions for updating:\n",
            "Use tf.cast instead.\n",
            "INFO:tensorflow:Done calling model_fn.\n",
            "INFO:tensorflow:Create CheckpointSaverHook.\n",
            "INFO:tensorflow:Graph was finalized.\n",
            "INFO:tensorflow:Running local_init_op.\n",
            "INFO:tensorflow:Done running local_init_op.\n",
            "INFO:tensorflow:Saving checkpoints for 0 into /tmp/tmp8tsu76os/model.ckpt.\n",
            "INFO:tensorflow:loss = 4503.985, step = 1\n",
            "INFO:tensorflow:global_step/sec: 135.18\n",
            "INFO:tensorflow:loss = 40.79946, step = 101 (0.743 sec)\n",
            "INFO:tensorflow:global_step/sec: 213.975\n",
            "INFO:tensorflow:loss = 45.997845, step = 201 (0.472 sec)\n",
            "INFO:tensorflow:global_step/sec: 210.275\n",
            "INFO:tensorflow:loss = 40.95686, step = 301 (0.477 sec)\n",
            "INFO:tensorflow:global_step/sec: 212.636\n",
            "INFO:tensorflow:loss = 38.775265, step = 401 (0.463 sec)\n",
            "INFO:tensorflow:global_step/sec: 209.693\n",
            "INFO:tensorflow:loss = 39.198315, step = 501 (0.485 sec)\n",
            "INFO:tensorflow:global_step/sec: 205.176\n",
            "INFO:tensorflow:loss = 50.45622, step = 601 (0.485 sec)\n",
            "INFO:tensorflow:global_step/sec: 199.614\n",
            "INFO:tensorflow:loss = 31.84779, step = 701 (0.496 sec)\n",
            "INFO:tensorflow:global_step/sec: 204.29\n",
            "INFO:tensorflow:loss = 44.632465, step = 801 (0.492 sec)\n",
            "INFO:tensorflow:global_step/sec: 212.376\n",
            "INFO:tensorflow:loss = 38.95725, step = 901 (0.475 sec)\n",
            "INFO:tensorflow:global_step/sec: 207.378\n",
            "INFO:tensorflow:loss = 34.11066, step = 1001 (0.482 sec)\n",
            "INFO:tensorflow:global_step/sec: 209.391\n",
            "INFO:tensorflow:loss = 41.566406, step = 1101 (0.472 sec)\n",
            "INFO:tensorflow:global_step/sec: 211.065\n",
            "INFO:tensorflow:loss = 30.403505, step = 1201 (0.478 sec)\n",
            "INFO:tensorflow:global_step/sec: 208.09\n",
            "INFO:tensorflow:loss = 40.608727, step = 1301 (0.484 sec)\n",
            "INFO:tensorflow:global_step/sec: 210.615\n",
            "INFO:tensorflow:loss = 41.622963, step = 1401 (0.472 sec)\n",
            "INFO:tensorflow:global_step/sec: 213.37\n",
            "INFO:tensorflow:loss = 43.09756, step = 1501 (0.463 sec)\n",
            "INFO:tensorflow:global_step/sec: 215.035\n",
            "INFO:tensorflow:loss = 36.940216, step = 1601 (0.467 sec)\n",
            "INFO:tensorflow:global_step/sec: 214.808\n",
            "INFO:tensorflow:loss = 44.29735, step = 1701 (0.468 sec)\n",
            "INFO:tensorflow:global_step/sec: 217.766\n",
            "INFO:tensorflow:loss = 37.868546, step = 1801 (0.456 sec)\n",
            "INFO:tensorflow:global_step/sec: 210.637\n",
            "INFO:tensorflow:loss = 35.760307, step = 1901 (0.476 sec)\n",
            "INFO:tensorflow:global_step/sec: 214.99\n",
            "INFO:tensorflow:loss = 49.57389, step = 2001 (0.464 sec)\n",
            "INFO:tensorflow:global_step/sec: 209.634\n",
            "INFO:tensorflow:loss = 40.206963, step = 2101 (0.478 sec)\n",
            "INFO:tensorflow:global_step/sec: 212.084\n",
            "INFO:tensorflow:loss = 43.740704, step = 2201 (0.477 sec)\n",
            "INFO:tensorflow:global_step/sec: 209.058\n",
            "INFO:tensorflow:loss = 44.423557, step = 2301 (0.473 sec)\n",
            "INFO:tensorflow:global_step/sec: 210.73\n",
            "INFO:tensorflow:loss = 45.169674, step = 2401 (0.476 sec)\n",
            "INFO:tensorflow:global_step/sec: 207.821\n",
            "INFO:tensorflow:loss = 36.57781, step = 2501 (0.479 sec)\n",
            "INFO:tensorflow:global_step/sec: 213.079\n",
            "INFO:tensorflow:loss = 41.41194, step = 2601 (0.478 sec)\n",
            "INFO:tensorflow:global_step/sec: 215.309\n",
            "INFO:tensorflow:loss = 37.471073, step = 2701 (0.459 sec)\n",
            "INFO:tensorflow:global_step/sec: 199.88\n",
            "INFO:tensorflow:loss = 39.617672, step = 2801 (0.508 sec)\n",
            "INFO:tensorflow:global_step/sec: 212.54\n",
            "INFO:tensorflow:loss = 38.259632, step = 2901 (0.468 sec)\n",
            "INFO:tensorflow:global_step/sec: 206.546\n",
            "INFO:tensorflow:loss = 34.546967, step = 3001 (0.477 sec)\n",
            "INFO:tensorflow:global_step/sec: 212.897\n",
            "INFO:tensorflow:loss = 47.561996, step = 3101 (0.475 sec)\n",
            "INFO:tensorflow:global_step/sec: 215.874\n",
            "INFO:tensorflow:loss = 39.42538, step = 3201 (0.461 sec)\n",
            "INFO:tensorflow:global_step/sec: 216.056\n",
            "INFO:tensorflow:loss = 43.987633, step = 3301 (0.465 sec)\n",
            "INFO:tensorflow:global_step/sec: 208.634\n",
            "INFO:tensorflow:loss = 35.784813, step = 3401 (0.476 sec)\n",
            "INFO:tensorflow:global_step/sec: 207.647\n",
            "INFO:tensorflow:loss = 36.948692, step = 3501 (0.479 sec)\n",
            "INFO:tensorflow:global_step/sec: 206.31\n",
            "INFO:tensorflow:loss = 37.93155, step = 3601 (0.488 sec)\n",
            "INFO:tensorflow:global_step/sec: 207.159\n",
            "INFO:tensorflow:loss = 33.112297, step = 3701 (0.480 sec)\n",
            "INFO:tensorflow:global_step/sec: 205.581\n",
            "INFO:tensorflow:loss = 31.88247, step = 3801 (0.492 sec)\n",
            "INFO:tensorflow:global_step/sec: 213.6\n",
            "INFO:tensorflow:loss = 40.706112, step = 3901 (0.462 sec)\n",
            "INFO:tensorflow:global_step/sec: 214.76\n",
            "INFO:tensorflow:loss = 31.814428, step = 4001 (0.468 sec)\n",
            "INFO:tensorflow:global_step/sec: 212.667\n",
            "INFO:tensorflow:loss = 36.4982, step = 4101 (0.470 sec)\n",
            "INFO:tensorflow:global_step/sec: 213.554\n",
            "INFO:tensorflow:loss = 37.90748, step = 4201 (0.467 sec)\n",
            "INFO:tensorflow:global_step/sec: 212.099\n",
            "INFO:tensorflow:loss = 37.928196, step = 4301 (0.474 sec)\n",
            "INFO:tensorflow:global_step/sec: 214.97\n",
            "INFO:tensorflow:loss = 44.048588, step = 4401 (0.462 sec)\n",
            "INFO:tensorflow:global_step/sec: 215.634\n",
            "INFO:tensorflow:loss = 43.88471, step = 4501 (0.464 sec)\n",
            "INFO:tensorflow:global_step/sec: 212.206\n",
            "INFO:tensorflow:loss = 38.585632, step = 4601 (0.471 sec)\n",
            "INFO:tensorflow:global_step/sec: 217.148\n",
            "INFO:tensorflow:loss = 32.19749, step = 4701 (0.460 sec)\n",
            "INFO:tensorflow:global_step/sec: 216.503\n",
            "INFO:tensorflow:loss = 47.897022, step = 4801 (0.468 sec)\n",
            "INFO:tensorflow:global_step/sec: 215.914\n",
            "INFO:tensorflow:loss = 38.24922, step = 4901 (0.460 sec)\n",
            "INFO:tensorflow:Saving checkpoints for 5000 into /tmp/tmp8tsu76os/model.ckpt.\n",
            "INFO:tensorflow:Loss for final step: 47.10093.\n"
          ],
          "name": "stdout"
        },
        {
          "output_type": "execute_result",
          "data": {
            "text/plain": [
              "<tensorflow_estimator.python.estimator.canned.dnn.DNNClassifier at 0x7f90c6d32a58>"
            ]
          },
          "metadata": {
            "tags": []
          },
          "execution_count": 40
        }
      ]
    },
    {
      "cell_type": "code",
      "metadata": {
        "id": "a-6TkjnFADQs",
        "colab_type": "code",
        "colab": {}
      },
      "source": [
        "Evaluation"
      ],
      "execution_count": 0,
      "outputs": []
    },
    {
      "cell_type": "markdown",
      "metadata": {
        "id": "gsM_4wIjCuAq",
        "colab_type": "text"
      },
      "source": [
        "## Evaluation"
      ]
    },
    {
      "cell_type": "code",
      "metadata": {
        "id": "yI_nhbFPADQv",
        "colab_type": "code",
        "colab": {}
      },
      "source": [
        "train_input_func = tf.estimator.inputs.pandas_input_fn(x=x_train.iloc[:1000, :], y=y_train.iloc[:1000], batch_size=100, num_epochs=1, shuffle=False)\n",
        "\n",
        "eval_input_func = tf.estimator.inputs.pandas_input_fn(x = x_test.iloc[:1000, :], y=y_test.iloc[:1000], batch_size=100, num_epochs=1, shuffle=False)\n"
      ],
      "execution_count": 0,
      "outputs": []
    },
    {
      "cell_type": "code",
      "metadata": {
        "id": "a41DVCPdADQz",
        "colab_type": "code",
        "colab": {
          "base_uri": "https://localhost:8080/",
          "height": 440
        },
        "outputId": "225f6d86-dc7c-41a9-8ef3-2a60aafddd10"
      },
      "source": [
        "train_results = dnn_model.evaluate(train_input_func)\n",
        "eval_results = dnn_model.evaluate(eval_input_func)"
      ],
      "execution_count": 43,
      "outputs": [
        {
          "output_type": "stream",
          "text": [
            "INFO:tensorflow:Calling model_fn.\n",
            "WARNING:tensorflow:Trapezoidal rule is known to produce incorrect PR-AUCs; please switch to \"careful_interpolation\" instead.\n",
            "WARNING:tensorflow:Trapezoidal rule is known to produce incorrect PR-AUCs; please switch to \"careful_interpolation\" instead.\n",
            "INFO:tensorflow:Done calling model_fn.\n",
            "INFO:tensorflow:Starting evaluation at 2019-06-13T18:15:00Z\n",
            "INFO:tensorflow:Graph was finalized.\n",
            "INFO:tensorflow:Restoring parameters from /tmp/tmp8tsu76os/model.ckpt-5000\n",
            "INFO:tensorflow:Running local_init_op.\n",
            "INFO:tensorflow:Done running local_init_op.\n",
            "INFO:tensorflow:Finished evaluation at 2019-06-13-18:15:01\n",
            "INFO:tensorflow:Saving dict for global step 5000: accuracy = 0.798, accuracy_baseline = 0.745, auc = 0.83897614, auc_precision_recall = 0.9388757, average_loss = 0.4154476, global_step = 5000, label/mean = 0.745, loss = 41.54476, precision = 0.85490197, prediction/mean = 0.75707275, recall = 0.8778523\n",
            "INFO:tensorflow:Saving 'checkpoint_path' summary for global step 5000: /tmp/tmp8tsu76os/model.ckpt-5000\n",
            "INFO:tensorflow:Calling model_fn.\n",
            "WARNING:tensorflow:Trapezoidal rule is known to produce incorrect PR-AUCs; please switch to \"careful_interpolation\" instead.\n",
            "WARNING:tensorflow:Trapezoidal rule is known to produce incorrect PR-AUCs; please switch to \"careful_interpolation\" instead.\n",
            "INFO:tensorflow:Done calling model_fn.\n",
            "INFO:tensorflow:Starting evaluation at 2019-06-13T18:15:03Z\n",
            "INFO:tensorflow:Graph was finalized.\n",
            "INFO:tensorflow:Restoring parameters from /tmp/tmp8tsu76os/model.ckpt-5000\n",
            "INFO:tensorflow:Running local_init_op.\n",
            "INFO:tensorflow:Done running local_init_op.\n",
            "INFO:tensorflow:Finished evaluation at 2019-06-13-18:15:04\n",
            "INFO:tensorflow:Saving dict for global step 5000: accuracy = 0.82, accuracy_baseline = 0.765, auc = 0.8496676, auc_precision_recall = 0.94644785, average_loss = 0.39235362, global_step = 5000, label/mean = 0.765, loss = 39.235363, precision = 0.87839586, prediction/mean = 0.760068, recall = 0.8875817\n",
            "INFO:tensorflow:Saving 'checkpoint_path' summary for global step 5000: /tmp/tmp8tsu76os/model.ckpt-5000\n"
          ],
          "name": "stdout"
        }
      ]
    },
    {
      "cell_type": "code",
      "metadata": {
        "id": "WUpyUyErADQ0",
        "colab_type": "code",
        "colab": {
          "base_uri": "https://localhost:8080/",
          "height": 202
        },
        "outputId": "6d0f93ec-c57b-4b6b-c685-f54dbe5e48d8"
      },
      "source": [
        "for key in train_results:\n",
        "    print (key, train_results[key], eval_results[key])"
      ],
      "execution_count": 44,
      "outputs": [
        {
          "output_type": "stream",
          "text": [
            "accuracy 0.798 0.82\n",
            "accuracy_baseline 0.745 0.765\n",
            "auc 0.83897614 0.8496676\n",
            "auc_precision_recall 0.9388757 0.94644785\n",
            "average_loss 0.4154476 0.39235362\n",
            "label/mean 0.745 0.765\n",
            "loss 41.54476 39.235363\n",
            "precision 0.85490197 0.87839586\n",
            "prediction/mean 0.75707275 0.760068\n",
            "recall 0.8778523 0.8875817\n",
            "global_step 5000 5000\n"
          ],
          "name": "stdout"
        }
      ]
    },
    {
      "cell_type": "markdown",
      "metadata": {
        "id": "RYMD4-DUADQ2",
        "colab_type": "text"
      },
      "source": [
        "## Prediction"
      ]
    },
    {
      "cell_type": "code",
      "metadata": {
        "id": "9N9xM90CD00x",
        "colab_type": "code",
        "colab": {
          "base_uri": "https://localhost:8080/",
          "height": 171
        },
        "outputId": "2f771b6d-bfe6-44d8-8e75-e0f62238e629"
      },
      "source": [
        "predictions = dnn_model.predict(pred_input_func)\n",
        "pred_values = list(predictions)\n",
        "print ('The classes are:')\n",
        "for i in range(len(pred_values)):\n",
        "    print (pred_values[i]['class_ids'], end = ' ')"
      ],
      "execution_count": 45,
      "outputs": [
        {
          "output_type": "stream",
          "text": [
            "INFO:tensorflow:Calling model_fn.\n",
            "INFO:tensorflow:Done calling model_fn.\n",
            "INFO:tensorflow:Graph was finalized.\n",
            "INFO:tensorflow:Restoring parameters from /tmp/tmp8tsu76os/model.ckpt-5000\n",
            "INFO:tensorflow:Running local_init_op.\n",
            "INFO:tensorflow:Done running local_init_op.\n",
            "The classes are:\n",
            "[1] [1] [1] [1] [0] [1] [0] [1] [0] [1] [1] [1] [1] [1] [1] [1] [0] [0] [1] [1] [1] [1] [1] [1] [1] [1] [0] [1] [1] [1] [0] [1] [1] [1] [1] [1] [1] [1] [0] [1] [0] [0] [1] [1] [1] [1] [1] [1] [1] [0] [0] [0] [1] [1] [1] [1] [0] [1] [1] [1] [1] [1] [1] [1] [1] [0] [1] [1] [1] [1] [0] [0] [1] [1] [1] [1] [1] [1] [1] [1] [1] [1] [1] [0] [1] [1] [1] [1] [1] [1] [1] [1] [1] [0] [1] [1] [1] [1] [1] [1] [0] [1] [0] [1] [0] [0] [1] [0] [1] [1] [1] [1] [1] [0] [1] [1] [1] [0] [0] [1] [1] [1] [0] [1] [1] [1] [1] [1] [1] [1] [1] [1] [1] [1] [1] [1] [0] [1] [1] [1] [0] [1] [1] [1] [0] [1] [1] [0] [1] [0] [1] [1] [1] [1] [1] [1] [0] [0] [0] [1] [1] [1] [0] [1] [1] [0] [1] [1] [0] [0] [1] [1] [1] [1] [1] [1] [0] [0] [1] [1] [1] [1] [0] [0] [1] [1] [1] [0] [1] [0] [1] [1] [1] [1] [0] [0] [1] [0] [0] [1] [1] [1] [1] [1] [1] [1] [0] [1] [0] [1] [1] [1] [1] [1] [1] [0] [0] [0] [0] [0] [1] [0] [0] [1] [1] [1] [1] [0] [1] [0] [1] [1] [0] [1] [1] [1] [0] [1] [1] [1] [0] [1] [0] [1] [0] [1] [1] [1] [1] [1] [1] [1] [1] [1] [1] [1] [0] [1] [1] [0] [1] [1] [1] [1] [0] [1] [0] [0] [1] [1] [1] [1] [1] [1] [1] [1] [1] [0] [1] [1] [0] [1] [1] [1] [1] [1] [0] [1] [1] [1] [1] [1] [1] [1] [1] [1] [1] [0] [0] [1] [1] [1] [1] [1] [0] [0] [1] [0] [1] [1] [0] [0] [1] [1] [1] [1] [0] [1] [1] [1] [0] [0] [0] [1] [1] [1] [1] [1] [1] [0] [0] [1] [1] [1] [1] [0] [0] [1] [1] [0] [1] [1] [1] [1] [1] [0] [0] [0] [1] [0] [0] [1] [1] [0] [1] [1] [0] [1] [1] [1] [1] [0] [1] [1] [1] [1] [1] [1] [0] [1] [0] [0] [1] [1] [1] [1] [1] [1] [0] [1] [1] [1] [0] [0] [1] [1] [1] [1] [1] [1] [0] [1] [1] [1] [0] [1] [0] [1] [1] [1] [1] [1] [1] [1] [1] [1] [1] [0] [0] [1] [1] [1] [1] [1] [1] [1] [1] [0] [1] [1] [1] [1] [1] [1] [0] [1] [1] [1] [1] [1] [1] [1] [0] [1] [0] [0] [1] [1] [1] [0] [1] [1] [1] [1] [1] [0] [1] [1] [1] [1] [1] [1] [1] [1] [1] [1] [1] [1] [0] [0] [1] [1] [0] [0] [1] [0] [1] [1] [0] [1] [0] [0] [0] [1] [1] [1] [0] [0] [1] [1] [1] [1] [1] [1] [0] [0] [0] [1] [1] [1] [1] [0] [1] [1] [1] [1] [1] [1] [1] [1] [1] [0] [1] [1] [1] [1] [1] [1] [1] [1] [1] [1] [1] [1] [1] [0] [1] [1] [1] [1] [1] [1] [1] [1] [1] [1] [0] [1] [1] [1] [1] [0] [1] [0] [1] [1] [1] [1] [0] [1] [1] [0] [1] [1] [1] [1] [1] [0] [1] [1] [1] [1] [1] [1] [0] [0] [1] [1] [1] [1] [1] [1] [0] [1] [1] [0] [1] [1] [1] [1] [1] [0] [1] [1] [1] [0] [1] [0] [1] [1] [0] [1] [1] [1] [1] [1] [1] [1] [1] [1] [0] [1] [1] [1] [1] [1] [1] [1] [1] [1] [1] [1] [1] [1] [1] [0] [1] [0] [0] [1] [1] [1] [0] [1] [0] [1] [1] [1] [1] [1] [1] [1] [1] [1] [0] [1] [0] [1] [1] [1] [1] [1] [0] [1] [1] [0] [1] [1] [1] [0] [1] [1] [0] [1] [1] [1] [1] [1] [1] [1] [1] [1] [1] [1] [1] [0] [1] [1] [1] [1] [1] [1] [1] [1] [1] [1] [1] [1] [1] [1] [1] [1] [1] [1] [1] [1] [1] [1] [1] [1] [0] [0] [1] [1] [0] [1] [1] [1] [1] [1] [1] [1] [0] [1] [1] [1] [1] [1] [1] [1] [1] [1] [0] [1] [1] [1] [0] [1] [1] [1] [1] [1] [1] [1] [1] [1] [1] [1] [0] [1] [1] [1] [1] [1] [1] [1] [1] [1] [1] [1] [1] [0] [1] [1] [1] [1] [1] [0] [1] [1] [1] [1] [0] [0] [1] [1] [1] [0] [1] [1] [1] [0] [1] [1] [0] [1] [1] [1] [1] [1] [0] [1] [0] [1] [1] [1] [1] [0] [0] [1] [1] [1] [1] [1] [1] [1] [1] [1] [1] [1] [1] [0] [1] [1] [1] [1] [1] [1] [1] [1] [0] [1] [1] [0] [1] [1] [1] [1] [1] [1] [1] [1] [1] [1] [1] [0] [0] [1] [1] [1] [1] [1] [0] [0] [0] [1] [1] [1] [0] [1] [1] [1] [0] [1] [1] [1] [1] [0] [0] [1] [1] [1] [1] [1] [1] [1] [1] [1] [1] [1] [0] [1] [1] [1] [1] [1] [1] [1] [0] [1] [1] [1] [1] [1] [1] [0] [1] [1] [1] [1] [1] [0] [1] [0] [1] [1] [1] [1] [1] [0] [1] [1] [1] [1] [1] [0] [0] [1] [1] [1] [1] [1] [1] [0] [1] [1] [0] [0] [1] [1] [0] [0] [1] [1] [1] [1] [1] [1] [1] [1] [0] [0] [1] [0] [0] [1] [1] [1] [1] [1] [1] [1] [1] [1] [1] [1] [1] [1] [1] [1] [1] [1] [0] [0] [1] [1] [1] [0] [1] [0] [1] [0] [1] [1] [1] [1] [0] [0] [1] [1] [1] [1] [1] [1] [0] [0] [1] [1] [1] [1] [1] [1] [1] [1] [1] [1] [1] [1] [0] [1] [0] [0] [1] [1] [1] [1] [1] [0] [1] [1] [1] [1] [1] [1] [1] [1] [1] [1] [1] [1] [0] [1] [1] [1] [1] [1] [1] [1] [0] [0] [1] [0] [1] [0] [1] [0] [1] [0] [1] [1] "
          ],
          "name": "stdout"
        }
      ]
    }
  ]
}