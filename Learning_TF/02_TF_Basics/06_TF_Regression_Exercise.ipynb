{
 "cells": [
  {
   "cell_type": "markdown",
   "metadata": {},
   "source": [
    "## Preprocessing"
   ]
  },
  {
   "cell_type": "code",
   "execution_count": 1,
   "metadata": {},
   "outputs": [],
   "source": [
    "import pandas as pd"
   ]
  },
  {
   "cell_type": "code",
   "execution_count": 2,
   "metadata": {},
   "outputs": [],
   "source": [
    "housing = pd.read_csv('cal_housing_clean.csv')"
   ]
  },
  {
   "cell_type": "code",
   "execution_count": 13,
   "metadata": {},
   "outputs": [
    {
     "data": {
      "text/html": [
       "<div>\n",
       "<style scoped>\n",
       "    .dataframe tbody tr th:only-of-type {\n",
       "        vertical-align: middle;\n",
       "    }\n",
       "\n",
       "    .dataframe tbody tr th {\n",
       "        vertical-align: top;\n",
       "    }\n",
       "\n",
       "    .dataframe thead th {\n",
       "        text-align: right;\n",
       "    }\n",
       "</style>\n",
       "<table border=\"1\" class=\"dataframe\">\n",
       "  <thead>\n",
       "    <tr style=\"text-align: right;\">\n",
       "      <th></th>\n",
       "      <th>housingMedianAge</th>\n",
       "      <th>totalRooms</th>\n",
       "      <th>totalBedrooms</th>\n",
       "      <th>population</th>\n",
       "      <th>households</th>\n",
       "      <th>medianIncome</th>\n",
       "      <th>medianHouseValue</th>\n",
       "    </tr>\n",
       "  </thead>\n",
       "  <tbody>\n",
       "    <tr>\n",
       "      <th>0</th>\n",
       "      <td>41.0</td>\n",
       "      <td>880.0</td>\n",
       "      <td>129.0</td>\n",
       "      <td>322.0</td>\n",
       "      <td>126.0</td>\n",
       "      <td>8.3252</td>\n",
       "      <td>452600.0</td>\n",
       "    </tr>\n",
       "    <tr>\n",
       "      <th>1</th>\n",
       "      <td>21.0</td>\n",
       "      <td>7099.0</td>\n",
       "      <td>1106.0</td>\n",
       "      <td>2401.0</td>\n",
       "      <td>1138.0</td>\n",
       "      <td>8.3014</td>\n",
       "      <td>358500.0</td>\n",
       "    </tr>\n",
       "    <tr>\n",
       "      <th>2</th>\n",
       "      <td>52.0</td>\n",
       "      <td>1467.0</td>\n",
       "      <td>190.0</td>\n",
       "      <td>496.0</td>\n",
       "      <td>177.0</td>\n",
       "      <td>7.2574</td>\n",
       "      <td>352100.0</td>\n",
       "    </tr>\n",
       "    <tr>\n",
       "      <th>3</th>\n",
       "      <td>52.0</td>\n",
       "      <td>1274.0</td>\n",
       "      <td>235.0</td>\n",
       "      <td>558.0</td>\n",
       "      <td>219.0</td>\n",
       "      <td>5.6431</td>\n",
       "      <td>341300.0</td>\n",
       "    </tr>\n",
       "    <tr>\n",
       "      <th>4</th>\n",
       "      <td>52.0</td>\n",
       "      <td>1627.0</td>\n",
       "      <td>280.0</td>\n",
       "      <td>565.0</td>\n",
       "      <td>259.0</td>\n",
       "      <td>3.8462</td>\n",
       "      <td>342200.0</td>\n",
       "    </tr>\n",
       "  </tbody>\n",
       "</table>\n",
       "</div>"
      ],
      "text/plain": [
       "   housingMedianAge  totalRooms  totalBedrooms  population  households  \\\n",
       "0              41.0       880.0          129.0       322.0       126.0   \n",
       "1              21.0      7099.0         1106.0      2401.0      1138.0   \n",
       "2              52.0      1467.0          190.0       496.0       177.0   \n",
       "3              52.0      1274.0          235.0       558.0       219.0   \n",
       "4              52.0      1627.0          280.0       565.0       259.0   \n",
       "\n",
       "   medianIncome  medianHouseValue  \n",
       "0        8.3252          452600.0  \n",
       "1        8.3014          358500.0  \n",
       "2        7.2574          352100.0  \n",
       "3        5.6431          341300.0  \n",
       "4        3.8462          342200.0  "
      ]
     },
     "execution_count": 13,
     "metadata": {},
     "output_type": "execute_result"
    }
   ],
   "source": [
    "housing.head()"
   ]
  },
  {
   "cell_type": "code",
   "execution_count": 4,
   "metadata": {},
   "outputs": [
    {
     "data": {
      "text/html": [
       "<div>\n",
       "<style scoped>\n",
       "    .dataframe tbody tr th:only-of-type {\n",
       "        vertical-align: middle;\n",
       "    }\n",
       "\n",
       "    .dataframe tbody tr th {\n",
       "        vertical-align: top;\n",
       "    }\n",
       "\n",
       "    .dataframe thead th {\n",
       "        text-align: right;\n",
       "    }\n",
       "</style>\n",
       "<table border=\"1\" class=\"dataframe\">\n",
       "  <thead>\n",
       "    <tr style=\"text-align: right;\">\n",
       "      <th></th>\n",
       "      <th>count</th>\n",
       "      <th>mean</th>\n",
       "      <th>std</th>\n",
       "      <th>min</th>\n",
       "      <th>25%</th>\n",
       "      <th>50%</th>\n",
       "      <th>75%</th>\n",
       "      <th>max</th>\n",
       "    </tr>\n",
       "  </thead>\n",
       "  <tbody>\n",
       "    <tr>\n",
       "      <th>housingMedianAge</th>\n",
       "      <td>20640.0</td>\n",
       "      <td>28.639486</td>\n",
       "      <td>12.585558</td>\n",
       "      <td>1.0000</td>\n",
       "      <td>18.0000</td>\n",
       "      <td>29.0000</td>\n",
       "      <td>37.00000</td>\n",
       "      <td>52.0000</td>\n",
       "    </tr>\n",
       "    <tr>\n",
       "      <th>totalRooms</th>\n",
       "      <td>20640.0</td>\n",
       "      <td>2635.763081</td>\n",
       "      <td>2181.615252</td>\n",
       "      <td>2.0000</td>\n",
       "      <td>1447.7500</td>\n",
       "      <td>2127.0000</td>\n",
       "      <td>3148.00000</td>\n",
       "      <td>39320.0000</td>\n",
       "    </tr>\n",
       "    <tr>\n",
       "      <th>totalBedrooms</th>\n",
       "      <td>20640.0</td>\n",
       "      <td>537.898014</td>\n",
       "      <td>421.247906</td>\n",
       "      <td>1.0000</td>\n",
       "      <td>295.0000</td>\n",
       "      <td>435.0000</td>\n",
       "      <td>647.00000</td>\n",
       "      <td>6445.0000</td>\n",
       "    </tr>\n",
       "    <tr>\n",
       "      <th>population</th>\n",
       "      <td>20640.0</td>\n",
       "      <td>1425.476744</td>\n",
       "      <td>1132.462122</td>\n",
       "      <td>3.0000</td>\n",
       "      <td>787.0000</td>\n",
       "      <td>1166.0000</td>\n",
       "      <td>1725.00000</td>\n",
       "      <td>35682.0000</td>\n",
       "    </tr>\n",
       "    <tr>\n",
       "      <th>households</th>\n",
       "      <td>20640.0</td>\n",
       "      <td>499.539680</td>\n",
       "      <td>382.329753</td>\n",
       "      <td>1.0000</td>\n",
       "      <td>280.0000</td>\n",
       "      <td>409.0000</td>\n",
       "      <td>605.00000</td>\n",
       "      <td>6082.0000</td>\n",
       "    </tr>\n",
       "    <tr>\n",
       "      <th>medianIncome</th>\n",
       "      <td>20640.0</td>\n",
       "      <td>3.870671</td>\n",
       "      <td>1.899822</td>\n",
       "      <td>0.4999</td>\n",
       "      <td>2.5634</td>\n",
       "      <td>3.5348</td>\n",
       "      <td>4.74325</td>\n",
       "      <td>15.0001</td>\n",
       "    </tr>\n",
       "    <tr>\n",
       "      <th>medianHouseValue</th>\n",
       "      <td>20640.0</td>\n",
       "      <td>206855.816909</td>\n",
       "      <td>115395.615874</td>\n",
       "      <td>14999.0000</td>\n",
       "      <td>119600.0000</td>\n",
       "      <td>179700.0000</td>\n",
       "      <td>264725.00000</td>\n",
       "      <td>500001.0000</td>\n",
       "    </tr>\n",
       "  </tbody>\n",
       "</table>\n",
       "</div>"
      ],
      "text/plain": [
       "                    count           mean            std         min  \\\n",
       "housingMedianAge  20640.0      28.639486      12.585558      1.0000   \n",
       "totalRooms        20640.0    2635.763081    2181.615252      2.0000   \n",
       "totalBedrooms     20640.0     537.898014     421.247906      1.0000   \n",
       "population        20640.0    1425.476744    1132.462122      3.0000   \n",
       "households        20640.0     499.539680     382.329753      1.0000   \n",
       "medianIncome      20640.0       3.870671       1.899822      0.4999   \n",
       "medianHouseValue  20640.0  206855.816909  115395.615874  14999.0000   \n",
       "\n",
       "                          25%          50%           75%          max  \n",
       "housingMedianAge      18.0000      29.0000      37.00000      52.0000  \n",
       "totalRooms          1447.7500    2127.0000    3148.00000   39320.0000  \n",
       "totalBedrooms        295.0000     435.0000     647.00000    6445.0000  \n",
       "population           787.0000    1166.0000    1725.00000   35682.0000  \n",
       "households           280.0000     409.0000     605.00000    6082.0000  \n",
       "medianIncome           2.5634       3.5348       4.74325      15.0001  \n",
       "medianHouseValue  119600.0000  179700.0000  264725.00000  500001.0000  "
      ]
     },
     "execution_count": 4,
     "metadata": {},
     "output_type": "execute_result"
    }
   ],
   "source": [
    "housing.describe().transpose()"
   ]
  },
  {
   "cell_type": "code",
   "execution_count": 15,
   "metadata": {},
   "outputs": [
    {
     "data": {
      "text/plain": [
       "pandas.core.frame.DataFrame"
      ]
     },
     "execution_count": 15,
     "metadata": {},
     "output_type": "execute_result"
    }
   ],
   "source": [
    "x_data = housing.drop(['medianHouseValue'], axis = 1)\n",
    "type(x_data)"
   ]
  },
  {
   "cell_type": "code",
   "execution_count": 16,
   "metadata": {},
   "outputs": [
    {
     "data": {
      "text/plain": [
       "pandas.core.series.Series"
      ]
     },
     "execution_count": 16,
     "metadata": {},
     "output_type": "execute_result"
    }
   ],
   "source": [
    "y_val = housing['medianHouseValue']\n",
    "type(y_val)"
   ]
  },
  {
   "cell_type": "code",
   "execution_count": 7,
   "metadata": {},
   "outputs": [],
   "source": [
    "from sklearn.model_selection import train_test_split"
   ]
  },
  {
   "cell_type": "code",
   "execution_count": 8,
   "metadata": {},
   "outputs": [],
   "source": [
    "x_train, x_test, y_train, y_test = train_test_split(x_data, y_val, test_size = 0.2, random_state = 2)"
   ]
  },
  {
   "cell_type": "code",
   "execution_count": 11,
   "metadata": {},
   "outputs": [
    {
     "data": {
      "text/plain": [
       "((16512, 6), (16512,), pandas.core.series.Series)"
      ]
     },
     "execution_count": 11,
     "metadata": {},
     "output_type": "execute_result"
    }
   ],
   "source": [
    "x_train.shape, y_train.shape, type(y_train)"
   ]
  },
  {
   "cell_type": "code",
   "execution_count": 10,
   "metadata": {},
   "outputs": [],
   "source": [
    "from sklearn.preprocessing import MinMaxScaler"
   ]
  },
  {
   "cell_type": "code",
   "execution_count": 13,
   "metadata": {},
   "outputs": [],
   "source": [
    "scaler = MinMaxScaler().fit(x_train)"
   ]
  },
  {
   "cell_type": "code",
   "execution_count": 15,
   "metadata": {},
   "outputs": [],
   "source": [
    "x_train = pd.DataFrame(data=scaler.transform(x_train), columns=x_train.columns, index = x_train.index)\n",
    "x_test = pd.DataFrame(data=scaler.transform(x_test), columns=x_test.columns, index = x_test.index)"
   ]
  },
  {
   "cell_type": "markdown",
   "metadata": {},
   "source": [
    "## DNNClassifier"
   ]
  },
  {
   "cell_type": "code",
   "execution_count": 16,
   "metadata": {},
   "outputs": [
    {
     "data": {
      "text/plain": [
       "Index(['housingMedianAge', 'totalRooms', 'totalBedrooms', 'population',\n",
       "       'households', 'medianIncome', 'medianHouseValue'],\n",
       "      dtype='object')"
      ]
     },
     "execution_count": 16,
     "metadata": {},
     "output_type": "execute_result"
    }
   ],
   "source": [
    "housing.columns"
   ]
  },
  {
   "cell_type": "code",
   "execution_count": 19,
   "metadata": {},
   "outputs": [],
   "source": [
    "import tensorflow as tf"
   ]
  },
  {
   "cell_type": "code",
   "execution_count": 20,
   "metadata": {},
   "outputs": [],
   "source": [
    "age = tf.feature_column.numeric_column('housingMedianAge')\n",
    "rooms = tf.feature_column.numeric_column('totalRooms')\n",
    "bedrooms = tf.feature_column.numeric_column('totalBedrooms')\n",
    "pop = tf.feature_column.numeric_column('population')\n",
    "households = tf.feature_column.numeric_column('households')\n",
    "income = tf.feature_column.numeric_column('medianIncome')"
   ]
  },
  {
   "cell_type": "code",
   "execution_count": 21,
   "metadata": {},
   "outputs": [],
   "source": [
    "feat_cols = [ age,rooms,bedrooms,pop,households,income]"
   ]
  },
  {
   "cell_type": "code",
   "execution_count": 22,
   "metadata": {},
   "outputs": [],
   "source": [
    "input_func = tf.estimator.inputs.pandas_input_fn(x=x_train, y = y_train, batch_size=10, num_epochs=10, shuffle=True)"
   ]
  },
  {
   "cell_type": "code",
   "execution_count": 24,
   "metadata": {},
   "outputs": [
    {
     "name": "stdout",
     "output_type": "stream",
     "text": [
      "INFO:tensorflow:Using default config.\n",
      "WARNING:tensorflow:Using temporary folder as model directory: /var/folders/mz/trvwr9zx153g2cwg48wfgt4c0000gn/T/tmpdspb_7j2\n",
      "INFO:tensorflow:Using config: {'_model_dir': '/var/folders/mz/trvwr9zx153g2cwg48wfgt4c0000gn/T/tmpdspb_7j2', '_tf_random_seed': None, '_save_summary_steps': 100, '_save_checkpoints_steps': None, '_save_checkpoints_secs': 600, '_session_config': allow_soft_placement: true\n",
      "graph_options {\n",
      "  rewrite_options {\n",
      "    meta_optimizer_iterations: ONE\n",
      "  }\n",
      "}\n",
      ", '_keep_checkpoint_max': 5, '_keep_checkpoint_every_n_hours': 10000, '_log_step_count_steps': 100, '_train_distribute': None, '_device_fn': None, '_protocol': None, '_eval_distribute': None, '_experimental_distribute': None, '_service': None, '_cluster_spec': <tensorflow.python.training.server_lib.ClusterSpec object at 0x1a467a0dd8>, '_task_type': 'worker', '_task_id': 0, '_global_id_in_cluster': 0, '_master': '', '_evaluation_master': '', '_is_chief': True, '_num_ps_replicas': 0, '_num_worker_replicas': 1}\n"
     ]
    }
   ],
   "source": [
    "model = tf.estimator.DNNRegressor(hidden_units=[6, 6, 6], feature_columns=feat_cols)"
   ]
  },
  {
   "cell_type": "code",
   "execution_count": 33,
   "metadata": {
    "scrolled": true
   },
   "outputs": [
    {
     "name": "stdout",
     "output_type": "stream",
     "text": [
      "INFO:tensorflow:Calling model_fn.\n",
      "INFO:tensorflow:Done calling model_fn.\n",
      "INFO:tensorflow:Create CheckpointSaverHook.\n",
      "INFO:tensorflow:Graph was finalized.\n",
      "INFO:tensorflow:Restoring parameters from /var/folders/mz/trvwr9zx153g2cwg48wfgt4c0000gn/T/tmpdspb_7j2/model.ckpt-2500\n",
      "WARNING:tensorflow:From /Users/LianshuiZhao/anaconda3/lib/python3.7/site-packages/tensorflow/python/training/saver.py:1070: get_checkpoint_mtimes (from tensorflow.python.training.checkpoint_management) is deprecated and will be removed in a future version.\n",
      "Instructions for updating:\n",
      "Use standard file utilities to get mtimes.\n",
      "INFO:tensorflow:Running local_init_op.\n",
      "INFO:tensorflow:Done running local_init_op.\n",
      "INFO:tensorflow:Saving checkpoints for 2500 into /var/folders/mz/trvwr9zx153g2cwg48wfgt4c0000gn/T/tmpdspb_7j2/model.ckpt.\n",
      "INFO:tensorflow:loss = 255679220000.0, step = 2501\n",
      "INFO:tensorflow:global_step/sec: 142.141\n",
      "INFO:tensorflow:loss = 224155900000.0, step = 2601 (0.707 sec)\n",
      "INFO:tensorflow:global_step/sec: 206.08\n",
      "INFO:tensorflow:loss = 220250310000.0, step = 2701 (0.486 sec)\n",
      "INFO:tensorflow:global_step/sec: 241.072\n",
      "INFO:tensorflow:loss = 216631790000.0, step = 2801 (0.416 sec)\n",
      "INFO:tensorflow:global_step/sec: 198.454\n",
      "INFO:tensorflow:loss = 59161133000.0, step = 2901 (0.504 sec)\n",
      "INFO:tensorflow:global_step/sec: 72.1577\n",
      "INFO:tensorflow:loss = 150265680000.0, step = 3001 (1.384 sec)\n",
      "INFO:tensorflow:global_step/sec: 339.208\n",
      "INFO:tensorflow:loss = 93646316000.0, step = 3101 (0.292 sec)\n",
      "INFO:tensorflow:global_step/sec: 348.47\n",
      "INFO:tensorflow:loss = 153394680000.0, step = 3201 (0.287 sec)\n",
      "INFO:tensorflow:global_step/sec: 313.398\n",
      "INFO:tensorflow:loss = 59162178000.0, step = 3301 (0.319 sec)\n",
      "INFO:tensorflow:global_step/sec: 316.679\n",
      "INFO:tensorflow:loss = 136688630000.0, step = 3401 (0.316 sec)\n",
      "INFO:tensorflow:global_step/sec: 330.476\n",
      "INFO:tensorflow:loss = 107727260000.0, step = 3501 (0.303 sec)\n",
      "INFO:tensorflow:global_step/sec: 332.671\n",
      "INFO:tensorflow:loss = 148222840000.0, step = 3601 (0.300 sec)\n",
      "INFO:tensorflow:global_step/sec: 349.645\n",
      "INFO:tensorflow:loss = 39303690000.0, step = 3701 (0.286 sec)\n",
      "INFO:tensorflow:global_step/sec: 355.193\n",
      "INFO:tensorflow:loss = 94985740000.0, step = 3801 (0.282 sec)\n",
      "INFO:tensorflow:global_step/sec: 348.696\n",
      "INFO:tensorflow:loss = 179953200000.0, step = 3901 (0.287 sec)\n",
      "INFO:tensorflow:global_step/sec: 348.776\n",
      "INFO:tensorflow:loss = 52076960000.0, step = 4001 (0.287 sec)\n",
      "INFO:tensorflow:global_step/sec: 354.426\n",
      "INFO:tensorflow:loss = 80768010000.0, step = 4101 (0.282 sec)\n",
      "INFO:tensorflow:global_step/sec: 314.469\n",
      "INFO:tensorflow:loss = 181851620000.0, step = 4201 (0.318 sec)\n",
      "INFO:tensorflow:global_step/sec: 317.055\n",
      "INFO:tensorflow:loss = 105617070000.0, step = 4301 (0.315 sec)\n",
      "INFO:tensorflow:global_step/sec: 395.826\n",
      "INFO:tensorflow:loss = 160445990000.0, step = 4401 (0.253 sec)\n",
      "INFO:tensorflow:global_step/sec: 346.878\n",
      "INFO:tensorflow:loss = 75020400000.0, step = 4501 (0.288 sec)\n",
      "INFO:tensorflow:global_step/sec: 360.6\n",
      "INFO:tensorflow:loss = 175416080000.0, step = 4601 (0.277 sec)\n",
      "INFO:tensorflow:global_step/sec: 340.84\n",
      "INFO:tensorflow:loss = 219561500000.0, step = 4701 (0.293 sec)\n",
      "INFO:tensorflow:global_step/sec: 340.684\n",
      "INFO:tensorflow:loss = 88378560000.0, step = 4801 (0.293 sec)\n",
      "INFO:tensorflow:global_step/sec: 350.709\n",
      "INFO:tensorflow:loss = 190251340000.0, step = 4901 (0.288 sec)\n",
      "INFO:tensorflow:global_step/sec: 347.573\n",
      "INFO:tensorflow:loss = 28294160000.0, step = 5001 (0.286 sec)\n",
      "INFO:tensorflow:global_step/sec: 347.632\n",
      "INFO:tensorflow:loss = 202180800000.0, step = 5101 (0.288 sec)\n",
      "INFO:tensorflow:global_step/sec: 270.722\n",
      "INFO:tensorflow:loss = 67609166000.0, step = 5201 (0.371 sec)\n",
      "INFO:tensorflow:global_step/sec: 275.919\n",
      "INFO:tensorflow:loss = 192303940000.0, step = 5301 (0.362 sec)\n",
      "INFO:tensorflow:global_step/sec: 333.714\n",
      "INFO:tensorflow:loss = 180907000000.0, step = 5401 (0.298 sec)\n",
      "INFO:tensorflow:global_step/sec: 241.748\n",
      "INFO:tensorflow:loss = 110926725000.0, step = 5501 (0.414 sec)\n",
      "INFO:tensorflow:global_step/sec: 252.154\n",
      "INFO:tensorflow:loss = 168860290000.0, step = 5601 (0.397 sec)\n",
      "INFO:tensorflow:global_step/sec: 303.555\n",
      "INFO:tensorflow:loss = 157504240000.0, step = 5701 (0.331 sec)\n",
      "INFO:tensorflow:global_step/sec: 267.12\n",
      "INFO:tensorflow:loss = 145200400000.0, step = 5801 (0.375 sec)\n",
      "INFO:tensorflow:global_step/sec: 294.939\n",
      "INFO:tensorflow:loss = 30680582000.0, step = 5901 (0.339 sec)\n",
      "INFO:tensorflow:global_step/sec: 283.887\n",
      "INFO:tensorflow:loss = 129132310000.0, step = 6001 (0.354 sec)\n",
      "INFO:tensorflow:global_step/sec: 260.145\n",
      "INFO:tensorflow:loss = 261733300000.0, step = 6101 (0.385 sec)\n",
      "INFO:tensorflow:global_step/sec: 338.573\n",
      "INFO:tensorflow:loss = 21031619000.0, step = 6201 (0.291 sec)\n",
      "INFO:tensorflow:global_step/sec: 301.392\n",
      "INFO:tensorflow:loss = 126544224000.0, step = 6301 (0.332 sec)\n",
      "INFO:tensorflow:global_step/sec: 300.732\n",
      "INFO:tensorflow:loss = 114584540000.0, step = 6401 (0.337 sec)\n",
      "INFO:tensorflow:global_step/sec: 348.922\n",
      "INFO:tensorflow:loss = 144672700000.0, step = 6501 (0.286 sec)\n",
      "INFO:tensorflow:global_step/sec: 237.202\n",
      "INFO:tensorflow:loss = 148500710000.0, step = 6601 (0.418 sec)\n",
      "INFO:tensorflow:global_step/sec: 306.549\n",
      "INFO:tensorflow:loss = 150775000000.0, step = 6701 (0.328 sec)\n",
      "INFO:tensorflow:global_step/sec: 284.379\n",
      "INFO:tensorflow:loss = 177407030000.0, step = 6801 (0.350 sec)\n",
      "INFO:tensorflow:global_step/sec: 359.139\n",
      "INFO:tensorflow:loss = 101091200000.0, step = 6901 (0.280 sec)\n",
      "INFO:tensorflow:global_step/sec: 251.638\n",
      "INFO:tensorflow:loss = 80428050000.0, step = 7001 (0.396 sec)\n",
      "INFO:tensorflow:global_step/sec: 335.768\n",
      "INFO:tensorflow:loss = 77646510000.0, step = 7101 (0.298 sec)\n",
      "INFO:tensorflow:global_step/sec: 316.689\n",
      "INFO:tensorflow:loss = 177796190000.0, step = 7201 (0.316 sec)\n",
      "INFO:tensorflow:global_step/sec: 278.711\n",
      "INFO:tensorflow:loss = 154171820000.0, step = 7301 (0.358 sec)\n",
      "INFO:tensorflow:global_step/sec: 289.434\n",
      "INFO:tensorflow:loss = 254057870000.0, step = 7401 (0.346 sec)\n",
      "INFO:tensorflow:global_step/sec: 280.324\n",
      "INFO:tensorflow:loss = 154791080000.0, step = 7501 (0.356 sec)\n",
      "INFO:tensorflow:global_step/sec: 282.484\n",
      "INFO:tensorflow:loss = 111440190000.0, step = 7601 (0.354 sec)\n",
      "INFO:tensorflow:global_step/sec: 270.231\n",
      "INFO:tensorflow:loss = 160646070000.0, step = 7701 (0.370 sec)\n",
      "INFO:tensorflow:global_step/sec: 294.203\n",
      "INFO:tensorflow:loss = 156765780000.0, step = 7801 (0.340 sec)\n",
      "INFO:tensorflow:global_step/sec: 263.148\n",
      "INFO:tensorflow:loss = 46538334000.0, step = 7901 (0.380 sec)\n",
      "INFO:tensorflow:global_step/sec: 277.92\n",
      "INFO:tensorflow:loss = 155750530000.0, step = 8001 (0.360 sec)\n",
      "INFO:tensorflow:global_step/sec: 354.507\n",
      "INFO:tensorflow:loss = 106690180000.0, step = 8101 (0.282 sec)\n",
      "INFO:tensorflow:global_step/sec: 267.101\n",
      "INFO:tensorflow:loss = 161370980000.0, step = 8201 (0.374 sec)\n",
      "INFO:tensorflow:global_step/sec: 298.421\n",
      "INFO:tensorflow:loss = 127595610000.0, step = 8301 (0.336 sec)\n",
      "INFO:tensorflow:global_step/sec: 308.688\n",
      "INFO:tensorflow:loss = 95472170000.0, step = 8401 (0.323 sec)\n",
      "INFO:tensorflow:global_step/sec: 284.602\n",
      "INFO:tensorflow:loss = 95610880000.0, step = 8501 (0.351 sec)\n",
      "INFO:tensorflow:global_step/sec: 329\n",
      "INFO:tensorflow:loss = 69924676000.0, step = 8601 (0.304 sec)\n",
      "INFO:tensorflow:global_step/sec: 293.809\n",
      "INFO:tensorflow:loss = 127724765000.0, step = 8701 (0.340 sec)\n",
      "INFO:tensorflow:global_step/sec: 279.102\n",
      "INFO:tensorflow:loss = 72825905000.0, step = 8801 (0.358 sec)\n",
      "INFO:tensorflow:global_step/sec: 326.359\n",
      "INFO:tensorflow:loss = 192944640000.0, step = 8901 (0.307 sec)\n",
      "INFO:tensorflow:global_step/sec: 321.864\n",
      "INFO:tensorflow:loss = 123789430000.0, step = 9001 (0.314 sec)\n",
      "INFO:tensorflow:global_step/sec: 308.504\n",
      "INFO:tensorflow:loss = 66786960000.0, step = 9101 (0.321 sec)\n",
      "INFO:tensorflow:global_step/sec: 323.225\n",
      "INFO:tensorflow:loss = 79515140000.0, step = 9201 (0.310 sec)\n",
      "INFO:tensorflow:global_step/sec: 323.153\n",
      "INFO:tensorflow:loss = 52410210000.0, step = 9301 (0.309 sec)\n",
      "INFO:tensorflow:global_step/sec: 300.827\n",
      "INFO:tensorflow:loss = 224807340000.0, step = 9401 (0.332 sec)\n",
      "INFO:tensorflow:global_step/sec: 283.597\n",
      "INFO:tensorflow:loss = 198642070000.0, step = 9501 (0.353 sec)\n",
      "INFO:tensorflow:global_step/sec: 328.243\n",
      "INFO:tensorflow:loss = 78767720000.0, step = 9601 (0.306 sec)\n"
     ]
    },
    {
     "name": "stdout",
     "output_type": "stream",
     "text": [
      "INFO:tensorflow:global_step/sec: 243.819\n",
      "INFO:tensorflow:loss = 66678465000.0, step = 9701 (0.410 sec)\n",
      "INFO:tensorflow:global_step/sec: 243.206\n",
      "INFO:tensorflow:loss = 133571910000.0, step = 9801 (0.414 sec)\n",
      "INFO:tensorflow:global_step/sec: 293.22\n",
      "INFO:tensorflow:loss = 49505935000.0, step = 9901 (0.337 sec)\n",
      "INFO:tensorflow:global_step/sec: 305.789\n",
      "INFO:tensorflow:loss = 211550320000.0, step = 10001 (0.327 sec)\n",
      "INFO:tensorflow:global_step/sec: 294.187\n",
      "INFO:tensorflow:loss = 65588543000.0, step = 10101 (0.342 sec)\n",
      "INFO:tensorflow:global_step/sec: 282.915\n",
      "INFO:tensorflow:loss = 89303260000.0, step = 10201 (0.355 sec)\n",
      "INFO:tensorflow:global_step/sec: 249.005\n",
      "INFO:tensorflow:loss = 192916370000.0, step = 10301 (0.402 sec)\n",
      "INFO:tensorflow:global_step/sec: 317.681\n",
      "INFO:tensorflow:loss = 50630156000.0, step = 10401 (0.315 sec)\n",
      "INFO:tensorflow:global_step/sec: 254.214\n",
      "INFO:tensorflow:loss = 170339610000.0, step = 10501 (0.390 sec)\n",
      "INFO:tensorflow:global_step/sec: 318.978\n",
      "INFO:tensorflow:loss = 96276040000.0, step = 10601 (0.313 sec)\n",
      "INFO:tensorflow:global_step/sec: 316.74\n",
      "INFO:tensorflow:loss = 248978870000.0, step = 10701 (0.316 sec)\n",
      "INFO:tensorflow:global_step/sec: 323\n",
      "INFO:tensorflow:loss = 162775880000.0, step = 10801 (0.309 sec)\n",
      "INFO:tensorflow:global_step/sec: 344.076\n",
      "INFO:tensorflow:loss = 126019500000.0, step = 10901 (0.291 sec)\n",
      "INFO:tensorflow:global_step/sec: 357.395\n",
      "INFO:tensorflow:loss = 198749030000.0, step = 11001 (0.280 sec)\n",
      "INFO:tensorflow:global_step/sec: 370.185\n",
      "INFO:tensorflow:loss = 252346000000.0, step = 11101 (0.270 sec)\n",
      "INFO:tensorflow:global_step/sec: 317.803\n",
      "INFO:tensorflow:loss = 71640924000.0, step = 11201 (0.315 sec)\n",
      "INFO:tensorflow:global_step/sec: 324.171\n",
      "INFO:tensorflow:loss = 68754800000.0, step = 11301 (0.308 sec)\n",
      "INFO:tensorflow:global_step/sec: 348.625\n",
      "INFO:tensorflow:loss = 131638714000.0, step = 11401 (0.289 sec)\n",
      "INFO:tensorflow:global_step/sec: 382.765\n",
      "INFO:tensorflow:loss = 144056750000.0, step = 11501 (0.259 sec)\n",
      "INFO:tensorflow:global_step/sec: 345.638\n",
      "INFO:tensorflow:loss = 133908560000.0, step = 11601 (0.289 sec)\n",
      "INFO:tensorflow:global_step/sec: 348.637\n",
      "INFO:tensorflow:loss = 192463260000.0, step = 11701 (0.287 sec)\n",
      "INFO:tensorflow:global_step/sec: 346.58\n",
      "INFO:tensorflow:loss = 86057590000.0, step = 11801 (0.289 sec)\n",
      "INFO:tensorflow:global_step/sec: 351.52\n",
      "INFO:tensorflow:loss = 44232536000.0, step = 11901 (0.285 sec)\n",
      "INFO:tensorflow:global_step/sec: 346.952\n",
      "INFO:tensorflow:loss = 100813520000.0, step = 12001 (0.288 sec)\n",
      "INFO:tensorflow:global_step/sec: 348.935\n",
      "INFO:tensorflow:loss = 246273050000.0, step = 12101 (0.286 sec)\n",
      "INFO:tensorflow:global_step/sec: 342.824\n",
      "INFO:tensorflow:loss = 44944024000.0, step = 12201 (0.292 sec)\n",
      "INFO:tensorflow:global_step/sec: 345.299\n",
      "INFO:tensorflow:loss = 314582660000.0, step = 12301 (0.289 sec)\n",
      "INFO:tensorflow:global_step/sec: 351.96\n",
      "INFO:tensorflow:loss = 189572710000.0, step = 12401 (0.284 sec)\n",
      "INFO:tensorflow:global_step/sec: 355.158\n",
      "INFO:tensorflow:loss = 148889940000.0, step = 12501 (0.282 sec)\n",
      "INFO:tensorflow:global_step/sec: 341.614\n",
      "INFO:tensorflow:loss = 136442130000.0, step = 12601 (0.293 sec)\n",
      "INFO:tensorflow:global_step/sec: 333.625\n",
      "INFO:tensorflow:loss = 126755960000.0, step = 12701 (0.300 sec)\n",
      "INFO:tensorflow:global_step/sec: 311.166\n",
      "INFO:tensorflow:loss = 201517730000.0, step = 12801 (0.321 sec)\n",
      "INFO:tensorflow:global_step/sec: 309.101\n",
      "INFO:tensorflow:loss = 139948300000.0, step = 12901 (0.324 sec)\n",
      "INFO:tensorflow:global_step/sec: 349.915\n",
      "INFO:tensorflow:loss = 87598890000.0, step = 13001 (0.286 sec)\n",
      "INFO:tensorflow:global_step/sec: 342.803\n",
      "INFO:tensorflow:loss = 91269710000.0, step = 13101 (0.292 sec)\n",
      "INFO:tensorflow:global_step/sec: 333.529\n",
      "INFO:tensorflow:loss = 87938460000.0, step = 13201 (0.300 sec)\n",
      "INFO:tensorflow:global_step/sec: 339.825\n",
      "INFO:tensorflow:loss = 289335480000.0, step = 13301 (0.294 sec)\n",
      "INFO:tensorflow:global_step/sec: 351.828\n",
      "INFO:tensorflow:loss = 116943815000.0, step = 13401 (0.286 sec)\n",
      "INFO:tensorflow:global_step/sec: 318.672\n",
      "INFO:tensorflow:loss = 106931500000.0, step = 13501 (0.312 sec)\n",
      "INFO:tensorflow:global_step/sec: 336.99\n",
      "INFO:tensorflow:loss = 89806950000.0, step = 13601 (0.297 sec)\n",
      "INFO:tensorflow:global_step/sec: 360.847\n",
      "INFO:tensorflow:loss = 191761300000.0, step = 13701 (0.277 sec)\n",
      "INFO:tensorflow:global_step/sec: 350.388\n",
      "INFO:tensorflow:loss = 150326540000.0, step = 13801 (0.285 sec)\n",
      "INFO:tensorflow:global_step/sec: 342.943\n",
      "INFO:tensorflow:loss = 195116500000.0, step = 13901 (0.291 sec)\n",
      "INFO:tensorflow:global_step/sec: 318.41\n",
      "INFO:tensorflow:loss = 197352730000.0, step = 14001 (0.314 sec)\n",
      "INFO:tensorflow:global_step/sec: 285.202\n",
      "INFO:tensorflow:loss = 145888310000.0, step = 14101 (0.352 sec)\n",
      "INFO:tensorflow:global_step/sec: 256.051\n",
      "INFO:tensorflow:loss = 131140035000.0, step = 14201 (0.389 sec)\n",
      "INFO:tensorflow:global_step/sec: 289.99\n",
      "INFO:tensorflow:loss = 372246680000.0, step = 14301 (0.344 sec)\n",
      "INFO:tensorflow:global_step/sec: 319.685\n",
      "INFO:tensorflow:loss = 190660530000.0, step = 14401 (0.313 sec)\n",
      "INFO:tensorflow:global_step/sec: 312.393\n",
      "INFO:tensorflow:loss = 87888020000.0, step = 14501 (0.321 sec)\n",
      "INFO:tensorflow:global_step/sec: 267.252\n",
      "INFO:tensorflow:loss = 76712490000.0, step = 14601 (0.378 sec)\n",
      "INFO:tensorflow:global_step/sec: 338.157\n",
      "INFO:tensorflow:loss = 51019530000.0, step = 14701 (0.293 sec)\n",
      "INFO:tensorflow:global_step/sec: 328.103\n",
      "INFO:tensorflow:loss = 112536720000.0, step = 14801 (0.305 sec)\n",
      "INFO:tensorflow:global_step/sec: 338.262\n",
      "INFO:tensorflow:loss = 96163970000.0, step = 14901 (0.294 sec)\n",
      "INFO:tensorflow:global_step/sec: 366.202\n",
      "INFO:tensorflow:loss = 103025390000.0, step = 15001 (0.274 sec)\n",
      "INFO:tensorflow:global_step/sec: 353.622\n",
      "INFO:tensorflow:loss = 44103827000.0, step = 15101 (0.281 sec)\n",
      "INFO:tensorflow:global_step/sec: 341.761\n",
      "INFO:tensorflow:loss = 345174300000.0, step = 15201 (0.293 sec)\n",
      "INFO:tensorflow:global_step/sec: 340.702\n",
      "INFO:tensorflow:loss = 86209890000.0, step = 15301 (0.293 sec)\n",
      "INFO:tensorflow:global_step/sec: 346.119\n",
      "INFO:tensorflow:loss = 161669860000.0, step = 15401 (0.289 sec)\n",
      "INFO:tensorflow:global_step/sec: 340.178\n",
      "INFO:tensorflow:loss = 129310240000.0, step = 15501 (0.294 sec)\n",
      "INFO:tensorflow:global_step/sec: 343.468\n",
      "INFO:tensorflow:loss = 200212090000.0, step = 15601 (0.291 sec)\n",
      "INFO:tensorflow:global_step/sec: 361.52\n",
      "INFO:tensorflow:loss = 211928190000.0, step = 15701 (0.277 sec)\n",
      "INFO:tensorflow:global_step/sec: 315.805\n",
      "INFO:tensorflow:loss = 113540210000.0, step = 15801 (0.317 sec)\n",
      "INFO:tensorflow:global_step/sec: 338.463\n",
      "INFO:tensorflow:loss = 103419380000.0, step = 15901 (0.295 sec)\n",
      "INFO:tensorflow:global_step/sec: 320.262\n",
      "INFO:tensorflow:loss = 73323810000.0, step = 16001 (0.312 sec)\n",
      "INFO:tensorflow:global_step/sec: 323.408\n",
      "INFO:tensorflow:loss = 161250380000.0, step = 16101 (0.309 sec)\n",
      "INFO:tensorflow:global_step/sec: 326.25\n",
      "INFO:tensorflow:loss = 107110340000.0, step = 16201 (0.307 sec)\n",
      "INFO:tensorflow:global_step/sec: 335.714\n",
      "INFO:tensorflow:loss = 185226820000.0, step = 16301 (0.298 sec)\n",
      "INFO:tensorflow:global_step/sec: 328.677\n",
      "INFO:tensorflow:loss = 160278530000.0, step = 16401 (0.304 sec)\n",
      "INFO:tensorflow:global_step/sec: 360.166\n",
      "INFO:tensorflow:loss = 302865120000.0, step = 16501 (0.278 sec)\n",
      "INFO:tensorflow:global_step/sec: 337.784\n",
      "INFO:tensorflow:loss = 65477288000.0, step = 16601 (0.296 sec)\n",
      "INFO:tensorflow:global_step/sec: 371.579\n",
      "INFO:tensorflow:loss = 186002400000.0, step = 16701 (0.269 sec)\n",
      "INFO:tensorflow:global_step/sec: 365.761\n",
      "INFO:tensorflow:loss = 172530190000.0, step = 16801 (0.273 sec)\n",
      "INFO:tensorflow:global_step/sec: 375.567\n",
      "INFO:tensorflow:loss = 179878460000.0, step = 16901 (0.266 sec)\n",
      "INFO:tensorflow:global_step/sec: 336.659\n",
      "INFO:tensorflow:loss = 66557755000.0, step = 17001 (0.297 sec)\n",
      "INFO:tensorflow:global_step/sec: 372.824\n",
      "INFO:tensorflow:loss = 146624170000.0, step = 17101 (0.268 sec)\n",
      "INFO:tensorflow:global_step/sec: 333.308\n",
      "INFO:tensorflow:loss = 73296430000.0, step = 17201 (0.300 sec)\n",
      "INFO:tensorflow:global_step/sec: 359.024\n",
      "INFO:tensorflow:loss = 39314928000.0, step = 17301 (0.282 sec)\n",
      "INFO:tensorflow:global_step/sec: 355.533\n",
      "INFO:tensorflow:loss = 73273870000.0, step = 17401 (0.278 sec)\n",
      "INFO:tensorflow:global_step/sec: 328.368\n",
      "INFO:tensorflow:loss = 165133300000.0, step = 17501 (0.305 sec)\n"
     ]
    },
    {
     "name": "stdout",
     "output_type": "stream",
     "text": [
      "INFO:tensorflow:global_step/sec: 353.771\n",
      "INFO:tensorflow:loss = 72725820000.0, step = 17601 (0.283 sec)\n",
      "INFO:tensorflow:global_step/sec: 319.486\n",
      "INFO:tensorflow:loss = 216027630000.0, step = 17701 (0.313 sec)\n",
      "INFO:tensorflow:global_step/sec: 310.761\n",
      "INFO:tensorflow:loss = 140110790000.0, step = 17801 (0.322 sec)\n",
      "INFO:tensorflow:global_step/sec: 287.427\n",
      "INFO:tensorflow:loss = 123761990000.0, step = 17901 (0.348 sec)\n",
      "INFO:tensorflow:global_step/sec: 303.9\n",
      "INFO:tensorflow:loss = 235370430000.0, step = 18001 (0.329 sec)\n",
      "INFO:tensorflow:global_step/sec: 351.002\n",
      "INFO:tensorflow:loss = 100933950000.0, step = 18101 (0.285 sec)\n",
      "INFO:tensorflow:global_step/sec: 357.283\n",
      "INFO:tensorflow:loss = 169291060000.0, step = 18201 (0.279 sec)\n",
      "INFO:tensorflow:global_step/sec: 367.303\n",
      "INFO:tensorflow:loss = 160227660000.0, step = 18301 (0.272 sec)\n",
      "INFO:tensorflow:global_step/sec: 366.052\n",
      "INFO:tensorflow:loss = 167208910000.0, step = 18401 (0.273 sec)\n",
      "INFO:tensorflow:global_step/sec: 337.903\n",
      "INFO:tensorflow:loss = 141136500000.0, step = 18501 (0.296 sec)\n",
      "INFO:tensorflow:global_step/sec: 359.346\n",
      "INFO:tensorflow:loss = 75765050000.0, step = 18601 (0.281 sec)\n",
      "INFO:tensorflow:global_step/sec: 242.861\n",
      "INFO:tensorflow:loss = 164032790000.0, step = 18701 (0.412 sec)\n",
      "INFO:tensorflow:global_step/sec: 244.582\n",
      "INFO:tensorflow:loss = 117854810000.0, step = 18801 (0.409 sec)\n",
      "INFO:tensorflow:global_step/sec: 359.991\n",
      "INFO:tensorflow:loss = 118095250000.0, step = 18901 (0.274 sec)\n",
      "INFO:tensorflow:global_step/sec: 265.502\n",
      "INFO:tensorflow:loss = 55640750000.0, step = 19001 (0.378 sec)\n",
      "INFO:tensorflow:Saving checkpoints for 19012 into /var/folders/mz/trvwr9zx153g2cwg48wfgt4c0000gn/T/tmpdspb_7j2/model.ckpt.\n",
      "INFO:tensorflow:Loss for final step: 157547410000.0.\n"
     ]
    },
    {
     "data": {
      "text/plain": [
       "<tensorflow_estimator.python.estimator.canned.dnn.DNNRegressor at 0x1a467a0be0>"
      ]
     },
     "execution_count": 33,
     "metadata": {},
     "output_type": "execute_result"
    }
   ],
   "source": [
    "model.train(input_fn=input_func, steps=25000)"
   ]
  },
  {
   "cell_type": "markdown",
   "metadata": {},
   "source": [
    "## Evaluation"
   ]
  },
  {
   "cell_type": "code",
   "execution_count": 34,
   "metadata": {},
   "outputs": [],
   "source": [
    "train_input_func = tf.estimator.inputs.pandas_input_fn(\n",
    "             x = x_train, y=y_train, batch_size=10, num_epochs=1, shuffle=False)\n",
    "test_input_func = tf.estimator.inputs.pandas_input_fn(\n",
    "             x = x_test, y=y_test, batch_size=10, num_epochs=1, shuffle=False)"
   ]
  },
  {
   "cell_type": "code",
   "execution_count": 35,
   "metadata": {},
   "outputs": [
    {
     "name": "stdout",
     "output_type": "stream",
     "text": [
      "INFO:tensorflow:Calling model_fn.\n",
      "INFO:tensorflow:Done calling model_fn.\n",
      "INFO:tensorflow:Starting evaluation at 2019-06-13T14:47:41Z\n",
      "INFO:tensorflow:Graph was finalized.\n",
      "INFO:tensorflow:Restoring parameters from /var/folders/mz/trvwr9zx153g2cwg48wfgt4c0000gn/T/tmpdspb_7j2/model.ckpt-19012\n",
      "INFO:tensorflow:Running local_init_op.\n",
      "INFO:tensorflow:Done running local_init_op.\n",
      "INFO:tensorflow:Finished evaluation at 2019-06-13-14:47:46\n",
      "INFO:tensorflow:Saving dict for global step 19012: average_loss = 13330918000.0, global_step = 19012, label/mean = 206509.33, loss = 133244630000.0, prediction/mean = 205767.8\n",
      "INFO:tensorflow:Saving 'checkpoint_path' summary for global step 19012: /var/folders/mz/trvwr9zx153g2cwg48wfgt4c0000gn/T/tmpdspb_7j2/model.ckpt-19012\n",
      "INFO:tensorflow:Calling model_fn.\n",
      "INFO:tensorflow:Done calling model_fn.\n",
      "INFO:tensorflow:Starting evaluation at 2019-06-13T14:47:46Z\n",
      "INFO:tensorflow:Graph was finalized.\n",
      "INFO:tensorflow:Restoring parameters from /var/folders/mz/trvwr9zx153g2cwg48wfgt4c0000gn/T/tmpdspb_7j2/model.ckpt-19012\n",
      "INFO:tensorflow:Running local_init_op.\n",
      "INFO:tensorflow:Done running local_init_op.\n",
      "INFO:tensorflow:Finished evaluation at 2019-06-13-14:47:48\n",
      "INFO:tensorflow:Saving dict for global step 19012: average_loss = 38199366000.0, global_step = 19012, label/mean = 208242.17, loss = 381808700000.0, prediction/mean = 60994.543\n",
      "INFO:tensorflow:Saving 'checkpoint_path' summary for global step 19012: /var/folders/mz/trvwr9zx153g2cwg48wfgt4c0000gn/T/tmpdspb_7j2/model.ckpt-19012\n"
     ]
    }
   ],
   "source": [
    "train_metrics = model.evaluate(input_fn=train_input_func)\n",
    "test_metrics = model.evaluate(input_fn=test_input_func)\n"
   ]
  },
  {
   "cell_type": "code",
   "execution_count": 36,
   "metadata": {},
   "outputs": [
    {
     "name": "stdout",
     "output_type": "stream",
     "text": [
      "average_loss 13330918000.0 38199366000.0\n",
      "label/mean 206509.33 208242.17\n",
      "loss 133244630000.0 381808700000.0\n",
      "prediction/mean 205767.8 60994.543\n",
      "global_step 19012 19012\n"
     ]
    }
   ],
   "source": [
    "for key in train_metrics:\n",
    "    print (key, train_metrics[key], test_metrics[key])"
   ]
  },
  {
   "cell_type": "markdown",
   "metadata": {},
   "source": [
    "## Prediction"
   ]
  },
  {
   "cell_type": "code",
   "execution_count": 37,
   "metadata": {},
   "outputs": [],
   "source": [
    "predict_input_func = tf.estimator.inputs.pandas_input_fn(\n",
    "             x = x_test, batch_size=10, num_epochs=1, shuffle=False)"
   ]
  },
  {
   "cell_type": "code",
   "execution_count": 38,
   "metadata": {},
   "outputs": [
    {
     "name": "stdout",
     "output_type": "stream",
     "text": [
      "INFO:tensorflow:Calling model_fn.\n",
      "INFO:tensorflow:Done calling model_fn.\n",
      "INFO:tensorflow:Graph was finalized.\n",
      "INFO:tensorflow:Restoring parameters from /var/folders/mz/trvwr9zx153g2cwg48wfgt4c0000gn/T/tmpdspb_7j2/model.ckpt-19012\n",
      "INFO:tensorflow:Running local_init_op.\n",
      "INFO:tensorflow:Done running local_init_op.\n"
     ]
    }
   ],
   "source": [
    "pred_values = list(model.predict(predict_input_func))"
   ]
  },
  {
   "cell_type": "code",
   "execution_count": 45,
   "metadata": {},
   "outputs": [],
   "source": [
    "for i in range(len(pred_values)):\n",
    "    pred_values[i] = pred_values[i]['predictions']"
   ]
  },
  {
   "cell_type": "code",
   "execution_count": 40,
   "metadata": {},
   "outputs": [],
   "source": [
    "from sklearn.metrics import mean_squared_error"
   ]
  },
  {
   "cell_type": "code",
   "execution_count": 47,
   "metadata": {},
   "outputs": [
    {
     "data": {
      "text/plain": [
       "195446.54575345252"
      ]
     },
     "execution_count": 47,
     "metadata": {},
     "output_type": "execute_result"
    }
   ],
   "source": [
    "mean_squared_error(pred_values, y_test)**0.5"
   ]
  }
 ],
 "metadata": {
  "kernelspec": {
   "display_name": "Python 3",
   "language": "python",
   "name": "python3"
  },
  "language_info": {
   "codemirror_mode": {
    "name": "ipython",
    "version": 3
   },
   "file_extension": ".py",
   "mimetype": "text/x-python",
   "name": "python",
   "nbconvert_exporter": "python",
   "pygments_lexer": "ipython3",
   "version": "3.7.3"
  }
 },
 "nbformat": 4,
 "nbformat_minor": 2
}
