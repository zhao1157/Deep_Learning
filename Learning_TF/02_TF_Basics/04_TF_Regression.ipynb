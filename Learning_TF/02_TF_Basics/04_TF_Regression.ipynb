{
 "cells": [
  {
   "cell_type": "markdown",
   "metadata": {},
   "source": [
    "## Tensorflow Regression"
   ]
  },
  {
   "cell_type": "markdown",
   "metadata": {},
   "source": [
    "### Create Data"
   ]
  },
  {
   "cell_type": "code",
   "execution_count": 1,
   "metadata": {},
   "outputs": [],
   "source": [
    "import numpy as np\n",
    "import pandas as pd\n",
    "import matplotlib.pyplot as plt\n",
    "%matplotlib inline"
   ]
  },
  {
   "cell_type": "code",
   "execution_count": 2,
   "metadata": {},
   "outputs": [],
   "source": [
    "x_data = np.linspace(0, 10, 10000)"
   ]
  },
  {
   "cell_type": "code",
   "execution_count": 3,
   "metadata": {},
   "outputs": [],
   "source": [
    "noise = np.random.randn(len(x_data))"
   ]
  },
  {
   "cell_type": "code",
   "execution_count": 4,
   "metadata": {},
   "outputs": [],
   "source": [
    "y_true = (0.5*x_data) + 2 + noise"
   ]
  },
  {
   "cell_type": "code",
   "execution_count": 5,
   "metadata": {},
   "outputs": [],
   "source": [
    "my_data = pd.concat([pd.DataFrame(data=x_data, columns=['x']), pd.DataFrame(data=y_true, columns=['y'])], axis=1)\n"
   ]
  },
  {
   "cell_type": "code",
   "execution_count": 6,
   "metadata": {},
   "outputs": [
    {
     "data": {
      "text/html": [
       "<div>\n",
       "<style scoped>\n",
       "    .dataframe tbody tr th:only-of-type {\n",
       "        vertical-align: middle;\n",
       "    }\n",
       "\n",
       "    .dataframe tbody tr th {\n",
       "        vertical-align: top;\n",
       "    }\n",
       "\n",
       "    .dataframe thead th {\n",
       "        text-align: right;\n",
       "    }\n",
       "</style>\n",
       "<table border=\"1\" class=\"dataframe\">\n",
       "  <thead>\n",
       "    <tr style=\"text-align: right;\">\n",
       "      <th></th>\n",
       "      <th>x</th>\n",
       "      <th>y</th>\n",
       "    </tr>\n",
       "  </thead>\n",
       "  <tbody>\n",
       "    <tr>\n",
       "      <th>0</th>\n",
       "      <td>0.000</td>\n",
       "      <td>3.247793</td>\n",
       "    </tr>\n",
       "    <tr>\n",
       "      <th>1</th>\n",
       "      <td>0.001</td>\n",
       "      <td>1.985414</td>\n",
       "    </tr>\n",
       "    <tr>\n",
       "      <th>2</th>\n",
       "      <td>0.002</td>\n",
       "      <td>1.893743</td>\n",
       "    </tr>\n",
       "    <tr>\n",
       "      <th>3</th>\n",
       "      <td>0.003</td>\n",
       "      <td>0.176515</td>\n",
       "    </tr>\n",
       "    <tr>\n",
       "      <th>4</th>\n",
       "      <td>0.004</td>\n",
       "      <td>1.203611</td>\n",
       "    </tr>\n",
       "  </tbody>\n",
       "</table>\n",
       "</div>"
      ],
      "text/plain": [
       "       x         y\n",
       "0  0.000  3.247793\n",
       "1  0.001  1.985414\n",
       "2  0.002  1.893743\n",
       "3  0.003  0.176515\n",
       "4  0.004  1.203611"
      ]
     },
     "execution_count": 6,
     "metadata": {},
     "output_type": "execute_result"
    }
   ],
   "source": [
    "my_data.head()"
   ]
  },
  {
   "cell_type": "code",
   "execution_count": 7,
   "metadata": {},
   "outputs": [
    {
     "data": {
      "text/plain": [
       "<matplotlib.axes._subplots.AxesSubplot at 0x12321ada0>"
      ]
     },
     "execution_count": 7,
     "metadata": {},
     "output_type": "execute_result"
    },
    {
     "data": {
      "image/png": "[encoded data removed]",
      "text/plain": [
       "<Figure size 432x288 with 1 Axes>"
      ]
     },
     "metadata": {
      "needs_background": "light"
     },
     "output_type": "display_data"
    }
   ],
   "source": [
    "my_data.sample(n=200).plot(kind = 'scatter', x = 'x', y = 'y')"
   ]
  },
  {
   "cell_type": "markdown",
   "metadata": {},
   "source": [
    "## TensorFlow"
   ]
  },
  {
   "cell_type": "markdown",
   "metadata": {},
   "source": [
    "### Batch Size"
   ]
  },
  {
   "cell_type": "code",
   "execution_count": 8,
   "metadata": {},
   "outputs": [],
   "source": [
    "import tensorflow as tf"
   ]
  },
  {
   "cell_type": "code",
   "execution_count": 9,
   "metadata": {},
   "outputs": [],
   "source": [
    "batch_size = 8"
   ]
  },
  {
   "cell_type": "markdown",
   "metadata": {},
   "source": [
    "** Variable -- needs to be updated during training **"
   ]
  },
  {
   "cell_type": "code",
   "execution_count": 10,
   "metadata": {},
   "outputs": [
    {
     "name": "stdout",
     "output_type": "stream",
     "text": [
      "WARNING:tensorflow:From /Users/LianshuiZhao/anaconda3/lib/python3.7/site-packages/tensorflow/python/framework/op_def_library.py:263: colocate_with (from tensorflow.python.framework.ops) is deprecated and will be removed in a future version.\n",
      "Instructions for updating:\n",
      "Colocations handled automatically by placer.\n"
     ]
    }
   ],
   "source": [
    "import numpy as np\n",
    "np.random.seed(2)\n",
    "rnd = np.float32(np.random.random(2))\n",
    "m = tf.Variable(initial_value=rnd[0])\n",
    "b = tf.Variable(initial_value=rnd[1])"
   ]
  },
  {
   "cell_type": "markdown",
   "metadata": {},
   "source": [
    "** Placeholders -- contain the data **"
   ]
  },
  {
   "cell_type": "code",
   "execution_count": 11,
   "metadata": {},
   "outputs": [],
   "source": [
    "xph = tf.placeholder(tf.float32, [batch_size])\n",
    "yph = tf.placeholder(tf.float32, [batch_size])"
   ]
  },
  {
   "cell_type": "markdown",
   "metadata": {},
   "source": [
    "** Graph **"
   ]
  },
  {
   "cell_type": "code",
   "execution_count": 12,
   "metadata": {},
   "outputs": [],
   "source": [
    "y_model = m*xph + b"
   ]
  },
  {
   "cell_type": "markdown",
   "metadata": {},
   "source": [
    "** Loss function **"
   ]
  },
  {
   "cell_type": "code",
   "execution_count": 13,
   "metadata": {},
   "outputs": [],
   "source": [
    "error = tf.reduce_sum(tf.square(yph-y_model))"
   ]
  },
  {
   "cell_type": "markdown",
   "metadata": {},
   "source": [
    "** Optimizer -- update the variables **"
   ]
  },
  {
   "cell_type": "code",
   "execution_count": 14,
   "metadata": {},
   "outputs": [],
   "source": [
    "#be careful about the learning_rate, if it is too large, then you might\n",
    "#get nan values for the variables\n",
    "optimizer = tf.train.GradientDescentOptimizer(learning_rate=0.001)\n",
    "train = optimizer.minimize(error)"
   ]
  },
  {
   "cell_type": "markdown",
   "metadata": {},
   "source": [
    "** Initialize Variables **"
   ]
  },
  {
   "cell_type": "code",
   "execution_count": 15,
   "metadata": {},
   "outputs": [],
   "source": [
    "init = tf.global_variables_initializer()"
   ]
  },
  {
   "cell_type": "markdown",
   "metadata": {},
   "source": [
    "### Session "
   ]
  },
  {
   "cell_type": "code",
   "execution_count": 16,
   "metadata": {},
   "outputs": [],
   "source": [
    "with tf.Session() as sess:\n",
    "    sess.run(init)\n",
    "    batches = 3000\n",
    "    for i in range(batches):\n",
    "        #randomly fetch data to form one batch\n",
    "        rand_ind = np.random.randint(len(x_data), size = batch_size)\n",
    "        sess.run(train, {xph: x_data[rand_ind], yph: y_true[rand_ind]})\n",
    "    \n",
    "    model_m, model_b = sess.run([m, b])#m.eval(), b.eval()\n",
    "    "
   ]
  },
  {
   "cell_type": "code",
   "execution_count": 17,
   "metadata": {},
   "outputs": [
    {
     "data": {
      "text/plain": [
       "(0.45787916, 2.025542)"
      ]
     },
     "execution_count": 17,
     "metadata": {},
     "output_type": "execute_result"
    }
   ],
   "source": [
    "model_m, model_b"
   ]
  },
  {
   "cell_type": "markdown",
   "metadata": {},
   "source": [
    "## Results"
   ]
  },
  {
   "cell_type": "code",
   "execution_count": 18,
   "metadata": {},
   "outputs": [
    {
     "data": {
      "text/plain": [
       "[<matplotlib.lines.Line2D at 0xb451f8780>]"
      ]
     },
     "execution_count": 18,
     "metadata": {},
     "output_type": "execute_result"
    },
    {
     "data": {
      "image/png": "[encoded data removed]",
      "text/plain": [
       "<Figure size 432x288 with 1 Axes>"
      ]
     },
     "metadata": {
      "needs_background": "light"
     },
     "output_type": "display_data"
    }
   ],
   "source": [
    "x_plot = my_data.sample(n=20).iloc[:, 0].to_numpy()\n",
    "y_plot = model_m*x_plot + model_b\n",
    "#plt.plot(x_plot, y_plot) #place this line below the sample data\n",
    "my_data.sample(n=200).plot(kind = 'scatter', x = 'x', y = 'y')\n",
    "plt.plot(x_plot, y_plot, 'r')"
   ]
  },
  {
   "cell_type": "markdown",
   "metadata": {},
   "source": [
    "## tf.estimator API"
   ]
  },
  {
   "cell_type": "markdown",
   "metadata": {},
   "source": [
    "### Train Test Split"
   ]
  },
  {
   "cell_type": "code",
   "execution_count": 19,
   "metadata": {},
   "outputs": [],
   "source": [
    "from sklearn.model_selection import train_test_split"
   ]
  },
  {
   "cell_type": "code",
   "execution_count": 20,
   "metadata": {},
   "outputs": [],
   "source": [
    "x_train, x_eval, y_train, y_eval = train_test_split(x_data, y_true, test_size = 0.2, random_state = 0)"
   ]
  },
  {
   "cell_type": "code",
   "execution_count": 21,
   "metadata": {},
   "outputs": [
    {
     "name": "stdout",
     "output_type": "stream",
     "text": [
      "(8000,) (8000,) \n",
      " (2000,) (2000,)\n"
     ]
    }
   ],
   "source": [
    "print (x_train.shape, y_train.shape, '\\n', x_eval.shape, y_eval.shape)"
   ]
  },
  {
   "cell_type": "markdown",
   "metadata": {},
   "source": [
    "### Set up estimator"
   ]
  },
  {
   "cell_type": "code",
   "execution_count": 22,
   "metadata": {},
   "outputs": [],
   "source": [
    "\n",
    "feat_cols = [tf.feature_column.numeric_column('x', shape=(1,))]\n"
   ]
  },
  {
   "cell_type": "code",
   "execution_count": 23,
   "metadata": {},
   "outputs": [],
   "source": [
    "#not show warnings\n",
    "tf.logging.set_verbosity(tf.logging.ERROR)"
   ]
  },
  {
   "cell_type": "code",
   "execution_count": 24,
   "metadata": {},
   "outputs": [],
   "source": [
    "estimator = tf.estimator.LinearRegressor(feature_columns=feat_cols)\n"
   ]
  },
  {
   "cell_type": "markdown",
   "metadata": {},
   "source": [
    "!!! Training progress is determined by min(Epochs, steps), i.e. it always comes to the smaller values. One epoch is num_samples/batch_size = steps."
   ]
  },
  {
   "cell_type": "code",
   "execution_count": 36,
   "metadata": {},
   "outputs": [],
   "source": [
    "input_func = tf.estimator.inputs.numpy_input_fn(\n",
    "             {'x': x_train}, y_train, batch_size=4, num_epochs=1, shuffle=True)"
   ]
  },
  {
   "cell_type": "code",
   "execution_count": 109,
   "metadata": {},
   "outputs": [],
   "source": [
    "train_input_func = tf.estimator.inputs.numpy_input_fn(\n",
    "             {'x': x_train}, y_train, batch_size=4, num_epochs=1, shuffle=False)"
   ]
  },
  {
   "cell_type": "code",
   "execution_count": 49,
   "metadata": {},
   "outputs": [],
   "source": [
    "eval_input_func = tf.estimator.inputs.numpy_input_fn(\n",
    "             {'x': x_eval}, y_eval, batch_size=4, num_epochs=1, shuffle=False)"
   ]
  },
  {
   "cell_type": "markdown",
   "metadata": {},
   "source": [
    "### Train the Estimator"
   ]
  },
  {
   "cell_type": "code",
   "execution_count": 40,
   "metadata": {
    "scrolled": true
   },
   "outputs": [
    {
     "name": "stdout",
     "output_type": "stream",
     "text": [
      "INFO:tensorflow:Calling model_fn.\n",
      "INFO:tensorflow:Done calling model_fn.\n",
      "INFO:tensorflow:Create CheckpointSaverHook.\n",
      "INFO:tensorflow:Graph was finalized.\n",
      "INFO:tensorflow:Restoring parameters from /var/folders/mz/trvwr9zx153g2cwg48wfgt4c0000gn/T/tmp5d_ytfii/model.ckpt-12000\n",
      "INFO:tensorflow:Running local_init_op.\n",
      "INFO:tensorflow:Done running local_init_op.\n",
      "INFO:tensorflow:Saving checkpoints for 12000 into /var/folders/mz/trvwr9zx153g2cwg48wfgt4c0000gn/T/tmp5d_ytfii/model.ckpt.\n",
      "INFO:tensorflow:loss = 3.6794422, step = 12001\n",
      "INFO:tensorflow:global_step/sec: 249.011\n",
      "INFO:tensorflow:loss = 4.398718, step = 12101 (0.405 sec)\n",
      "INFO:tensorflow:global_step/sec: 598.273\n",
      "INFO:tensorflow:loss = 2.254595, step = 12201 (0.165 sec)\n",
      "INFO:tensorflow:global_step/sec: 646.065\n",
      "INFO:tensorflow:loss = 6.7600565, step = 12301 (0.155 sec)\n",
      "INFO:tensorflow:global_step/sec: 615.574\n",
      "INFO:tensorflow:loss = 5.848013, step = 12401 (0.162 sec)\n",
      "INFO:tensorflow:global_step/sec: 634.764\n",
      "INFO:tensorflow:loss = 3.7946372, step = 12501 (0.157 sec)\n",
      "INFO:tensorflow:global_step/sec: 630.89\n",
      "INFO:tensorflow:loss = 13.539605, step = 12601 (0.158 sec)\n",
      "INFO:tensorflow:global_step/sec: 627.062\n",
      "INFO:tensorflow:loss = 6.3535757, step = 12701 (0.159 sec)\n",
      "INFO:tensorflow:global_step/sec: 628.615\n",
      "INFO:tensorflow:loss = 0.24268332, step = 12801 (0.159 sec)\n",
      "INFO:tensorflow:global_step/sec: 625.44\n",
      "INFO:tensorflow:loss = 3.1846242, step = 12901 (0.160 sec)\n",
      "INFO:tensorflow:global_step/sec: 629.957\n",
      "INFO:tensorflow:loss = 3.7072601, step = 13001 (0.159 sec)\n",
      "INFO:tensorflow:global_step/sec: 651.815\n",
      "INFO:tensorflow:loss = 1.1068045, step = 13101 (0.153 sec)\n",
      "INFO:tensorflow:global_step/sec: 612.977\n",
      "INFO:tensorflow:loss = 3.0218818, step = 13201 (0.163 sec)\n",
      "INFO:tensorflow:global_step/sec: 590.713\n",
      "INFO:tensorflow:loss = 11.513735, step = 13301 (0.170 sec)\n",
      "INFO:tensorflow:global_step/sec: 353.821\n",
      "INFO:tensorflow:loss = 11.49912, step = 13401 (0.283 sec)\n",
      "INFO:tensorflow:global_step/sec: 398.85\n",
      "INFO:tensorflow:loss = 0.39950323, step = 13501 (0.250 sec)\n",
      "INFO:tensorflow:global_step/sec: 451.505\n",
      "INFO:tensorflow:loss = 3.0234323, step = 13601 (0.222 sec)\n",
      "INFO:tensorflow:global_step/sec: 561.902\n",
      "INFO:tensorflow:loss = 5.4569325, step = 13701 (0.177 sec)\n",
      "INFO:tensorflow:global_step/sec: 549.224\n",
      "INFO:tensorflow:loss = 1.049727, step = 13801 (0.182 sec)\n",
      "INFO:tensorflow:global_step/sec: 562.18\n",
      "INFO:tensorflow:loss = 1.1614257, step = 13901 (0.178 sec)\n",
      "INFO:tensorflow:Saving checkpoints for 14000 into /var/folders/mz/trvwr9zx153g2cwg48wfgt4c0000gn/T/tmp5d_ytfii/model.ckpt.\n",
      "INFO:tensorflow:Loss for final step: 1.8342395.\n"
     ]
    },
    {
     "data": {
      "text/plain": [
       "<tensorflow_estimator.python.estimator.canned.linear.LinearRegressor at 0xb45133ba8>"
      ]
     },
     "execution_count": 40,
     "metadata": {},
     "output_type": "execute_result"
    }
   ],
   "source": [
    "tf.logging.set_verbosity(tf.logging.INFO)\n",
    "estimator.train(input_fn=input_func, steps=4000)"
   ]
  },
  {
   "cell_type": "markdown",
   "metadata": {},
   "source": [
    "## Evaluation"
   ]
  },
  {
   "cell_type": "markdown",
   "metadata": {},
   "source": [
    "!!!The steps in .evaluate() and epoches determine the number of steps in the evaluation process. If steps is smaller than epochs-steps, then run evaluation on steps batches; otherwise we run out of all batches available."
   ]
  },
  {
   "cell_type": "code",
   "execution_count": 110,
   "metadata": {},
   "outputs": [
    {
     "name": "stdout",
     "output_type": "stream",
     "text": [
      "INFO:tensorflow:Calling model_fn.\n",
      "INFO:tensorflow:Done calling model_fn.\n",
      "INFO:tensorflow:Starting evaluation at 2019-06-12T18:36:33Z\n",
      "INFO:tensorflow:Graph was finalized.\n",
      "INFO:tensorflow:Restoring parameters from /var/folders/mz/trvwr9zx153g2cwg48wfgt4c0000gn/T/tmp5d_ytfii/model.ckpt-14000\n",
      "INFO:tensorflow:Running local_init_op.\n",
      "INFO:tensorflow:Done running local_init_op.\n",
      "INFO:tensorflow:Evaluation [10/100]\n",
      "INFO:tensorflow:Evaluation [20/100]\n",
      "INFO:tensorflow:Evaluation [30/100]\n",
      "INFO:tensorflow:Evaluation [40/100]\n",
      "INFO:tensorflow:Evaluation [50/100]\n",
      "INFO:tensorflow:Evaluation [60/100]\n",
      "INFO:tensorflow:Evaluation [70/100]\n",
      "INFO:tensorflow:Evaluation [80/100]\n",
      "INFO:tensorflow:Evaluation [90/100]\n",
      "INFO:tensorflow:Evaluation [100/100]\n",
      "INFO:tensorflow:Finished evaluation at 2019-06-12-18:36:34\n",
      "INFO:tensorflow:Saving dict for global step 14000: average_loss = 1.048977, global_step = 14000, label/mean = 4.4024553, loss = 4.195908, prediction/mean = 4.438682\n",
      "INFO:tensorflow:Saving 'checkpoint_path' summary for global step 14000: /var/folders/mz/trvwr9zx153g2cwg48wfgt4c0000gn/T/tmp5d_ytfii/model.ckpt-14000\n"
     ]
    }
   ],
   "source": [
    "train_metrics = estimator.evaluate(input_fn=train_input_func, steps = 100)"
   ]
  },
  {
   "cell_type": "code",
   "execution_count": 105,
   "metadata": {},
   "outputs": [
    {
     "name": "stdout",
     "output_type": "stream",
     "text": [
      "INFO:tensorflow:Calling model_fn.\n",
      "INFO:tensorflow:Done calling model_fn.\n",
      "INFO:tensorflow:Starting evaluation at 2019-06-12T18:35:47Z\n",
      "INFO:tensorflow:Graph was finalized.\n",
      "INFO:tensorflow:Restoring parameters from /var/folders/mz/trvwr9zx153g2cwg48wfgt4c0000gn/T/tmp5d_ytfii/model.ckpt-14000\n",
      "INFO:tensorflow:Running local_init_op.\n",
      "INFO:tensorflow:Done running local_init_op.\n",
      "INFO:tensorflow:Evaluation [10/100]\n",
      "INFO:tensorflow:Evaluation [20/100]\n",
      "INFO:tensorflow:Evaluation [30/100]\n",
      "INFO:tensorflow:Evaluation [40/100]\n",
      "INFO:tensorflow:Evaluation [50/100]\n",
      "INFO:tensorflow:Evaluation [60/100]\n",
      "INFO:tensorflow:Evaluation [70/100]\n",
      "INFO:tensorflow:Evaluation [80/100]\n",
      "INFO:tensorflow:Evaluation [90/100]\n",
      "INFO:tensorflow:Evaluation [100/100]\n",
      "INFO:tensorflow:Finished evaluation at 2019-06-12-18:35:48\n",
      "INFO:tensorflow:Saving dict for global step 14000: average_loss = 1.1092958, global_step = 14000, label/mean = 4.3952336, loss = 4.4371834, prediction/mean = 4.538011\n",
      "INFO:tensorflow:Saving 'checkpoint_path' summary for global step 14000: /var/folders/mz/trvwr9zx153g2cwg48wfgt4c0000gn/T/tmp5d_ytfii/model.ckpt-14000\n"
     ]
    }
   ],
   "source": [
    "eval_metrics = estimator.evaluate(input_fn= eval_input_func, steps = 100)"
   ]
  },
  {
   "cell_type": "code",
   "execution_count": 111,
   "metadata": {},
   "outputs": [
    {
     "data": {
      "text/plain": [
       "({'average_loss': 1.048977,\n",
       "  'label/mean': 4.4024553,\n",
       "  'loss': 4.195908,\n",
       "  'prediction/mean': 4.438682,\n",
       "  'global_step': 14000},\n",
       " {'average_loss': 1.1092958,\n",
       "  'label/mean': 4.3952336,\n",
       "  'loss': 4.4371834,\n",
       "  'prediction/mean': 4.538011,\n",
       "  'global_step': 14000})"
      ]
     },
     "execution_count": 111,
     "metadata": {},
     "output_type": "execute_result"
    }
   ],
   "source": [
    "train_metrics, eval_metrics"
   ]
  },
  {
   "cell_type": "code",
   "execution_count": 112,
   "metadata": {},
   "outputs": [
    {
     "name": "stdout",
     "output_type": "stream",
     "text": [
      "average_loss 1.048977 1.1092958\n",
      "label/mean 4.4024553 4.3952336\n",
      "loss 4.195908 4.4371834\n",
      "prediction/mean 4.438682 4.538011\n",
      "global_step 14000 14000\n"
     ]
    }
   ],
   "source": [
    "for key in train_metrics:\n",
    "    print (key, train_metrics[key], eval_metrics[key])"
   ]
  },
  {
   "cell_type": "markdown",
   "metadata": {},
   "source": [
    "## Predictions"
   ]
  },
  {
   "cell_type": "code",
   "execution_count": 63,
   "metadata": {},
   "outputs": [],
   "source": [
    "input_fn_predict = tf.estimator.inputs.numpy_input_fn(\n",
    "                    {'x':np.linspace(0, 10, 10)}, shuffle=False)"
   ]
  },
  {
   "cell_type": "code",
   "execution_count": 89,
   "metadata": {},
   "outputs": [],
   "source": [
    "#.predict() returns a generator, so be careful as you have only one chance\n",
    "pred = estimator.predict(input_fn=input_fn_predict)"
   ]
  },
  {
   "cell_type": "code",
   "execution_count": 90,
   "metadata": {},
   "outputs": [
    {
     "name": "stdout",
     "output_type": "stream",
     "text": [
      "INFO:tensorflow:Calling model_fn.\n",
      "INFO:tensorflow:Done calling model_fn.\n",
      "INFO:tensorflow:Graph was finalized.\n",
      "INFO:tensorflow:Restoring parameters from /var/folders/mz/trvwr9zx153g2cwg48wfgt4c0000gn/T/tmp5d_ytfii/model.ckpt-14000\n",
      "INFO:tensorflow:Running local_init_op.\n",
      "INFO:tensorflow:Done running local_init_op.\n"
     ]
    }
   ],
   "source": [
    "pred = list(pred)"
   ]
  },
  {
   "cell_type": "code",
   "execution_count": 91,
   "metadata": {},
   "outputs": [
    {
     "data": {
      "text/plain": [
       "[{'predictions': array([1.993979], dtype=float32)},\n",
       " {'predictions': array([2.5635002], dtype=float32)},\n",
       " {'predictions': array([3.1330214], dtype=float32)},\n",
       " {'predictions': array([3.7025423], dtype=float32)},\n",
       " {'predictions': array([4.2720633], dtype=float32)},\n",
       " {'predictions': array([4.841584], dtype=float32)},\n",
       " {'predictions': array([5.4111056], dtype=float32)},\n",
       " {'predictions': array([5.980627], dtype=float32)},\n",
       " {'predictions': array([6.550148], dtype=float32)},\n",
       " {'predictions': array([7.119669], dtype=float32)}]"
      ]
     },
     "execution_count": 91,
     "metadata": {},
     "output_type": "execute_result"
    }
   ],
   "source": [
    "pred"
   ]
  },
  {
   "cell_type": "code",
   "execution_count": 92,
   "metadata": {},
   "outputs": [],
   "source": [
    "pred_values = [i['predictions'] for i in pred]"
   ]
  },
  {
   "cell_type": "code",
   "execution_count": 96,
   "metadata": {},
   "outputs": [
    {
     "data": {
      "text/plain": [
       "[<matplotlib.lines.Line2D at 0x1a4a227f60>]"
      ]
     },
     "execution_count": 96,
     "metadata": {},
     "output_type": "execute_result"
    },
    {
     "data": {
      "image/png": "[encoded data removed]",
      "text/plain": [
       "<Figure size 432x288 with 1 Axes>"
      ]
     },
     "metadata": {
      "needs_background": "light"
     },
     "output_type": "display_data"
    }
   ],
   "source": [
    "my_data.sample(n=200).plot(kind = 'scatter', x = 'x', y='y')\n",
    "plt.plot(np.linspace(0, 10, 10), pred_values, 'r')"
   ]
  }
 ],
 "metadata": {
  "kernelspec": {
   "display_name": "Python 3",
   "language": "python",
   "name": "python3"
  },
  "language_info": {
   "codemirror_mode": {
    "name": "ipython",
    "version": 3
   },
   "file_extension": ".py",
   "mimetype": "text/x-python",
   "name": "python",
   "nbconvert_exporter": "python",
   "pygments_lexer": "ipython3",
   "version": "3.7.3"
  }
 },
 "nbformat": 4,
 "nbformat_minor": 2
}
