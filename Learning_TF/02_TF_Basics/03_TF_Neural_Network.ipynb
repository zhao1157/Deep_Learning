{
 "cells": [
  {
   "cell_type": "markdown",
   "metadata": {},
   "source": [
    "## First Neurons"
   ]
  },
  {
   "cell_type": "code",
   "execution_count": 1,
   "metadata": {},
   "outputs": [],
   "source": [
    "import numpy as np\n",
    "import tensorflow as tf"
   ]
  },
  {
   "cell_type": "markdown",
   "metadata": {},
   "source": [
    "set random seed for numpy and tensorflow to ensure reproductivity"
   ]
  },
  {
   "cell_type": "code",
   "execution_count": 2,
   "metadata": {},
   "outputs": [],
   "source": [
    "#np.random.seed(101) #not that useful\n",
    "tf.set_random_seed(101)"
   ]
  },
  {
   "cell_type": "markdown",
   "metadata": {},
   "source": [
    "generate some random numbers"
   ]
  },
  {
   "cell_type": "code",
   "execution_count": 3,
   "metadata": {},
   "outputs": [
    {
     "data": {
      "text/plain": [
       "array([[95, 11, 81, 70, 63],\n",
       "       [87, 75,  9, 77, 40],\n",
       "       [ 4, 63, 40, 60, 92],\n",
       "       [64,  5, 12, 93, 40],\n",
       "       [49, 83,  8, 29, 59]])"
      ]
     },
     "execution_count": 3,
     "metadata": {},
     "output_type": "execute_result"
    }
   ],
   "source": [
    "np.random.seed(101) #must be in the same cell, otherwise, we won't get the same data sets even though the random see is set at the very beginning\n",
    "rand_a = np.random.randint(0, 100, (5, 5))\n",
    "rand_a"
   ]
  },
  {
   "cell_type": "code",
   "execution_count": 4,
   "metadata": {},
   "outputs": [
    {
     "data": {
      "text/plain": [
       "array([[95],\n",
       "       [11],\n",
       "       [81],\n",
       "       [70],\n",
       "       [63]])"
      ]
     },
     "execution_count": 4,
     "metadata": {},
     "output_type": "execute_result"
    }
   ],
   "source": [
    "np.random.seed(101)\n",
    "rand_b = np.random.randint(0, 100, (5, 1))\n",
    "rand_b"
   ]
  },
  {
   "cell_type": "markdown",
   "metadata": {},
   "source": [
    "## Placeholders"
   ]
  },
  {
   "cell_type": "code",
   "execution_count": 5,
   "metadata": {},
   "outputs": [],
   "source": [
    "a = tf.placeholder(tf.float32)\n",
    "b = tf.placeholder(tf.float32)"
   ]
  },
  {
   "cell_type": "markdown",
   "metadata": {},
   "source": [
    "## Operations"
   ]
  },
  {
   "cell_type": "code",
   "execution_count": 6,
   "metadata": {},
   "outputs": [],
   "source": [
    "add_op = tf.add(a, b)\n",
    "mult_op = tf.multiply(a, b)"
   ]
  },
  {
   "cell_type": "markdown",
   "metadata": {},
   "source": [
    "## Running sessions to create graphs with feed dictionaries"
   ]
  },
  {
   "cell_type": "code",
   "execution_count": 7,
   "metadata": {},
   "outputs": [
    {
     "name": "stdout",
     "output_type": "stream",
     "text": [
      "[[190. 106. 176. 165. 158.]\n",
      " [ 98.  86.  20.  88.  51.]\n",
      " [ 85. 144. 121. 141. 173.]\n",
      " [134.  75.  82. 163. 110.]\n",
      " [112. 146.  71.  92. 122.]]\n",
      "\n",
      "\n",
      "\n",
      "[[9025. 1045. 7695. 6650. 5985.]\n",
      " [ 957.  825.   99.  847.  440.]\n",
      " [ 324. 5103. 3240. 4860. 7452.]\n",
      " [4480.  350.  840. 6510. 2800.]\n",
      " [3087. 5229.  504. 1827. 3717.]]\n"
     ]
    }
   ],
   "source": [
    "with tf.Session() as sess:\n",
    "    add_result = sess.run(add_op, {a: rand_a, b: rand_b})\n",
    "    print (add_result)\n",
    "    print ('\\n\\n')\n",
    "    multiply_result = sess.run(mult_op, {a: rand_a, b:rand_b})\n",
    "    print (multiply_result)"
   ]
  },
  {
   "cell_type": "markdown",
   "metadata": {},
   "source": [
    "## Example Neural Network"
   ]
  },
  {
   "cell_type": "code",
   "execution_count": 8,
   "metadata": {},
   "outputs": [],
   "source": [
    "n_features = 10\n",
    "n_dense_neurons = 3"
   ]
  },
  {
   "cell_type": "code",
   "execution_count": null,
   "metadata": {
    "scrolled": true
   },
   "outputs": [],
   "source": [
    "#placeholder for x, where data type is a required argument\n",
    "x = tf.placeholder(tf.float32, (None, n_features), name='input') #data type, shape, and name"
   ]
  },
  {
   "cell_type": "code",
   "execution_count": null,
   "metadata": {},
   "outputs": [
    {
     "name": "stdout",
     "output_type": "stream",
     "text": [
      "WARNING:tensorflow:From /Users/LianshuiZhao/anaconda3/lib/python3.7/site-packages/tensorflow/python/framework/op_def_library.py:263: colocate_with (from tensorflow.python.framework.ops) is deprecated and will be removed in a future version.\n",
      "Instructions for updating:\n",
      "Colocations handled automatically by placer.\n"
     ]
    }
   ],
   "source": [
    "#variables for w and b\n",
    "w = tf.Variable(tf.random_normal((n_features, n_dense_neurons))) #shape is required, others are optional\n",
    "b = tf.Variable(tf.ones((n_dense_neurons)))"
   ]
  },
  {
   "cell_type": "code",
   "execution_count": null,
   "metadata": {},
   "outputs": [],
   "source": [
    "z = tf.add(tf.matmul(x, w), b)"
   ]
  },
  {
   "cell_type": "code",
   "execution_count": null,
   "metadata": {},
   "outputs": [],
   "source": [
    "p_sigmoid = tf.sigmoid(z)\n",
    "p_tanh = tf.tanh(z)"
   ]
  },
  {
   "cell_type": "code",
   "execution_count": null,
   "metadata": {},
   "outputs": [],
   "source": [
    "init = tf.global_variables_initializer()"
   ]
  },
  {
   "cell_type": "code",
   "execution_count": null,
   "metadata": {},
   "outputs": [
    {
     "name": "stdout",
     "output_type": "stream",
     "text": [
      "[[0.64081025 0.91926014 0.35007894]\n",
      " [0.62502205 0.91362137 0.32650024]]\n",
      "\n",
      "\n",
      "\n",
      "[[ 0.39395294  0.9408955  -0.22806858]\n",
      " [-0.88790464  0.9322689  -0.51330787]\n",
      " [-0.65267533 -0.04551553 -0.82326365]\n",
      " [ 0.22556512  0.95278907  0.6737265 ]\n",
      " [-0.48861787  0.92911845 -0.4703243 ]]\n"
     ]
    }
   ],
   "source": [
    "np.random.seed(101) #\n",
    "with tf.Session() as sess:\n",
    "    sess.run(init)\n",
    "    output_sigmoid = sess.run(p_sigmoid, {x: np.random.random((2, n_features))})\n",
    "    output_tanh = sess.run(p_tanh, {x: np.random.random((5, n_features))})\n",
    "    print (output_sigmoid)\n",
    "    print ('\\n\\n')\n",
    "    print (output_tanh)"
   ]
  },
  {
   "cell_type": "markdown",
   "metadata": {},
   "source": [
    "## Full Network Example"
   ]
  },
  {
   "cell_type": "code",
   "execution_count": 2,
   "metadata": {},
   "outputs": [
    {
     "data": {
      "text/plain": [
       "array([ 0.46560591,  0.89928139,  1.20172125,  0.66406981,  1.32251585,\n",
       "        2.97994368,  2.52535382,  4.28598166,  3.85863072,  4.46700857,\n",
       "        5.70636053,  5.30929365,  6.48383738,  6.93624234,  7.84712172,\n",
       "        7.21282038,  8.4370101 ,  8.48786997,  8.76801635, 10.40716997])"
      ]
     },
     "execution_count": 2,
     "metadata": {},
     "output_type": "execute_result"
    }
   ],
   "source": [
    "#make up some data\n",
    "x_data = np.linspace(0, 10, 20) + np.random.uniform(-1, 1, 20)\n",
    "x_data"
   ]
  },
  {
   "cell_type": "code",
   "execution_count": 3,
   "metadata": {},
   "outputs": [
    {
     "data": {
      "text/plain": [
       "array([-1.01615558, -0.79440785,  1.52781845,  1.28287612,  1.3162044 ,\n",
       "        2.34585883,  3.23108316,  4.49166694,  5.35350688,  4.32024987,\n",
       "        4.56902558,  5.63318719,  7.00919797,  7.61797197,  8.04965333,\n",
       "        6.85755419,  9.23237373,  9.09117371, 10.81313534,  9.73340822])"
      ]
     },
     "execution_count": 3,
     "metadata": {},
     "output_type": "execute_result"
    }
   ],
   "source": [
    "y_label = np.linspace(0, 10, 20) + np.random.uniform(-1.5, 1.5, 20)\n",
    "y_label "
   ]
  },
  {
   "cell_type": "code",
   "execution_count": 4,
   "metadata": {},
   "outputs": [],
   "source": [
    "import matplotlib.pyplot as plt"
   ]
  },
  {
   "cell_type": "code",
   "execution_count": 6,
   "metadata": {},
   "outputs": [
    {
     "data": {
      "text/plain": [
       "<matplotlib.collections.PathCollection at 0xb44c62518>"
      ]
     },
     "execution_count": 6,
     "metadata": {},
     "output_type": "execute_result"
    },
    {
     "data": {
      "image/png": "[encoded data removed]",
      "text/plain": [
       "<Figure size 432x288 with 1 Axes>"
      ]
     },
     "metadata": {
      "needs_background": "light"
     },
     "output_type": "display_data"
    }
   ],
   "source": [
    "plt.scatter(x_data, y_label)"
   ]
  },
  {
   "cell_type": "code",
   "execution_count": 14,
   "metadata": {},
   "outputs": [
    {
     "name": "stdout",
     "output_type": "stream",
     "text": [
      "[0.5507979  0.70814782]\n"
     ]
    }
   ],
   "source": [
    "np.random.seed(3)\n",
    "rnd = np.random.rand(2)\n",
    "print (rnd)\n",
    "m, b = tf.Variable(initial_value=rnd[0]), tf.Variable(initial_value=rnd[1])"
   ]
  },
  {
   "cell_type": "markdown",
   "metadata": {},
   "source": [
    "### Cost Function"
   ]
  },
  {
   "cell_type": "code",
   "execution_count": 15,
   "metadata": {},
   "outputs": [],
   "source": [
    "error = 0\n",
    "for x, y in zip(x_data, y_label):\n",
    "    y_hat = m*x+b\n",
    "    error += (y-y_hat)**2"
   ]
  },
  {
   "cell_type": "markdown",
   "metadata": {},
   "source": [
    "### Optimizer"
   ]
  },
  {
   "cell_type": "code",
   "execution_count": 27,
   "metadata": {},
   "outputs": [],
   "source": [
    "optimizer = tf.train.GradientDescentOptimizer(learning_rate=0.0001)\n",
    "train = optimizer.minimize(error)"
   ]
  },
  {
   "cell_type": "code",
   "execution_count": 28,
   "metadata": {},
   "outputs": [],
   "source": [
    "init = tf.global_variables_initializer()"
   ]
  },
  {
   "cell_type": "code",
   "execution_count": 37,
   "metadata": {},
   "outputs": [],
   "source": [
    "with tf.Session() as sess:\n",
    "    sess.run(init)\n",
    "    epochs = 1000\n",
    "    for i in range(epochs):\n",
    "        sess.run(train)\n",
    "    slop, intercept = sess.run([m, b])"
   ]
  },
  {
   "cell_type": "code",
   "execution_count": 38,
   "metadata": {},
   "outputs": [
    {
     "data": {
      "text/plain": [
       "(1.0404118876825703, 0.024304298835665723)"
      ]
     },
     "execution_count": 38,
     "metadata": {},
     "output_type": "execute_result"
    }
   ],
   "source": [
    "slop, intercept"
   ]
  },
  {
   "cell_type": "code",
   "execution_count": 39,
   "metadata": {},
   "outputs": [
    {
     "data": {
      "text/plain": [
       "[<matplotlib.lines.Line2D at 0xb48573358>]"
      ]
     },
     "execution_count": 39,
     "metadata": {},
     "output_type": "execute_result"
    },
    {
     "data": {
      "image/png": "[encoded data removed]",
      "text/plain": [
       "<Figure size 432x288 with 1 Axes>"
      ]
     },
     "metadata": {
      "needs_background": "light"
     },
     "output_type": "display_data"
    }
   ],
   "source": [
    "plt.scatter(x_data, y_label)\n",
    "points = np.linspace(0, 10, 10)\n",
    "y_pred = slop*points+intercept\n",
    "plt.plot(points, y_pred, 'r')"
   ]
  }
 ],
 "metadata": {
  "kernelspec": {
   "display_name": "Python 3",
   "language": "python",
   "name": "python3"
  },
  "language_info": {
   "codemirror_mode": {
    "name": "ipython",
    "version": 3
   },
   "file_extension": ".py",
   "mimetype": "text/x-python",
   "name": "python",
   "nbconvert_exporter": "python",
   "pygments_lexer": "ipython3",
   "version": "3.7.3"
  }
 },
 "nbformat": 4,
 "nbformat_minor": 2
}
