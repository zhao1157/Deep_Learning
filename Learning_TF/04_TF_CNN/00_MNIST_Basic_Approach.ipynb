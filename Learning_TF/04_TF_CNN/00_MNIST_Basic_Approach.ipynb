{
 "cells": [
  {
   "cell_type": "markdown",
   "metadata": {
    "colab_type": "text",
    "id": "h-gfqA-OXAMi"
   },
   "source": [
    "## MNIST Data Set - Basic Approach"
   ]
  },
  {
   "cell_type": "markdown",
   "metadata": {
    "colab_type": "text",
    "id": "0nh4_9HzXAMj"
   },
   "source": [
    "### Get the MNIST Data"
   ]
  },
  {
   "cell_type": "code",
   "execution_count": 0,
   "metadata": {
    "colab": {},
    "colab_type": "code",
    "id": "GHbyM4C-XAMk"
   },
   "outputs": [],
   "source": [
    "import tensorflow as tf\n",
    "import numpy as np\n",
    "#from tensorflow.examples.tutorials.mnist import input_data\n",
    "#mnist = input_data.read_data_sets('MNIST_data/', one_hot=True)\n",
    "#the above is depricated."
   ]
  },
  {
   "cell_type": "code",
   "execution_count": 2,
   "metadata": {
    "colab": {
     "base_uri": "https://localhost:8080/",
     "height": 70
    },
    "colab_type": "code",
    "id": "Pt2kbHieXAMt",
    "outputId": "07d861d2-ad93-4102-f56f-0187b5c29b4e"
   },
   "outputs": [
    {
     "name": "stdout",
     "output_type": "stream",
     "text": [
      "Downloading data from https://storage.googleapis.com/tensorflow/tf-keras-datasets/mnist.npz\n",
      "11493376/11490434 [==============================] - 0s 0us/step\n"
     ]
    }
   ],
   "source": [
    "mnist = tf.keras.datasets.mnist\n",
    "(X_train, y_train), (X_test, y_test) = mnist.load_data()"
   ]
  },
  {
   "cell_type": "code",
   "execution_count": 86,
   "metadata": {
    "colab": {
     "base_uri": "https://localhost:8080/",
     "height": 34
    },
    "colab_type": "code",
    "id": "bKgzdBBJXAMw",
    "outputId": "18ad4db8-fa1f-4c95-c533-4ed79112dd83"
   },
   "outputs": [
    {
     "data": {
      "text/plain": [
       "((60000, 28, 28), (10000,))"
      ]
     },
     "execution_count": 86,
     "metadata": {
      "tags": []
     },
     "output_type": "execute_result"
    }
   ],
   "source": [
    "X_train.shape, y_test.shape"
   ]
  },
  {
   "cell_type": "code",
   "execution_count": 4,
   "metadata": {
    "colab": {
     "base_uri": "https://localhost:8080/",
     "height": 34
    },
    "colab_type": "code",
    "id": "FtHAK8wlXANB",
    "outputId": "3279a0a0-2ea1-4c48-cf49-b2b11edfc34f"
   },
   "outputs": [
    {
     "data": {
      "text/plain": [
       "numpy.ndarray"
      ]
     },
     "execution_count": 4,
     "metadata": {
      "tags": []
     },
     "output_type": "execute_result"
    }
   ],
   "source": [
    "type(X_train)"
   ]
  },
  {
   "cell_type": "code",
   "execution_count": 5,
   "metadata": {
    "colab": {
     "base_uri": "https://localhost:8080/",
     "height": 34
    },
    "colab_type": "code",
    "id": "Caw0T7Z1XANG",
    "outputId": "a8cd622b-c2c7-4ab0-ce5a-3be30ab48743"
   },
   "outputs": [
    {
     "data": {
      "text/plain": [
       "(28, 28)"
      ]
     },
     "execution_count": 5,
     "metadata": {
      "tags": []
     },
     "output_type": "execute_result"
    }
   ],
   "source": [
    "X_train[0].shape"
   ]
  },
  {
   "cell_type": "markdown",
   "metadata": {
    "colab_type": "text",
    "id": "hnyyKi7dXANK"
   },
   "source": [
    "### Visualizing the Data"
   ]
  },
  {
   "cell_type": "code",
   "execution_count": 0,
   "metadata": {
    "colab": {},
    "colab_type": "code",
    "id": "rAsYiyNbXANK"
   },
   "outputs": [],
   "source": [
    "import matplotlib.pyplot as plt\n",
    "%matplotlib inline"
   ]
  },
  {
   "cell_type": "code",
   "execution_count": 7,
   "metadata": {
    "colab": {
     "base_uri": "https://localhost:8080/",
     "height": 255
    },
    "colab_type": "code",
    "id": "QJbnPerUXANO",
    "outputId": "2530f17a-396a-4741-b1cd-8b18d6636000"
   },
   "outputs": [
    {
     "data": {
      "image/png": "[encoded data removed]",
      "text/plain": [
       "<Figure size 432x288 with 6 Axes>"
      ]
     },
     "metadata": {
      "tags": []
     },
     "output_type": "display_data"
    }
   ],
   "source": [
    "fig, axes = plt.subplots(2, 3)\n",
    "for i in range(2):\n",
    "    for j in range(3):\n",
    "        axes[i][j].imshow(X_train[3*i+j], cmap = 'gist_gray') #remove the color, only black and white\n",
    "        #remove the ticks and labels\n",
    "        axes[i][j].tick_params(axis='x',          # changes apply to the x-axis\n",
    "                which='both',      # both major and minor ticks are affected\n",
    "                bottom=False,      # ticks along the bottom edge are off\n",
    "                top=False,         # ticks along the top edge are off\n",
    "                labelbottom=False) # labels along the bottom edge are off)\n",
    "        axes[i][j].tick_params(axis='y',          # changes apply to the x-axis\n",
    "                which='both',      # both major and minor ticks are affected\n",
    "                left=False,      # ticks along the bottom edge are off\n",
    "                right=False,         # ticks along the top edge are off\n",
    "                labelleft=False) # labels along the bottom edge are off)"
   ]
  },
  {
   "cell_type": "code",
   "execution_count": 8,
   "metadata": {
    "colab": {
     "base_uri": "https://localhost:8080/",
     "height": 34
    },
    "colab_type": "code",
    "id": "bvHkIdoJXANS",
    "outputId": "6ea4c32c-c649-49c0-abb5-b85164d5d540"
   },
   "outputs": [
    {
     "data": {
      "text/plain": [
       "(0, 255)"
      ]
     },
     "execution_count": 8,
     "metadata": {
      "tags": []
     },
     "output_type": "execute_result"
    }
   ],
   "source": [
    "#we need to normalize the data\n",
    "X_train[0].min(), X_train[1].max()"
   ]
  },
  {
   "cell_type": "code",
   "execution_count": 9,
   "metadata": {
    "colab": {
     "base_uri": "https://localhost:8080/",
     "height": 34
    },
    "colab_type": "code",
    "id": "L8Qypt9jXANV",
    "outputId": "00614d95-da6d-4e7f-bcdc-0133d74d635e"
   },
   "outputs": [
    {
     "data": {
      "text/plain": [
       "(0, 9)"
      ]
     },
     "execution_count": 9,
     "metadata": {
      "tags": []
     },
     "output_type": "execute_result"
    }
   ],
   "source": [
    "y_train.min(), y_train.max()"
   ]
  },
  {
   "cell_type": "code",
   "execution_count": 0,
   "metadata": {
    "colab": {},
    "colab_type": "code",
    "id": "DKWKy07rXANZ"
   },
   "outputs": [],
   "source": [
    "X_train = X_train/255\n",
    "X_test = X_test/255"
   ]
  },
  {
   "cell_type": "code",
   "execution_count": 11,
   "metadata": {
    "colab": {
     "base_uri": "https://localhost:8080/",
     "height": 34
    },
    "colab_type": "code",
    "id": "OZC6sgoxXANc",
    "outputId": "22e70716-f679-4382-f0d9-93a83bdcf7d8"
   },
   "outputs": [
    {
     "data": {
      "text/plain": [
       "(1.0, 1.0)"
      ]
     },
     "execution_count": 11,
     "metadata": {
      "tags": []
     },
     "output_type": "execute_result"
    }
   ],
   "source": [
    "X_train[0].max(), X_test[0].max()"
   ]
  },
  {
   "cell_type": "code",
   "execution_count": 12,
   "metadata": {
    "colab": {
     "base_uri": "https://localhost:8080/",
     "height": 286
    },
    "colab_type": "code",
    "id": "5DSEpr8LXANh",
    "outputId": "f34e167d-0a52-4f13-9086-6fa183b7c566",
    "scrolled": true
   },
   "outputs": [
    {
     "data": {
      "text/plain": [
       "<matplotlib.image.AxesImage at 0x7f26a1537f98>"
      ]
     },
     "execution_count": 12,
     "metadata": {
      "tags": []
     },
     "output_type": "execute_result"
    },
    {
     "data": {
      "image/png": "[encoded data removed]",
      "text/plain": [
       "<Figure size 432x288 with 1 Axes>"
      ]
     },
     "metadata": {
      "tags": []
     },
     "output_type": "display_data"
    }
   ],
   "source": [
    "#visualize it after being flattened.\n",
    "plt.imshow(X_train[0].reshape(-1, 1, order = 'F'), cmap = 'gist_gray', aspect='auto') #'F': column by column, 'C': row by row"
   ]
  },
  {
   "cell_type": "code",
   "execution_count": 13,
   "metadata": {
    "colab": {
     "base_uri": "https://localhost:8080/",
     "height": 34
    },
    "colab_type": "code",
    "id": "kxLU-xsxXANm",
    "outputId": "bfd683b5-f10d-41dd-fec3-8f6177c44a74",
    "scrolled": true
   },
   "outputs": [
    {
     "data": {
      "text/plain": [
       "(7, numpy.uint8)"
      ]
     },
     "execution_count": 13,
     "metadata": {
      "tags": []
     },
     "output_type": "execute_result"
    }
   ],
   "source": [
    "y_test[0], type(y_test[0])"
   ]
  },
  {
   "cell_type": "markdown",
   "metadata": {
    "colab_type": "text",
    "id": "DMG_Q8BSXANp"
   },
   "source": [
    "### Create the Model"
   ]
  },
  {
   "cell_type": "code",
   "execution_count": 0,
   "metadata": {
    "colab": {},
    "colab_type": "code",
    "id": "plSM8_PyXANq"
   },
   "outputs": [],
   "source": [
    "x = tf.placeholder(tf.float32, shape=[None, 28*28])"
   ]
  },
  {
   "cell_type": "code",
   "execution_count": 0,
   "metadata": {
    "colab": {},
    "colab_type": "code",
    "id": "RYdZ6babXANt"
   },
   "outputs": [],
   "source": [
    "rnd = np.float32(np.random.random((28*28, 10)))\n",
    "W = tf.Variable(initial_value=rnd)"
   ]
  },
  {
   "cell_type": "code",
   "execution_count": 0,
   "metadata": {
    "colab": {},
    "colab_type": "code",
    "id": "UkWla0NvXANy"
   },
   "outputs": [],
   "source": [
    "rnd = np.float32(np.random.random((10)))\n",
    "b = tf.Variable(initial_value=rnd)"
   ]
  },
  {
   "cell_type": "code",
   "execution_count": 0,
   "metadata": {
    "colab": {},
    "colab_type": "code",
    "id": "C5x9QzeHXAN1"
   },
   "outputs": [],
   "source": [
    "y = tf.add(tf.matmul(x, W), b)"
   ]
  },
  {
   "cell_type": "code",
   "execution_count": 0,
   "metadata": {
    "colab": {},
    "colab_type": "code",
    "id": "7r7_E7GWXAN-"
   },
   "outputs": [],
   "source": [
    "y_true = tf.placeholder(tf.int64, [None])"
   ]
  },
  {
   "cell_type": "code",
   "execution_count": 0,
   "metadata": {
    "colab": {},
    "colab_type": "code",
    "id": "I_BmdjU4XAOB"
   },
   "outputs": [],
   "source": [
    "#use sparse_softmax_cross_entropy_with_logits because the label is not one-hot-encoder coded\n",
    "cross_entropy = tf.reduce_mean(tf.nn.sparse_softmax_cross_entropy_with_logits(labels = y_true, logits=y))\n"
   ]
  },
  {
   "cell_type": "code",
   "execution_count": 0,
   "metadata": {
    "colab": {},
    "colab_type": "code",
    "id": "TltDoScVXAOE"
   },
   "outputs": [],
   "source": [
    "optimizer = tf.train.GradientDescentOptimizer(learning_rate=0.5)"
   ]
  },
  {
   "cell_type": "code",
   "execution_count": 0,
   "metadata": {
    "colab": {},
    "colab_type": "code",
    "id": "wh07qAFoXAOH"
   },
   "outputs": [],
   "source": [
    "train = optimizer.minimize(cross_entropy)"
   ]
  },
  {
   "cell_type": "markdown",
   "metadata": {
    "colab_type": "text",
    "id": "Nx2BNYhVXAOJ"
   },
   "source": [
    "### Create batch function"
   ]
  },
  {
   "cell_type": "code",
   "execution_count": 0,
   "metadata": {
    "colab": {},
    "colab_type": "code",
    "id": "7k2b96bgXAOJ"
   },
   "outputs": [],
   "source": [
    "def next_batch(data_x, data_y, step_index, batches):\n",
    "    start_index = step_index % data_x.shape[0]\n",
    "    end_index = start_index + batches - 1\n",
    "    if end_index <= data_x.shape[0]:\n",
    "        return data_x[start_index: end_index+1].reshape((batches, -1)), data_y[start_index: end_index+1]\n",
    "    else:\n",
    "        end_index_2 = end_index-data_x.shape[0]\n",
    "        return np.append(data_x[start_index:], data_x[:end_index_2]).reshape((batches, -1)), np.append(data_y[start_index:], data_y[:end_index_2])\n",
    "    "
   ]
  },
  {
   "cell_type": "code",
   "execution_count": 0,
   "metadata": {
    "colab": {},
    "colab_type": "code",
    "id": "Ni7ohAKcXAOL"
   },
   "outputs": [],
   "source": [
    "init = tf.global_variables_initializer()"
   ]
  },
  {
   "cell_type": "code",
   "execution_count": 88,
   "metadata": {
    "colab": {
     "base_uri": "https://localhost:8080/",
     "height": 50
    },
    "colab_type": "code",
    "id": "lxTiBDABXAON",
    "outputId": "68ce3e69-495f-4f0a-d2bd-7a2d767421a3"
   },
   "outputs": [
    {
     "name": "stdout",
     "output_type": "stream",
     "text": [
      "Training set accuracy: 0.8509\n",
      "Test set accuracy: 0.8555\n"
     ]
    }
   ],
   "source": [
    "with tf.Session() as sess:\n",
    "    sess.run(init)\n",
    "    \n",
    "    for step in range(2000):\n",
    "        batch_x, batch_y = next_batch(X_train, y_train, step, 100)\n",
    "        sess.run(train, {x: batch_x, y_true: batch_y})\n",
    "    \n",
    "    #training set\n",
    "    matches = tf.equal(tf.argmax(y, axis = 1), y_true)  \n",
    "    acc = tf.reduce_mean(tf.cast(matches, tf.float32))  \n",
    "    print (\"Training set accuracy:\", sess.run(acc, {x: next_batch(X_train, y_train, 0, 60000)[0], y_true: next_batch(X_train, y_train, 0, 60000)[1]}))\n",
    "    #test set\n",
    "    matches = tf.equal(tf.argmax(y, axis = 1), y_true)  \n",
    "    acc = tf.reduce_mean(tf.cast(matches, tf.float32))  \n",
    "    print (\"Test set accuracy:\", sess.run(acc, {x: next_batch(X_test, y_test, 0, 10000)[0], y_true: next_batch(X_test, y_test, 0, 10000)[1]}))\n"
   ]
  }
 ],
 "metadata": {
  "accelerator": "TPU",
  "colab": {
   "name": "00_MNIST_Basic_Approach.ipynb",
   "provenance": [],
   "version": "0.3.2"
  },
  "kernelspec": {
   "display_name": "Python 3",
   "language": "python",
   "name": "python3"
  },
  "language_info": {
   "codemirror_mode": {
    "name": "ipython",
    "version": 3
   },
   "file_extension": ".py",
   "mimetype": "text/x-python",
   "name": "python",
   "nbconvert_exporter": "python",
   "pygments_lexer": "ipython3",
   "version": "3.7.3"
  }
 },
 "nbformat": 4,
 "nbformat_minor": 1
}
