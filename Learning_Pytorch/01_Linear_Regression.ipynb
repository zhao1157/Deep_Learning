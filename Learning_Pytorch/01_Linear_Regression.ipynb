{
 "cells": [
  {
   "cell_type": "markdown",
   "metadata": {},
   "source": [
    "## Linear Regression"
   ]
  },
  {
   "cell_type": "code",
   "execution_count": 1,
   "metadata": {},
   "outputs": [],
   "source": [
    "import torch"
   ]
  },
  {
   "cell_type": "code",
   "execution_count": 2,
   "metadata": {},
   "outputs": [
    {
     "data": {
      "text/plain": [
       "'1.0.1.post2'"
      ]
     },
     "execution_count": 2,
     "metadata": {},
     "output_type": "execute_result"
    }
   ],
   "source": [
    "torch.__version__"
   ]
  },
  {
   "cell_type": "code",
   "execution_count": 3,
   "metadata": {},
   "outputs": [],
   "source": [
    "import torch.nn as nn\n",
    "import matplotlib.pyplot as plt\n",
    "import numpy as np"
   ]
  },
  {
   "cell_type": "markdown",
   "metadata": {},
   "source": [
    "### Create Data"
   ]
  },
  {
   "cell_type": "code",
   "execution_count": 68,
   "metadata": {},
   "outputs": [
    {
     "data": {
      "text/plain": [
       "Text(0, 0.5, 'y')"
      ]
     },
     "execution_count": 68,
     "metadata": {},
     "output_type": "execute_result"
    },
    {
     "data": {
      "image/png": "[encoded data removed]",
      "text/plain": [
       "<Figure size 432x288 with 1 Axes>"
      ]
     },
     "metadata": {
      "needs_background": "light"
     },
     "output_type": "display_data"
    }
   ],
   "source": [
    "torch.manual_seed(1) #set the random seed to allow reproducibility\n",
    "x = torch.randn(100, 1)*10 #shape, normal distribution\n",
    "y = 2*x + 3*torch.randn(100, 1)\n",
    "plt.plot(x.numpy(), y.numpy(), '*')\n",
    "plt.xlabel('x')\n",
    "plt.ylabel('y')"
   ]
  },
  {
   "cell_type": "markdown",
   "metadata": {},
   "source": [
    "### Linear Model"
   ]
  },
  {
   "cell_type": "code",
   "execution_count": 72,
   "metadata": {},
   "outputs": [],
   "source": [
    "class LR(nn.Module):\n",
    "    def __init__(self, input_size, output_size):\n",
    "        super().__init__()\n",
    "        self.linear = nn.Linear(input_size, output_size) #number of input features, number of output features\n",
    "    def forward(self, x):\n",
    "        return self.linear(x)"
   ]
  },
  {
   "cell_type": "code",
   "execution_count": 89,
   "metadata": {},
   "outputs": [],
   "source": [
    "torch.manual_seed(1) #random initialization of weights and biases\n",
    "model = LR(1, 1)"
   ]
  },
  {
   "cell_type": "code",
   "execution_count": 74,
   "metadata": {},
   "outputs": [
    {
     "data": {
      "text/plain": [
       "LR(\n",
       "  (linear): Linear(in_features=1, out_features=1, bias=True)\n",
       ")"
      ]
     },
     "execution_count": 74,
     "metadata": {},
     "output_type": "execute_result"
    }
   ],
   "source": [
    "model"
   ]
  },
  {
   "cell_type": "code",
   "execution_count": 81,
   "metadata": {},
   "outputs": [
    {
     "data": {
      "text/plain": [
       "(<generator object Module.parameters at 0x11f9a35e8>, generator)"
      ]
     },
     "execution_count": 81,
     "metadata": {},
     "output_type": "execute_result"
    }
   ],
   "source": [
    "model.parameters(), type(model.parameters())"
   ]
  },
  {
   "cell_type": "code",
   "execution_count": 90,
   "metadata": {},
   "outputs": [
    {
     "name": "stdout",
     "output_type": "stream",
     "text": [
      "Parameter containing:\n",
      "tensor([[0.5153]], requires_grad=True)\n",
      "Parameter containing:\n",
      "tensor([-0.4414], requires_grad=True)\n"
     ]
    }
   ],
   "source": [
    "for i in model.parameters(): #this is a generator\n",
    "    print (i)"
   ]
  },
  {
   "cell_type": "code",
   "execution_count": 104,
   "metadata": {},
   "outputs": [],
   "source": [
    "w, b = model.parameters()"
   ]
  },
  {
   "cell_type": "code",
   "execution_count": 105,
   "metadata": {},
   "outputs": [
    {
     "data": {
      "text/plain": [
       "(Parameter containing:\n",
       " tensor([[0.5153]], requires_grad=True), Parameter containing:\n",
       " tensor([-0.4414], requires_grad=True))"
      ]
     },
     "execution_count": 105,
     "metadata": {},
     "output_type": "execute_result"
    }
   ],
   "source": [
    "w, b"
   ]
  },
  {
   "cell_type": "code",
   "execution_count": 106,
   "metadata": {},
   "outputs": [
    {
     "data": {
      "text/plain": [
       "tensor([0.5153], grad_fn=<SelectBackward>)"
      ]
     },
     "execution_count": 106,
     "metadata": {},
     "output_type": "execute_result"
    }
   ],
   "source": [
    "w[0]"
   ]
  },
  {
   "cell_type": "code",
   "execution_count": 107,
   "metadata": {},
   "outputs": [
    {
     "data": {
      "text/plain": [
       "tensor(0.5153, grad_fn=<SelectBackward>)"
      ]
     },
     "execution_count": 107,
     "metadata": {},
     "output_type": "execute_result"
    }
   ],
   "source": [
    "w[0][0]"
   ]
  },
  {
   "cell_type": "code",
   "execution_count": 108,
   "metadata": {},
   "outputs": [
    {
     "data": {
      "text/plain": [
       "0.5152631998062134"
      ]
     },
     "execution_count": 108,
     "metadata": {},
     "output_type": "execute_result"
    }
   ],
   "source": [
    "w[0][0].item()"
   ]
  },
  {
   "cell_type": "code",
   "execution_count": 109,
   "metadata": {},
   "outputs": [
    {
     "data": {
      "text/plain": [
       "tensor(-0.4414, grad_fn=<SelectBackward>)"
      ]
     },
     "execution_count": 109,
     "metadata": {},
     "output_type": "execute_result"
    }
   ],
   "source": [
    "b[0]"
   ]
  },
  {
   "cell_type": "code",
   "execution_count": 110,
   "metadata": {},
   "outputs": [
    {
     "data": {
      "text/plain": [
       "-0.44137823581695557"
      ]
     },
     "execution_count": 110,
     "metadata": {},
     "output_type": "execute_result"
    }
   ],
   "source": [
    "b[0].item()"
   ]
  },
  {
   "cell_type": "code",
   "execution_count": 111,
   "metadata": {},
   "outputs": [],
   "source": [
    "def get_params(): #to extract the values in the tensor object\n",
    "    w, b = model.parameters()\n",
    "    return w[0][0].item(), b[0].item()"
   ]
  },
  {
   "cell_type": "code",
   "execution_count": 114,
   "metadata": {},
   "outputs": [],
   "source": [
    "def plot_fit(title):\n",
    "    plt.title(title)\n",
    "    w, b = get_params()\n",
    "    x1 = np.array([-30, 30])\n",
    "    y1 = w*x1+b\n",
    "    plt.plot(x1, y1, 'r')\n",
    "    plt.scatter(x, y)"
   ]
  },
  {
   "cell_type": "code",
   "execution_count": 115,
   "metadata": {
    "scrolled": false
   },
   "outputs": [
    {
     "data": {
      "image/png": "[encoded data removed]",
      "text/plain": [
       "<Figure size 432x288 with 1 Axes>"
      ]
     },
     "metadata": {
      "needs_background": "light"
     },
     "output_type": "display_data"
    }
   ],
   "source": [
    "plot_fit('Initial')"
   ]
  },
  {
   "cell_type": "code",
   "execution_count": 116,
   "metadata": {},
   "outputs": [],
   "source": [
    "criterion = nn.MSELoss()\n",
    "optimizer = torch.optim.SGD(model.parameters(), lr=0.01)"
   ]
  },
  {
   "cell_type": "code",
   "execution_count": 117,
   "metadata": {
    "scrolled": false
   },
   "outputs": [
    {
     "name": "stdout",
     "output_type": "stream",
     "text": [
      "epoch 0 loss: 240.73043823242188\n",
      "epoch 1 loss: 230.84291076660156\n",
      "epoch 2 loss: 221.37904357910156\n",
      "epoch 3 loss: 212.32064819335938\n",
      "epoch 4 loss: 203.65052795410156\n",
      "epoch 5 loss: 195.35203552246094\n",
      "epoch 6 loss: 187.40882873535156\n",
      "epoch 7 loss: 179.80618286132812\n",
      "epoch 8 loss: 172.5291748046875\n",
      "epoch 9 loss: 165.5641632080078\n",
      "epoch 10 loss: 158.89743041992188\n",
      "epoch 11 loss: 152.5164337158203\n",
      "epoch 12 loss: 146.40899658203125\n",
      "epoch 13 loss: 140.56300354003906\n",
      "epoch 14 loss: 134.9677276611328\n",
      "epoch 15 loss: 129.61215209960938\n",
      "epoch 16 loss: 124.4859390258789\n",
      "epoch 17 loss: 119.5794906616211\n",
      "epoch 18 loss: 114.88341522216797\n",
      "epoch 19 loss: 110.38848114013672\n",
      "epoch 20 loss: 106.08613586425781\n",
      "epoch 21 loss: 101.96820068359375\n",
      "epoch 22 loss: 98.02670288085938\n",
      "epoch 23 loss: 94.25402069091797\n",
      "epoch 24 loss: 90.64311981201172\n",
      "epoch 25 loss: 87.18682098388672\n",
      "epoch 26 loss: 83.8786392211914\n",
      "epoch 27 loss: 80.71219635009766\n",
      "epoch 28 loss: 77.68143463134766\n",
      "epoch 29 loss: 74.7805404663086\n",
      "epoch 30 loss: 72.00393676757812\n",
      "epoch 31 loss: 69.34632873535156\n",
      "epoch 32 loss: 66.80261993408203\n",
      "epoch 33 loss: 64.36787414550781\n",
      "epoch 34 loss: 62.03750228881836\n",
      "epoch 35 loss: 59.807003021240234\n",
      "epoch 36 loss: 57.672019958496094\n",
      "epoch 37 loss: 55.628562927246094\n",
      "epoch 38 loss: 53.67265701293945\n",
      "epoch 39 loss: 51.8005485534668\n",
      "epoch 40 loss: 50.0086555480957\n",
      "epoch 41 loss: 48.293556213378906\n",
      "epoch 42 loss: 46.651954650878906\n",
      "epoch 43 loss: 45.08071517944336\n",
      "epoch 44 loss: 43.57677459716797\n",
      "epoch 45 loss: 42.13730239868164\n",
      "epoch 46 loss: 40.75947952270508\n",
      "epoch 47 loss: 39.44068145751953\n",
      "epoch 48 loss: 38.17839050292969\n",
      "epoch 49 loss: 36.97022247314453\n",
      "epoch 50 loss: 35.813785552978516\n",
      "epoch 51 loss: 34.70691680908203\n",
      "epoch 52 loss: 33.647457122802734\n",
      "epoch 53 loss: 32.6334114074707\n",
      "epoch 54 loss: 31.662790298461914\n",
      "epoch 55 loss: 30.73377227783203\n",
      "epoch 56 loss: 29.844558715820312\n",
      "epoch 57 loss: 28.993453979492188\n",
      "epoch 58 loss: 28.178815841674805\n",
      "epoch 59 loss: 27.399112701416016\n",
      "epoch 60 loss: 26.652812957763672\n",
      "epoch 61 loss: 25.938453674316406\n",
      "epoch 62 loss: 25.254714965820312\n",
      "epoch 63 loss: 24.600269317626953\n",
      "epoch 64 loss: 23.973886489868164\n",
      "epoch 65 loss: 23.37434196472168\n",
      "epoch 66 loss: 22.800474166870117\n",
      "epoch 67 loss: 22.25119972229004\n",
      "epoch 68 loss: 21.72547149658203\n",
      "epoch 69 loss: 21.222267150878906\n",
      "epoch 70 loss: 20.74061393737793\n",
      "epoch 71 loss: 20.279600143432617\n",
      "epoch 72 loss: 19.838342666625977\n",
      "epoch 73 loss: 19.41599464416504\n",
      "epoch 74 loss: 19.011737823486328\n",
      "epoch 75 loss: 18.62480926513672\n",
      "epoch 76 loss: 18.254451751708984\n",
      "epoch 77 loss: 17.89997673034668\n",
      "epoch 78 loss: 17.560688018798828\n",
      "epoch 79 loss: 17.23593521118164\n",
      "epoch 80 loss: 16.925098419189453\n",
      "epoch 81 loss: 16.62757682800293\n",
      "epoch 82 loss: 16.342809677124023\n",
      "epoch 83 loss: 16.07024574279785\n",
      "epoch 84 loss: 15.809357643127441\n",
      "epoch 85 loss: 15.55964183807373\n",
      "epoch 86 loss: 15.32062816619873\n",
      "epoch 87 loss: 15.0918550491333\n",
      "epoch 88 loss: 14.872889518737793\n",
      "epoch 89 loss: 14.663304328918457\n",
      "epoch 90 loss: 14.462695121765137\n",
      "epoch 91 loss: 14.270678520202637\n",
      "epoch 92 loss: 14.086892127990723\n",
      "epoch 93 loss: 13.910972595214844\n",
      "epoch 94 loss: 13.742594718933105\n",
      "epoch 95 loss: 13.581433296203613\n",
      "epoch 96 loss: 13.427177429199219\n",
      "epoch 97 loss: 13.279532432556152\n",
      "epoch 98 loss: 13.138214111328125\n",
      "epoch 99 loss: 13.002951622009277\n"
     ]
    }
   ],
   "source": [
    "epochs = 100\n",
    "losses = []\n",
    "for i in range(epochs):\n",
    "    y_pred = model.forward(x)\n",
    "    loss = criterion(y_pred, y)\n",
    "    print ('epoch', i, 'loss:', loss.item())\n",
    "    \n",
    "    losses.append(loss)\n",
    "    optimizer.zero_grad()\n",
    "    loss.backward()\n",
    "    optimizer.step()"
   ]
  },
  {
   "cell_type": "code",
   "execution_count": 118,
   "metadata": {},
   "outputs": [
    {
     "data": {
      "text/plain": [
       "Text(0, 0.5, 'Loss')"
      ]
     },
     "execution_count": 118,
     "metadata": {},
     "output_type": "execute_result"
    },
    {
     "data": {
      "image/png": "[encoded data removed]",
      "text/plain": [
       "<Figure size 432x288 with 1 Axes>"
      ]
     },
     "metadata": {
      "needs_background": "light"
     },
     "output_type": "display_data"
    }
   ],
   "source": [
    "plt.plot(range(epochs), losses)\n",
    "plt.xlabel('epoch')\n",
    "plt.ylabel('Loss')"
   ]
  },
  {
   "cell_type": "code",
   "execution_count": 119,
   "metadata": {},
   "outputs": [
    {
     "data": {
      "image/png": "[encoded data removed]",
      "text/plain": [
       "<Figure size 432x288 with 1 Axes>"
      ]
     },
     "metadata": {
      "needs_background": "light"
     },
     "output_type": "display_data"
    }
   ],
   "source": [
    "plot_fit('Final')"
   ]
  }
 ],
 "metadata": {
  "kernelspec": {
   "display_name": "Python 3",
   "language": "python",
   "name": "python3"
  },
  "language_info": {
   "codemirror_mode": {
    "name": "ipython",
    "version": 3
   },
   "file_extension": ".py",
   "mimetype": "text/x-python",
   "name": "python",
   "nbconvert_exporter": "python",
   "pygments_lexer": "ipython3",
   "version": "3.7.3"
  }
 },
 "nbformat": 4,
 "nbformat_minor": 2
}
