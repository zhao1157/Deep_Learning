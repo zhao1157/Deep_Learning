{
 "cells": [
  {
   "cell_type": "markdown",
   "metadata": {},
   "source": [
    "# AutoEncoder template"
   ]
  },
  {
   "cell_type": "markdown",
   "metadata": {},
   "source": [
    "## ======= Preparing the training and test sets ======="
   ]
  },
  {
   "cell_type": "code",
   "execution_count": 5,
   "metadata": {
    "collapsed": true
   },
   "outputs": [],
   "source": [
    "import numpy as np\n",
    "import pandas as pd\n",
    "training_set = pd.read_csv('ml-100k/u1.base', delimiter = '\\t', header = None).values\n",
    "test_set = pd.read_csv('ml-100k/u1.test', delimiter = '\\t', header = None).values                          \n",
    "\n",
    "#make data in the desired format rates(user, movie) = rating\n",
    "nb_movies = int(max(max(training_set[:,1]), max(test_set[:,1])))\n",
    "def convert(data):\n",
    "    new_data = []\n",
    "    users = set(data[:, 0])\n",
    "    for id_users in users:\n",
    "        id_movies = data[:,1][data[:,0] == id_users]\n",
    "        id_ratings = data[:,2][data[:,0] == id_users]\n",
    "        ratings = np.zeros(nb_movies)\n",
    "        ratings[id_movies - 1] = id_ratings\n",
    "        new_data.append([id_users]+list(ratings)) #keep track of users\n",
    "    return new_data\n",
    "training_set = convert(training_set)\n",
    "test_set = convert(test_set)\n",
    "\n",
    "#Converting the data into Torch tensors\n",
    "import torch\n",
    "training_set = torch.FloatTensor(training_set) #(a list of lists)\n",
    "test_set = torch.FloatTensor(test_set)"
   ]
  },
  {
   "cell_type": "markdown",
   "metadata": {},
   "source": [
    "## ====== Construct Stacked AutoEncoders ========="
   ]
  },
  {
   "cell_type": "code",
   "execution_count": 6,
   "metadata": {
    "collapsed": true
   },
   "outputs": [],
   "source": [
    "import torch.nn as nn\n",
    "import torch.optim as optim\n",
    "from torch.autograd import Variable\n",
    "class SAE(nn.Module):\n",
    "    def __init__(self, ):\n",
    "        super(SAE, self).__init__()\n",
    "        self.fc1 = nn.Linear(nb_movies, 20)\n",
    "        self.fc2 = nn.Linear(20, 10)\n",
    "        self.fc3 = nn.Linear(10, 20)\n",
    "        self.fc4 = nn.Linear(20, nb_movies)\n",
    "        self.activation = nn.Sigmoid()\n",
    "    def forward(self, x):\n",
    "        x = self.activation(self.fc1(x))\n",
    "        x = self.activation(self.fc2(x))\n",
    "        x = self.activation(self.fc3(x))\n",
    "        x = self.fc4(x)\n",
    "        return x\n",
    "sae = SAE()\n",
    "criterion = nn.MSELoss()\n",
    "optimizer = optim.RMSprop(sae.parameters(), lr = 0.01, weight_decay = 0.5) #lr: learning_rate"
   ]
  },
  {
   "cell_type": "markdown",
   "metadata": {},
   "source": [
    "## ======= Training SAE ========="
   ]
  },
  {
   "cell_type": "code",
   "execution_count": 7,
   "metadata": {
    "collapsed": false
   },
   "outputs": [
    {
     "name": "stdout",
     "output_type": "stream",
     "text": [
      "epoch: 1 loss: 1.770640569109666\n",
      "epoch: 2 loss: 1.0966356141431413\n",
      "epoch: 3 loss: 1.053420498505396\n",
      "epoch: 4 loss: 1.0383474670202826\n",
      "epoch: 5 loss: 1.0306424877718154\n",
      "epoch: 6 loss: 1.0264499865164698\n",
      "epoch: 7 loss: 1.0239987508443718\n",
      "epoch: 8 loss: 1.021853759876446\n",
      "epoch: 9 loss: 1.0205251040679293\n",
      "epoch: 10 loss: 1.0194876170039755\n",
      "epoch: 11 loss: 1.0188551751699335\n",
      "epoch: 12 loss: 1.018140193854717\n",
      "epoch: 13 loss: 1.0178572825633225\n",
      "epoch: 14 loss: 1.0175348825832486\n",
      "epoch: 15 loss: 1.0170862452621856\n",
      "epoch: 16 loss: 1.0171147498318571\n",
      "epoch: 17 loss: 1.0165321298927124\n",
      "epoch: 18 loss: 1.0164918875158349\n",
      "epoch: 19 loss: 1.016348526353583\n",
      "epoch: 20 loss: 1.0160784970747967\n",
      "epoch: 21 loss: 1.0158412030953705\n",
      "epoch: 22 loss: 1.01586272466297\n",
      "epoch: 23 loss: 1.0158810453855036\n",
      "epoch: 24 loss: 1.0159101670834985\n",
      "epoch: 25 loss: 1.0158125484627185\n",
      "epoch: 26 loss: 1.0155770538632702\n",
      "epoch: 27 loss: 1.0152887547927167\n",
      "epoch: 28 loss: 1.014919304209829\n",
      "epoch: 29 loss: 1.0131459657515884\n",
      "epoch: 30 loss: 1.0119895995352954\n"
     ]
    }
   ],
   "source": [
    "nb_epoch = 30\n",
    "nb_users = training_set.shape[0]\n",
    "for epoch in range(1, nb_epoch + 1):\n",
    "    train_loss = 0\n",
    "    s = 0.\n",
    "    for id_user in range(nb_users):\n",
    "        input = Variable(training_set[id_user, 1:]).unsqueeze(0)\n",
    "        target = input.clone()\n",
    "        \n",
    "        output = sae(input)\n",
    "        target.require_grad = False\n",
    "        output[target == 0] = 0\n",
    "        loss = criterion(output, target)\n",
    "        mean_corrector = nb_movies/float(torch.sum(target.data > 0) + 1e-10)\n",
    "        train_loss += np.sqrt(loss.item()*mean_corrector)\n",
    "        s += 1.\n",
    "        loss.backward() #calculate derivatives \n",
    "        optimizer.step() #update parameters\n",
    "    print('epoch: '+str(epoch)+' loss: '+str(train_loss/s))"
   ]
  },
  {
   "cell_type": "markdown",
   "metadata": {},
   "source": [
    "## ========= Test SAE ========"
   ]
  },
  {
   "cell_type": "code",
   "execution_count": 8,
   "metadata": {
    "collapsed": false
   },
   "outputs": [
    {
     "name": "stdout",
     "output_type": "stream",
     "text": [
      "test loss: 1.0185444770088083\n",
      "\n"
     ]
    }
   ],
   "source": [
    "test_loss = 0\n",
    "s = 0.\n",
    "ind_test = -1 #not 0!!!!\n",
    "for id_users in test_set[:, 0]:\n",
    "    id_user = int(id_users.item()) #extract the user id\n",
    "    ind_test += 1  \n",
    "    input = Variable(training_set[:, 1:][training_set[:, 0] == id_users]).unsqueeze(0)\n",
    "    target = Variable(test_set[ind_test:ind_test+1, 1:]).unsqueeze(0)\n",
    "    output = sae(input)\n",
    "    target.require_grad = False\n",
    "    output[target == 0] = 0\n",
    "    loss = criterion(output, target)\n",
    "    mean_corrector = nb_movies/float(torch.sum(target.data > 0) + 1e-10)\n",
    "    test_loss += np.sqrt(loss.item()*mean_corrector)\n",
    "    s += 1.\n",
    "print('test loss: '+str(test_loss/s)+'\\n')"
   ]
  }
 ],
 "metadata": {
  "anaconda-cloud": {},
  "kernelspec": {
   "display_name": "Python [default]",
   "language": "python",
   "name": "python3"
  },
  "language_info": {
   "codemirror_mode": {
    "name": "ipython",
    "version": 3
   },
   "file_extension": ".py",
   "mimetype": "text/x-python",
   "name": "python",
   "nbconvert_exporter": "python",
   "pygments_lexer": "ipython3",
   "version": "3.5.6"
  }
 },
 "nbformat": 4,
 "nbformat_minor": 1
}
