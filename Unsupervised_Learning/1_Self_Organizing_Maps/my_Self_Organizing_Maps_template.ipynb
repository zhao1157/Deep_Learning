{
 "cells": [
  {
   "cell_type": "markdown",
   "metadata": {},
   "source": [
    "# Self Organizing Map template"
   ]
  },
  {
   "cell_type": "markdown",
   "metadata": {},
   "source": [
    "## ======= import the data ========"
   ]
  },
  {
   "cell_type": "code",
   "execution_count": 1,
   "metadata": {
    "collapsed": true
   },
   "outputs": [],
   "source": [
    "import pandas as pd\n",
    "dataset = pd.read_csv('Credit_Card_Applications.csv')\n",
    "x = dataset.iloc[:, :-1].values #should IDs be kept in the data for SOM?\n",
    "y = dataset.iloc[:, -1].values #for labeling the nodes that got assigned to some input data"
   ]
  },
  {
   "cell_type": "markdown",
   "metadata": {},
   "source": [
    "## ========== Feature Scaling =========="
   ]
  },
  {
   "cell_type": "code",
   "execution_count": 2,
   "metadata": {
    "collapsed": true
   },
   "outputs": [],
   "source": [
    "from sklearn.preprocessing import MinMaxScaler\n",
    "sc = MinMaxScaler(feature_range = (0, 1))\n",
    "x = sc.fit_transform(x)"
   ]
  },
  {
   "cell_type": "markdown",
   "metadata": {},
   "source": [
    "## ======= Fitting the SOM to datat ========="
   ]
  },
  {
   "cell_type": "code",
   "execution_count": 3,
   "metadata": {
    "collapsed": true
   },
   "outputs": [],
   "source": [
    "from minisom import MiniSom\n",
    "som = MiniSom(x=10, y=10, input_len=x.shape[1], sigma=1.0, learning_rate=0.5, random_seed=0)\n",
    "som.random_weights_init(x)\n",
    "som.train_random(data=x, num_iteration=100)"
   ]
  },
  {
   "cell_type": "markdown",
   "metadata": {},
   "source": [
    "## ========= Visualizing the results ============="
   ]
  },
  {
   "cell_type": "code",
   "execution_count": 4,
   "metadata": {
    "collapsed": false
   },
   "outputs": [
    {
     "data": {
      "image/png": "[encoded data removed]",
      "text/plain": [
       "<Figure size 432x288 with 2 Axes>"
      ]
     },
     "metadata": {},
     "output_type": "display_data"
    }
   ],
   "source": [
    "from pylab import bone, pcolor, colorbar, plot, show\n",
    "bone()\n",
    "pcolor(som.distance_map().T)\n",
    "colorbar()\n",
    "markers = ['o', 's']\n",
    "colors = ['r', 'g']\n",
    "for i, xx in enumerate(x):\n",
    "    w = som.winner(xx)\n",
    "    plot(w[0] + 0.5,\n",
    "         w[1] + 0.5,\n",
    "         markers[y[i]],\n",
    "         markeredgecolor = colors[y[i]],\n",
    "         markerfacecolor = 'None',\n",
    "         markersize = 10,\n",
    "         markeredgewidth = 2)\n",
    "show() #the circles and squares indicate different types of the input data"
   ]
  },
  {
   "cell_type": "markdown",
   "metadata": {},
   "source": [
    "## ======== Finding the frauds =========="
   ]
  },
  {
   "cell_type": "code",
   "execution_count": 5,
   "metadata": {
    "collapsed": true
   },
   "outputs": [],
   "source": [
    "import numpy as np\n",
    "mappings = som.win_map(x)\n",
    "frauds = np.concatenate((mappings[(2, 3)], mappings[(2, 4)], mappings[(2, 5)]), axis = 0)\n",
    "frauds = sc.inverse_transform(frauds)"
   ]
  },
  {
   "cell_type": "markdown",
   "metadata": {},
   "source": [
    "## ====== With the frauds,  build ANN to predict the frauds ====="
   ]
  },
  {
   "cell_type": "markdown",
   "metadata": {},
   "source": [
    "### ======= make training data ========"
   ]
  },
  {
   "cell_type": "code",
   "execution_count": 6,
   "metadata": {
    "collapsed": true
   },
   "outputs": [],
   "source": [
    "x_train = dataset.iloc[:, 1:].values\n",
    "y_train = [0]*dataset.shape[0]\n",
    "\n",
    "for i in range(dataset.shape[0]):\n",
    "    if dataset.iloc[i, 0] in frauds:\n",
    "        y_train[i] = 1\n",
    "y_train = np.array(y_train)"
   ]
  },
  {
   "cell_type": "markdown",
   "metadata": {},
   "source": [
    "### ========= Feature Scaling ========"
   ]
  },
  {
   "cell_type": "code",
   "execution_count": 7,
   "metadata": {
    "collapsed": true
   },
   "outputs": [],
   "source": [
    "from sklearn.preprocessing import StandardScaler\n",
    "sc = StandardScaler()\n",
    "x_train = sc.fit_transform(x_train)"
   ]
  },
  {
   "cell_type": "markdown",
   "metadata": {},
   "source": [
    "### ======= Construct the ANN ========"
   ]
  },
  {
   "cell_type": "code",
   "execution_count": 8,
   "metadata": {
    "collapsed": false
   },
   "outputs": [
    {
     "name": "stderr",
     "output_type": "stream",
     "text": [
      "Using TensorFlow backend.\n"
     ]
    }
   ],
   "source": [
    "import keras\n",
    "from keras.models import Sequential\n",
    "from keras.layers import Dense\n",
    "from keras.layers import Dropout\n",
    "\n",
    "def build_classifier(_optimizer):\n",
    "    #Initializing\n",
    "    classifier = Sequential()\n",
    "    \n",
    "    #add the input layer and the hidden layers and output layer =====\n",
    "    classifier.add(Dense(units=6, kernel_initializer='uniform', activation='relu', input_dim = x_train.shape[1])) #1st\n",
    "    #classifier.add(Dropout(p=0.1)) #dealwith overfitting\n",
    "    \n",
    "    classifier.add(Dense(units=6, kernel_initializer='uniform', activation='relu')) #2nd\n",
    "    #classifier.add(Dropout(p=0.1)) #dealwith overfitting\n",
    "    \n",
    "    classifier.add(Dense(units=1, kernel_initializer='uniform', activation='sigmoid')) #output\n",
    "    \n",
    "    #Compiling \n",
    "    classifier.compile(optimizer=_optimizer, loss='binary_crossentropy', metrics=['accuracy'])\n",
    "    return classifier"
   ]
  },
  {
   "cell_type": "markdown",
   "metadata": {},
   "source": [
    "### ======== Applying Grid Search to find the best model and the best parameters ========"
   ]
  },
  {
   "cell_type": "code",
   "execution_count": 9,
   "metadata": {
    "collapsed": false
   },
   "outputs": [
    {
     "name": "stdout",
     "output_type": "stream",
     "text": [
      "Epoch 1/40\n",
      "690/690 [==============================] - 0s 478us/step - loss: 0.6673 - acc: 0.9725\n",
      "Epoch 2/40\n",
      "690/690 [==============================] - 0s 214us/step - loss: 0.5241 - acc: 0.9768\n",
      "Epoch 3/40\n",
      "690/690 [==============================] - 0s 214us/step - loss: 0.2850 - acc: 0.9768\n",
      "Epoch 4/40\n",
      "690/690 [==============================] - 0s 224us/step - loss: 0.1537 - acc: 0.9768\n",
      "Epoch 5/40\n",
      "690/690 [==============================] - 0s 214us/step - loss: 0.1040 - acc: 0.9768\n",
      "Epoch 6/40\n",
      "690/690 [==============================] - 0s 212us/step - loss: 0.0851 - acc: 0.9768\n",
      "Epoch 7/40\n",
      "690/690 [==============================] - 0s 209us/step - loss: 0.0758 - acc: 0.9768\n",
      "Epoch 8/40\n",
      "690/690 [==============================] - 0s 209us/step - loss: 0.0705 - acc: 0.9768\n",
      "Epoch 9/40\n",
      "690/690 [==============================] - 0s 213us/step - loss: 0.0659 - acc: 0.9768\n",
      "Epoch 10/40\n",
      "690/690 [==============================] - 0s 206us/step - loss: 0.0626 - acc: 0.9768\n",
      "Epoch 11/40\n",
      "690/690 [==============================] - 0s 213us/step - loss: 0.0594 - acc: 0.9768\n",
      "Epoch 12/40\n",
      "690/690 [==============================] - 0s 206us/step - loss: 0.0568 - acc: 0.9768\n",
      "Epoch 13/40\n",
      "690/690 [==============================] - 0s 203us/step - loss: 0.0543 - acc: 0.9768\n",
      "Epoch 14/40\n",
      "690/690 [==============================] - 0s 212us/step - loss: 0.0520 - acc: 0.9768\n",
      "Epoch 15/40\n",
      "690/690 [==============================] - 0s 213us/step - loss: 0.0504 - acc: 0.9768\n",
      "Epoch 16/40\n",
      "690/690 [==============================] - 0s 220us/step - loss: 0.0483 - acc: 0.9768\n",
      "Epoch 17/40\n",
      "690/690 [==============================] - 0s 219us/step - loss: 0.0469 - acc: 0.9768\n",
      "Epoch 18/40\n",
      "690/690 [==============================] - 0s 219us/step - loss: 0.0451 - acc: 0.9768\n",
      "Epoch 19/40\n",
      "690/690 [==============================] - 0s 220us/step - loss: 0.0438 - acc: 0.9768\n",
      "Epoch 20/40\n",
      "690/690 [==============================] - 0s 239us/step - loss: 0.0424 - acc: 0.9768\n",
      "Epoch 21/40\n",
      "690/690 [==============================] - 0s 227us/step - loss: 0.0409 - acc: 0.9768\n",
      "Epoch 22/40\n",
      "690/690 [==============================] - 0s 213us/step - loss: 0.0397 - acc: 0.9768\n",
      "Epoch 23/40\n",
      "690/690 [==============================] - 0s 229us/step - loss: 0.0389 - acc: 0.9768\n",
      "Epoch 24/40\n",
      "690/690 [==============================] - 0s 219us/step - loss: 0.0375 - acc: 0.9768\n",
      "Epoch 25/40\n",
      "690/690 [==============================] - 0s 218us/step - loss: 0.0365 - acc: 0.9768\n",
      "Epoch 26/40\n",
      "690/690 [==============================] - 0s 208us/step - loss: 0.0352 - acc: 0.9768\n",
      "Epoch 27/40\n",
      "690/690 [==============================] - 0s 203us/step - loss: 0.0346 - acc: 0.9768\n",
      "Epoch 28/40\n",
      "690/690 [==============================] - 0s 211us/step - loss: 0.0335 - acc: 0.9768\n",
      "Epoch 29/40\n",
      "690/690 [==============================] - 0s 228us/step - loss: 0.0326 - acc: 0.9768\n",
      "Epoch 30/40\n",
      "690/690 [==============================] - 0s 220us/step - loss: 0.0315 - acc: 0.9768\n",
      "Epoch 31/40\n",
      "690/690 [==============================] - 0s 411us/step - loss: 0.0307 - acc: 0.9768\n",
      "Epoch 32/40\n",
      "690/690 [==============================] - 0s 334us/step - loss: 0.0298 - acc: 0.9768\n",
      "Epoch 33/40\n",
      "690/690 [==============================] - 0s 443us/step - loss: 0.0287 - acc: 0.9768\n",
      "Epoch 34/40\n",
      "690/690 [==============================] - 0s 355us/step - loss: 0.0277 - acc: 0.9768\n",
      "Epoch 35/40\n",
      "690/690 [==============================] - 0s 317us/step - loss: 0.0272 - acc: 0.9768\n",
      "Epoch 36/40\n",
      "690/690 [==============================] - 0s 321us/step - loss: 0.0264 - acc: 0.9768\n",
      "Epoch 37/40\n",
      "690/690 [==============================] - 0s 335us/step - loss: 0.0254 - acc: 0.9768\n",
      "Epoch 38/40\n",
      "690/690 [==============================] - 0s 342us/step - loss: 0.0248 - acc: 0.9768\n",
      "Epoch 39/40\n",
      "690/690 [==============================] - 0s 601us/step - loss: 0.0243 - acc: 0.9768\n",
      "Epoch 40/40\n",
      "690/690 [==============================] - 0s 508us/step - loss: 0.0235 - acc: 0.9768\n",
      "The best accuracy: 0.9782608695652174\n",
      "The best parameters: {'batch_size': 10, '_optimizer': 'adam', 'epochs': 40}\n"
     ]
    }
   ],
   "source": [
    "from keras.wrappers.scikit_learn import KerasClassifier\n",
    "from sklearn.model_selection import GridSearchCV\n",
    "classifier = KerasClassifier(build_fn=build_classifier)\n",
    "parameters = [{'batch_size': [10, 20],\n",
    "              'epochs': [20, 40], \n",
    "              '_optimizer': ['adam']}] #try 'rmsprop' or other values with capable machines.\n",
    "grid_search = GridSearchCV(estimator = classifier,\n",
    "                           param_grid = parameters,\n",
    "                           scoring = 'accuracy',\n",
    "                           cv = 10,\n",
    "                           n_jobs=-1) \n",
    "grid_search = grid_search.fit(x_train, y_train)\n",
    "best_accuracy = grid_search.best_score_\n",
    "best_parameters = grid_search.best_params_\n",
    "print('The best accuracy:', best_accuracy)\n",
    "print('The best parameters:', best_parameters)"
   ]
  },
  {
   "cell_type": "markdown",
   "metadata": {},
   "source": [
    "### ========= Applying the K-Fold cross validation ======"
   ]
  },
  {
   "cell_type": "code",
   "execution_count": 10,
   "metadata": {
    "collapsed": false
   },
   "outputs": [
    {
     "name": "stdout",
     "output_type": "stream",
     "text": [
      "The averaged accuracy is 0.978261, and\n",
      "std is 0.017452.\n",
      "\n"
     ]
    }
   ],
   "source": [
    "from sklearn.model_selection import cross_val_score\n",
    "classifier = KerasClassifier(build_fn = build_classifier, _optimizer = 'adam', batch_size = 10, epochs = 40)\n",
    "accuracies = cross_val_score(estimator = classifier, X = x_train, y = y_train, cv = 10, n_jobs = -1)\n",
    "print ('The averaged accuracy is %f, and\\nstd is %f.\\n'%(accuracies.mean(), accuracies.std()))"
   ]
  },
  {
   "cell_type": "markdown",
   "metadata": {},
   "source": [
    "### ======== Visualize the loss ========="
   ]
  },
  {
   "cell_type": "code",
   "execution_count": 16,
   "metadata": {
    "collapsed": false
   },
   "outputs": [
    {
     "name": "stdout",
     "output_type": "stream",
     "text": [
      "Epoch 1/40\n",
      "690/690 [==============================] - 1s 728us/step - loss: 0.6677 - acc: 0.9739\n",
      "Epoch 2/40\n",
      "690/690 [==============================] - 0s 255us/step - loss: 0.5355 - acc: 0.9768\n",
      "Epoch 3/40\n",
      "690/690 [==============================] - 0s 263us/step - loss: 0.2834 - acc: 0.9768\n",
      "Epoch 4/40\n",
      "690/690 [==============================] - 0s 260us/step - loss: 0.1321 - acc: 0.9768\n",
      "Epoch 5/40\n",
      "690/690 [==============================] - 0s 252us/step - loss: 0.0924 - acc: 0.9768\n",
      "Epoch 6/40\n",
      "690/690 [==============================] - 0s 254us/step - loss: 0.0792 - acc: 0.9768\n",
      "Epoch 7/40\n",
      "690/690 [==============================] - 0s 226us/step - loss: 0.0728 - acc: 0.9768\n",
      "Epoch 8/40\n",
      "690/690 [==============================] - 0s 223us/step - loss: 0.0678 - acc: 0.9768\n",
      "Epoch 9/40\n",
      "690/690 [==============================] - 0s 218us/step - loss: 0.0637 - acc: 0.9768\n",
      "Epoch 10/40\n",
      "690/690 [==============================] - 0s 218us/step - loss: 0.0602 - acc: 0.9768\n",
      "Epoch 11/40\n",
      "690/690 [==============================] - 0s 226us/step - loss: 0.0573 - acc: 0.9768\n",
      "Epoch 12/40\n",
      "690/690 [==============================] - 0s 221us/step - loss: 0.0547 - acc: 0.9768\n",
      "Epoch 13/40\n",
      "690/690 [==============================] - 0s 238us/step - loss: 0.0524 - acc: 0.9768\n",
      "Epoch 14/40\n",
      "690/690 [==============================] - 0s 260us/step - loss: 0.0501 - acc: 0.9768\n",
      "Epoch 15/40\n",
      "690/690 [==============================] - 0s 370us/step - loss: 0.0481 - acc: 0.9768\n",
      "Epoch 16/40\n",
      "690/690 [==============================] - 0s 309us/step - loss: 0.0464 - acc: 0.9768\n",
      "Epoch 17/40\n",
      "690/690 [==============================] - 0s 255us/step - loss: 0.0450 - acc: 0.9768\n",
      "Epoch 18/40\n",
      "690/690 [==============================] - 0s 258us/step - loss: 0.0434 - acc: 0.9768\n",
      "Epoch 19/40\n",
      "690/690 [==============================] - 0s 452us/step - loss: 0.0420 - acc: 0.9768\n",
      "Epoch 20/40\n",
      "690/690 [==============================] - 0s 252us/step - loss: 0.0412 - acc: 0.9768\n",
      "Epoch 21/40\n",
      "690/690 [==============================] - 0s 242us/step - loss: 0.0398 - acc: 0.9768\n",
      "Epoch 22/40\n",
      "690/690 [==============================] - 0s 244us/step - loss: 0.0385 - acc: 0.9768\n",
      "Epoch 23/40\n",
      "690/690 [==============================] - 0s 221us/step - loss: 0.0378 - acc: 0.9768\n",
      "Epoch 24/40\n",
      "690/690 [==============================] - 0s 219us/step - loss: 0.0363 - acc: 0.9768\n",
      "Epoch 25/40\n",
      "690/690 [==============================] - 0s 218us/step - loss: 0.0351 - acc: 0.9768\n",
      "Epoch 26/40\n",
      "690/690 [==============================] - 0s 237us/step - loss: 0.0343 - acc: 0.9768\n",
      "Epoch 27/40\n",
      "690/690 [==============================] - 0s 234us/step - loss: 0.0336 - acc: 0.9768\n",
      "Epoch 28/40\n",
      "690/690 [==============================] - 0s 220us/step - loss: 0.0326 - acc: 0.9768\n",
      "Epoch 29/40\n",
      "690/690 [==============================] - 0s 235us/step - loss: 0.0316 - acc: 0.9768\n",
      "Epoch 30/40\n",
      "690/690 [==============================] - 0s 240us/step - loss: 0.0307 - acc: 0.9768\n",
      "Epoch 31/40\n",
      "690/690 [==============================] - 0s 239us/step - loss: 0.0299 - acc: 0.9768\n",
      "Epoch 32/40\n",
      "690/690 [==============================] - 0s 237us/step - loss: 0.0293 - acc: 0.9768\n",
      "Epoch 33/40\n",
      "690/690 [==============================] - 0s 237us/step - loss: 0.0286 - acc: 0.9768\n",
      "Epoch 34/40\n",
      "690/690 [==============================] - 0s 241us/step - loss: 0.0278 - acc: 0.9768\n",
      "Epoch 35/40\n",
      "690/690 [==============================] - 0s 243us/step - loss: 0.0270 - acc: 0.9768\n",
      "Epoch 36/40\n",
      "690/690 [==============================] - 0s 251us/step - loss: 0.0266 - acc: 0.9768\n",
      "Epoch 37/40\n",
      "690/690 [==============================] - 0s 238us/step - loss: 0.0256 - acc: 0.9768\n",
      "Epoch 38/40\n",
      "690/690 [==============================] - 0s 229us/step - loss: 0.0250 - acc: 0.9768\n",
      "Epoch 39/40\n",
      "690/690 [==============================] - 0s 226us/step - loss: 0.0244 - acc: 0.9768\n",
      "Epoch 40/40\n",
      "690/690 [==============================] - 0s 230us/step - loss: 0.0239 - acc: 0.9768\n"
     ]
    },
    {
     "data": {
      "image/png": "[encoded data removed]",
      "text/plain": [
       "<Figure size 432x288 with 1 Axes>"
      ]
     },
     "metadata": {},
     "output_type": "display_data"
    }
   ],
   "source": [
    "classifier = build_classifier('adam')\n",
    "history = classifier.fit(x_train, y_train, batch_size= 10, epochs=40)\n",
    "\n",
    "import matplotlib.pyplot as plt\n",
    "num_epoches = len(history.history['loss'])\n",
    "plt.plot (history.history['loss'], label = 'Training Set')\n",
    "#plt.xticks(np.arange(0, 1+num_epoches), labels = [str(i+1) for i in range(num_epoches)])\n",
    "plt.xticks(ticks = range(-1, 1+num_epoches, 5), labels = [str(i) for i in range(0, 1+num_epoches, 5)])\n",
    "plt.title('SOM')\n",
    "plt.ylabel('Loss')\n",
    "plt.xlabel('Epoches')\n",
    "plt.legend()\n",
    "plt.show()"
   ]
  },
  {
   "cell_type": "markdown",
   "metadata": {},
   "source": [
    "### ====== Predict the probability of getting frauds ======="
   ]
  },
  {
   "cell_type": "code",
   "execution_count": 17,
   "metadata": {
    "collapsed": false
   },
   "outputs": [
    {
     "name": "stdout",
     "output_type": "stream",
     "text": [
      "Epoch 1/1\n",
      "690/690 [==============================] - 0s 118us/step - loss: 0.0233 - acc: 0.9768\n"
     ]
    }
   ],
   "source": [
    "classifier.fit(x_train, y_train)\n",
    "y_pred_train = classifier.predict(x_train)\n",
    "y_pred_train = np.append(dataset.iloc[:, 0].values.reshape((-1, 1)), y_pred_train.reshape((-1, 1)), axis=1)\n",
    "y_pred_train = y_pred_train[y_pred_train[:, 1].argsort()] #sort the prediction so that easier to find the most probable frauds."
   ]
  }
 ],
 "metadata": {
  "anaconda-cloud": {},
  "kernelspec": {
   "display_name": "Python [default]",
   "language": "python",
   "name": "python3"
  },
  "language_info": {
   "codemirror_mode": {
    "name": "ipython",
    "version": 3
   },
   "file_extension": ".py",
   "mimetype": "text/x-python",
   "name": "python",
   "nbconvert_exporter": "python",
   "pygments_lexer": "ipython3",
   "version": "3.5.6"
  }
 },
 "nbformat": 4,
 "nbformat_minor": 1
}
