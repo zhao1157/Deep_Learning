{
 "cells": [
  {
   "cell_type": "markdown",
   "metadata": {},
   "source": [
    "# Convolutional Neural Network template"
   ]
  },
  {
   "cell_type": "markdown",
   "metadata": {},
   "source": [
    "## ======= Construct CNN ======= "
   ]
  },
  {
   "cell_type": "code",
   "execution_count": 2,
   "metadata": {
    "collapsed": false
   },
   "outputs": [
    {
     "name": "stdout",
     "output_type": "stream",
     "text": [
      "conv2d_3 (None, 30, 30, 3) --> (None, 28, 28, 20)\n",
      "max_pooling2d_3 (None, 28, 28, 20) --> (None, 14, 14, 20)\n",
      "conv2d_4 (None, 14, 14, 20) --> (None, 12, 12, 32)\n",
      "max_pooling2d_4 (None, 12, 12, 32) --> (None, 6, 6, 32)\n",
      "flatten_2 (None, 6, 6, 32) --> (None, 1152)\n",
      "dense_3 (None, 1152) --> (None, 30)\n",
      "dense_4 (None, 30) --> (None, 1)\n",
      "_________________________________________________________________\n",
      "Layer (type)                 Output Shape              Param #   \n",
      "=================================================================\n",
      "conv2d_3 (Conv2D)            (None, 28, 28, 20)        560       \n",
      "_________________________________________________________________\n",
      "max_pooling2d_3 (MaxPooling2 (None, 14, 14, 20)        0         \n",
      "_________________________________________________________________\n",
      "conv2d_4 (Conv2D)            (None, 12, 12, 32)        5792      \n",
      "_________________________________________________________________\n",
      "max_pooling2d_4 (MaxPooling2 (None, 6, 6, 32)          0         \n",
      "_________________________________________________________________\n",
      "flatten_2 (Flatten)          (None, 1152)              0         \n",
      "_________________________________________________________________\n",
      "dense_3 (Dense)              (None, 30)                34590     \n",
      "_________________________________________________________________\n",
      "dense_4 (Dense)              (None, 1)                 31        \n",
      "=================================================================\n",
      "Total params: 40,973\n",
      "Trainable params: 40,973\n",
      "Non-trainable params: 0\n",
      "_________________________________________________________________\n",
      "None\n"
     ]
    }
   ],
   "source": [
    "from keras.models import Sequential\n",
    "from keras.layers import Conv2D\n",
    "from keras.layers import MaxPooling2D\n",
    "from keras.layers import Flatten\n",
    "from keras.layers import Dense\n",
    "\n",
    "def build_classifier(_optimizer):\n",
    "    #initialize \n",
    "    classifier = Sequential()\n",
    "    #Convolution\n",
    "    classifier.add(Conv2D(20, (3, 3), input_shape = (30, 30, 3), activation = 'relu'))\n",
    "    #pooling\n",
    "    classifier.add(MaxPooling2D(pool_size = (2, 2)))\n",
    "    #more convolution & pooling layers?\n",
    "    classifier.add(Conv2D(32, (3, 3), activation = 'relu'))\n",
    "    classifier.add(MaxPooling2D(pool_size = (2, 2)))\n",
    "    #flatten\n",
    "    classifier.add(Flatten())\n",
    "    #ANN (deeper hidden layers? add here)\n",
    "    classifier.add(Dense(units = 30, activation = 'relu'))\n",
    "    classifier.add(Dense(units = 1, activation = 'sigmoid'))\n",
    "    #compile\n",
    "    classifier.compile(optimizer = _optimizer, loss = 'binary_crossentropy', metrics = ['accuracy'])\n",
    "    return classifier\n",
    "\n",
    "classifier = build_classifier('adam')\n",
    "\n",
    "for layer in classifier.layers:\n",
    "    print (layer.name, layer.input_shape, '-->', layer.output_shape)\n",
    "print (classifier.summary())"
   ]
  },
  {
   "cell_type": "markdown",
   "metadata": {},
   "source": [
    "## ========= Fitting the CNN ==========="
   ]
  },
  {
   "cell_type": "code",
   "execution_count": 3,
   "metadata": {
    "collapsed": false,
    "scrolled": true
   },
   "outputs": [
    {
     "name": "stdout",
     "output_type": "stream",
     "text": [
      "Found 2000 images belonging to 2 classes.\n",
      "Found 400 images belonging to 2 classes.\n",
      "Epoch 1/10\n",
      "2000/2000 [==============================] - 171s 86ms/step - loss: 0.6156 - acc: 0.6459 - val_loss: 0.5408 - val_acc: 0.7300\n",
      "Epoch 2/10\n",
      "2000/2000 [==============================] - 204s 102ms/step - loss: 0.4956 - acc: 0.7554 - val_loss: 0.5434 - val_acc: 0.7575\n",
      "Epoch 3/10\n",
      "2000/2000 [==============================] - 121s 61ms/step - loss: 0.4143 - acc: 0.8075 - val_loss: 0.6363 - val_acc: 0.7200\n",
      "Epoch 4/10\n",
      "2000/2000 [==============================] - 134s 67ms/step - loss: 0.3475 - acc: 0.8427 - val_loss: 0.6159 - val_acc: 0.7450\n",
      "Epoch 5/10\n",
      "2000/2000 [==============================] - 175s 87ms/step - loss: 0.2830 - acc: 0.8791 - val_loss: 0.7822 - val_acc: 0.7475\n",
      "Epoch 6/10\n",
      "2000/2000 [==============================] - 106s 53ms/step - loss: 0.2239 - acc: 0.9074 - val_loss: 0.7125 - val_acc: 0.7325\n",
      "Epoch 7/10\n",
      "2000/2000 [==============================] - 146s 73ms/step - loss: 0.1847 - acc: 0.9275 - val_loss: 0.8802 - val_acc: 0.7650\n",
      "Epoch 8/10\n",
      "2000/2000 [==============================] - 137s 69ms/step - loss: 0.1492 - acc: 0.9416 - val_loss: 0.9795 - val_acc: 0.7400\n",
      "Epoch 9/10\n",
      "2000/2000 [==============================] - 172s 86ms/step - loss: 0.1202 - acc: 0.9527 - val_loss: 1.1071 - val_acc: 0.7200\n",
      "Epoch 10/10\n",
      "2000/2000 [==============================] - 201s 101ms/step - loss: 0.0988 - acc: 0.9653 - val_loss: 1.1721 - val_acc: 0.7650\n"
     ]
    }
   ],
   "source": [
    "from keras.preprocessing.image import ImageDataGenerator\n",
    "#I will NOT choose parameters that will cause too much computation\n",
    "train_datagen = ImageDataGenerator(rescale = 1./255,\n",
    "                                   shear_range = 0.2,\n",
    "                                   zoom_range = 0.2,\n",
    "                                   horizontal_flip = True)\n",
    "\n",
    "test_datagen = ImageDataGenerator(rescale = 1./255)\n",
    "\n",
    "training_set = train_datagen.flow_from_directory('dataset/training_set',\n",
    "                                                 target_size = (30, 30),\n",
    "                                                 batch_size = 10,\n",
    "                                                 class_mode = 'binary')\n",
    "\n",
    "test_set = test_datagen.flow_from_directory('dataset/test_set',\n",
    "                                            target_size = (30, 30),\n",
    "                                            batch_size = 10,\n",
    "                                            class_mode = 'binary')\n",
    "\n",
    "history = classifier.fit_generator(training_set,\n",
    "                         steps_per_epoch = training_set.samples,\n",
    "                         epochs = 10,\n",
    "                         validation_data = test_set,\n",
    "                         validation_steps = test_set.samples)"
   ]
  },
  {
   "cell_type": "markdown",
   "metadata": {},
   "source": [
    "## ======== Visualize the loss =========="
   ]
  },
  {
   "cell_type": "code",
   "execution_count": 4,
   "metadata": {
    "collapsed": false
   },
   "outputs": [
    {
     "data": {
      "image/png": "[encoded data removed]",
      "text/plain": [
       "<Figure size 432x288 with 1 Axes>"
      ]
     },
     "metadata": {},
     "output_type": "display_data"
    }
   ],
   "source": [
    "import matplotlib.pyplot as plt\n",
    "import numpy as np\n",
    "num_epoches = len(history.history['loss'])\n",
    "plt.plot (history.history['loss'], label = 'Training Set')\n",
    "plt.plot (history.history['val_loss'], label = 'Test Set')\n",
    "plt.xticks(np.arange(0, 1+num_epoches), labels = [str(i+1) for i in range(num_epoches)])\n",
    "plt.title('CNN')\n",
    "plt.ylabel('Loss')\n",
    "plt.xlabel('Epoches')\n",
    "plt.legend()\n",
    "plt.show() #does not look good for the test set. "
   ]
  },
  {
   "cell_type": "markdown",
   "metadata": {},
   "source": [
    "## ======== Making new predictions ========="
   ]
  },
  {
   "cell_type": "code",
   "execution_count": 7,
   "metadata": {
    "collapsed": false
   },
   "outputs": [
    {
     "name": "stdout",
     "output_type": "stream",
     "text": [
      "{'cats': 0, 'dogs': 1}\n",
      "Predict: dogs\n",
      "Predict: cats\n"
     ]
    }
   ],
   "source": [
    "import numpy as np\n",
    "from keras.preprocessing import image\n",
    "\n",
    "print (training_set.class_indices)\n",
    "for i in range(1,3):\n",
    "    test_image = image.load_img('dataset/single_prediction/cat_or_dog_'+str(i)+'.jpg', target_size = (30, 30))\n",
    "    test_image = image.img_to_array(test_image)\n",
    "    test_image = np.expand_dims(test_image, axis = 0)\n",
    "    result = classifier.predict(test_image)\n",
    "    result = (result>0.5)\n",
    "\n",
    "    prediction = [key for (key, value) in training_set.class_indices.items() if value == result][0]\n",
    "\n",
    "    print ('Predict:', prediction)"
   ]
  }
 ],
 "metadata": {
  "anaconda-cloud": {},
  "kernelspec": {
   "display_name": "Python [default]",
   "language": "python",
   "name": "python3"
  },
  "language_info": {
   "codemirror_mode": {
    "name": "ipython",
    "version": 3
   },
   "file_extension": ".py",
   "mimetype": "text/x-python",
   "name": "python",
   "nbconvert_exporter": "python",
   "pygments_lexer": "ipython3",
   "version": "3.5.6"
  }
 },
 "nbformat": 4,
 "nbformat_minor": 1
}
