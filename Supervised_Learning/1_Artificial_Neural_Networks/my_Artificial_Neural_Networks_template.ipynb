{
 "cells": [
  {
   "cell_type": "markdown",
   "metadata": {},
   "source": [
    "# Artificial Neural Network template"
   ]
  },
  {
   "cell_type": "markdown",
   "metadata": {},
   "source": [
    "## ======= Import the data set ========"
   ]
  },
  {
   "cell_type": "code",
   "execution_count": 1,
   "metadata": {
    "collapsed": true
   },
   "outputs": [],
   "source": [
    "import pandas as pd\n",
    "dataset = pd.read_csv('Churn_Modelling.csv')\n",
    "x = dataset.iloc[:, 3:-1].values\n",
    "y = dataset.iloc[:, -1].values"
   ]
  },
  {
   "cell_type": "markdown",
   "metadata": {},
   "source": [
    "## ======= Categorical Data ========="
   ]
  },
  {
   "cell_type": "code",
   "execution_count": 2,
   "metadata": {
    "collapsed": false
   },
   "outputs": [
    {
     "name": "stdout",
     "output_type": "stream",
     "text": [
      "Gender: {'Female', 'Male'} \n",
      "Country: {'Germany', 'Spain', 'France'}\n"
     ]
    },
    {
     "name": "stderr",
     "output_type": "stream",
     "text": [
      "/Users/LianshuiZhao/anaconda/lib/python3.5/site-packages/sklearn/preprocessing/_encoders.py:368: FutureWarning: The handling of integer data will change in version 0.22. Currently, the categories are determined based on the range [0, max(values)], while in the future they will be determined based on the unique values.\n",
      "If you want the future behaviour and silence this warning, you can specify \"categories='auto'\".\n",
      "In case you used a LabelEncoder before this OneHotEncoder to convert the categories to integers, then you can now use the OneHotEncoder directly.\n",
      "  warnings.warn(msg, FutureWarning)\n",
      "/Users/LianshuiZhao/anaconda/lib/python3.5/site-packages/sklearn/preprocessing/_encoders.py:390: DeprecationWarning: The 'categorical_features' keyword is deprecated in version 0.20 and will be removed in 0.22. You can use the ColumnTransformer instead.\n",
      "  \"use the ColumnTransformer instead.\", DeprecationWarning)\n"
     ]
    }
   ],
   "source": [
    "from sklearn.preprocessing import LabelEncoder, OneHotEncoder\n",
    "print ('Gender:', set(x[:,2]), '\\nCountry:', set(x[:,1]))\n",
    "label_encoder = LabelEncoder()\n",
    "x[:, 2] = label_encoder.fit_transform(x[:, 2]) #Female:0, Male:1\n",
    "x[:, 1] = label_encoder.fit_transform(x[:, 1]) \n",
    "one_hot_encoder = OneHotEncoder(categorical_features = [1])\n",
    "x = one_hot_encoder.fit_transform(x).toarray() #France:100, Spain:001, Germany:010\n",
    "x = x[:, 1:]"
   ]
  },
  {
   "cell_type": "markdown",
   "metadata": {},
   "source": [
    "## ======= Splitting the dataset ========"
   ]
  },
  {
   "cell_type": "code",
   "execution_count": 3,
   "metadata": {
    "collapsed": true
   },
   "outputs": [],
   "source": [
    "from sklearn.model_selection import train_test_split\n",
    "x_train, x_test, y_train, y_test = train_test_split(x, y, test_size = 0.2, random_state = 0)"
   ]
  },
  {
   "cell_type": "markdown",
   "metadata": {},
   "source": [
    "## ========= Feature Scaling ========"
   ]
  },
  {
   "cell_type": "code",
   "execution_count": 4,
   "metadata": {
    "collapsed": true
   },
   "outputs": [],
   "source": [
    "from sklearn.preprocessing import StandardScaler\n",
    "sc = StandardScaler()\n",
    "x_train = sc.fit_transform(x_train)\n",
    "x_test = sc.transform(x_test)"
   ]
  },
  {
   "cell_type": "markdown",
   "metadata": {},
   "source": [
    "## ======= Construct the ANN ========"
   ]
  },
  {
   "cell_type": "code",
   "execution_count": 5,
   "metadata": {
    "collapsed": false,
    "scrolled": true
   },
   "outputs": [
    {
     "name": "stderr",
     "output_type": "stream",
     "text": [
      "Using TensorFlow backend.\n"
     ]
    }
   ],
   "source": [
    "import keras\n",
    "from keras.models import Sequential\n",
    "from keras.layers import Dense\n",
    "from keras.layers import Dropout\n",
    "\n",
    "def build_classifier(_optimizer):\n",
    "    ### ======== Initializing the ANN ======\n",
    "    classifier = Sequential()\n",
    "    \n",
    "    ### ======== add the input layer and the hidden layers and output layer =====\n",
    "    classifier.add(Dense(units=6, kernel_initializer='uniform', activation='relu', input_dim = x_train.shape[1])) #1st\n",
    "    #classifier.add(Dropout(p=0.1)) #dealwith overfitting\n",
    "    \n",
    "    classifier.add(Dense(units=6, kernel_initializer='uniform', activation='relu')) #2nd\n",
    "    #classifier.add(Dropout(p=0.1)) #dealwith overfitting\n",
    "    \n",
    "    classifier.add(Dense(units=1, kernel_initializer='uniform', activation='sigmoid')) #output\n",
    "    \n",
    "    ### ======= Compiling the ANN ========\n",
    "    classifier.compile(optimizer=_optimizer, loss='binary_crossentropy', metrics=['accuracy'])\n",
    "    return classifier"
   ]
  },
  {
   "cell_type": "markdown",
   "metadata": {},
   "source": [
    "## ======== Applying Grid Search to find the best model and the best parameters ========"
   ]
  },
  {
   "cell_type": "code",
   "execution_count": 6,
   "metadata": {
    "collapsed": false
   },
   "outputs": [
    {
     "name": "stdout",
     "output_type": "stream",
     "text": [
      "Epoch 1/40\n",
      "8000/8000 [==============================] - 1s 122us/step - loss: 0.5324 - acc: 0.7948\n",
      "Epoch 2/40\n",
      "8000/8000 [==============================] - 1s 101us/step - loss: 0.4346 - acc: 0.7960\n",
      "Epoch 3/40\n",
      "8000/8000 [==============================] - 1s 99us/step - loss: 0.4308 - acc: 0.7960\n",
      "Epoch 4/40\n",
      "8000/8000 [==============================] - 1s 100us/step - loss: 0.4284 - acc: 0.7960\n",
      "Epoch 5/40\n",
      "8000/8000 [==============================] - 1s 99us/step - loss: 0.4257 - acc: 0.7960\n",
      "Epoch 6/40\n",
      "8000/8000 [==============================] - 1s 100us/step - loss: 0.4223 - acc: 0.7964\n",
      "Epoch 7/40\n",
      "8000/8000 [==============================] - 1s 100us/step - loss: 0.4190 - acc: 0.8210\n",
      "Epoch 8/40\n",
      "8000/8000 [==============================] - 1s 100us/step - loss: 0.4172 - acc: 0.8243\n",
      "Epoch 9/40\n",
      "8000/8000 [==============================] - 1s 105us/step - loss: 0.4154 - acc: 0.8271\n",
      "Epoch 10/40\n",
      "8000/8000 [==============================] - 1s 100us/step - loss: 0.4140 - acc: 0.8296\n",
      "Epoch 11/40\n",
      "8000/8000 [==============================] - 1s 106us/step - loss: 0.4132 - acc: 0.8309\n",
      "Epoch 12/40\n",
      "8000/8000 [==============================] - 1s 100us/step - loss: 0.4122 - acc: 0.8316\n",
      "Epoch 13/40\n",
      "8000/8000 [==============================] - 1s 100us/step - loss: 0.4115 - acc: 0.8326\n",
      "Epoch 14/40\n",
      "8000/8000 [==============================] - 1s 99us/step - loss: 0.4108 - acc: 0.8330\n",
      "Epoch 15/40\n",
      "8000/8000 [==============================] - 1s 101us/step - loss: 0.4099 - acc: 0.8344\n",
      "Epoch 16/40\n",
      "8000/8000 [==============================] - 1s 99us/step - loss: 0.4092 - acc: 0.8339\n",
      "Epoch 17/40\n",
      "8000/8000 [==============================] - 1s 99us/step - loss: 0.4089 - acc: 0.8346\n",
      "Epoch 18/40\n",
      "8000/8000 [==============================] - 1s 102us/step - loss: 0.4082 - acc: 0.8339\n",
      "Epoch 19/40\n",
      "8000/8000 [==============================] - 1s 100us/step - loss: 0.4075 - acc: 0.8355\n",
      "Epoch 20/40\n",
      "8000/8000 [==============================] - 1s 100us/step - loss: 0.4067 - acc: 0.8351\n",
      "Epoch 21/40\n",
      "8000/8000 [==============================] - 1s 102us/step - loss: 0.4066 - acc: 0.8360\n",
      "Epoch 22/40\n",
      "8000/8000 [==============================] - 1s 102us/step - loss: 0.4061 - acc: 0.8349\n",
      "Epoch 23/40\n",
      "8000/8000 [==============================] - 1s 101us/step - loss: 0.4059 - acc: 0.8351\n",
      "Epoch 24/40\n",
      "8000/8000 [==============================] - 1s 101us/step - loss: 0.4056 - acc: 0.8349\n",
      "Epoch 25/40\n",
      "8000/8000 [==============================] - 1s 106us/step - loss: 0.4052 - acc: 0.8350\n",
      "Epoch 26/40\n",
      "8000/8000 [==============================] - 1s 100us/step - loss: 0.4049 - acc: 0.8360\n",
      "Epoch 27/40\n",
      "8000/8000 [==============================] - 1s 101us/step - loss: 0.4046 - acc: 0.8354\n",
      "Epoch 28/40\n",
      "8000/8000 [==============================] - 1s 104us/step - loss: 0.4044 - acc: 0.8351\n",
      "Epoch 29/40\n",
      "8000/8000 [==============================] - 1s 103us/step - loss: 0.4042 - acc: 0.8351\n",
      "Epoch 30/40\n",
      "8000/8000 [==============================] - 1s 102us/step - loss: 0.4037 - acc: 0.8354\n",
      "Epoch 31/40\n",
      "8000/8000 [==============================] - 1s 107us/step - loss: 0.4038 - acc: 0.8345\n",
      "Epoch 32/40\n",
      "8000/8000 [==============================] - 1s 105us/step - loss: 0.4034 - acc: 0.8355\n",
      "Epoch 33/40\n",
      "8000/8000 [==============================] - 1s 102us/step - loss: 0.4037 - acc: 0.8364\n",
      "Epoch 34/40\n",
      "8000/8000 [==============================] - 1s 106us/step - loss: 0.4030 - acc: 0.8348\n",
      "Epoch 35/40\n",
      "8000/8000 [==============================] - 1s 114us/step - loss: 0.4030 - acc: 0.8349\n",
      "Epoch 36/40\n",
      "8000/8000 [==============================] - 1s 103us/step - loss: 0.4025 - acc: 0.8363\n",
      "Epoch 37/40\n",
      "8000/8000 [==============================] - 1s 103us/step - loss: 0.4028 - acc: 0.8349\n",
      "Epoch 38/40\n",
      "8000/8000 [==============================] - 1s 101us/step - loss: 0.4029 - acc: 0.8349\n",
      "Epoch 39/40\n",
      "8000/8000 [==============================] - 1s 104us/step - loss: 0.4021 - acc: 0.8360\n",
      "Epoch 40/40\n",
      "8000/8000 [==============================] - 1s 106us/step - loss: 0.4026 - acc: 0.8354\n",
      "The best accuracy: 0.8395\n",
      "The best parameters: {'_optimizer': 'adam', 'epochs': 40, 'batch_size': 20}\n"
     ]
    }
   ],
   "source": [
    "from keras.wrappers.scikit_learn import KerasClassifier\n",
    "from sklearn.model_selection import GridSearchCV\n",
    "classifier = KerasClassifier(build_fn=build_classifier)\n",
    "parameters = [{'batch_size': [10, 20],\n",
    "              'epochs': [20, 40],\n",
    "              '_optimizer': ['adam']}] #or try optimizer'rmsprop'\n",
    "grid_search = GridSearchCV(estimator = classifier,\n",
    "                           param_grid = parameters,\n",
    "                           scoring = 'accuracy',\n",
    "                           cv = 10,\n",
    "                           n_jobs=-1) \n",
    "grid_search = grid_search.fit(x_train, y_train)\n",
    "best_accuracy = grid_search.best_score_\n",
    "best_parameters = grid_search.best_params_\n",
    "print('The best accuracy:', best_accuracy)\n",
    "print('The best parameters:', best_parameters)"
   ]
  },
  {
   "cell_type": "markdown",
   "metadata": {
    "collapsed": true
   },
   "source": [
    "## ========= Applying the K-Fold cross validation ======"
   ]
  },
  {
   "cell_type": "code",
   "execution_count": 7,
   "metadata": {
    "collapsed": true
   },
   "outputs": [],
   "source": [
    "from keras.wrappers.scikit_learn import KerasClassifier\n",
    "from sklearn.model_selection import cross_val_score\n",
    "classifier = KerasClassifier(build_fn = build_classifier('adam'), batch_size = 20, epochs = 40)"
   ]
  },
  {
   "cell_type": "markdown",
   "metadata": {},
   "source": [
    "## ====== Predict and make confusion matrix ======="
   ]
  },
  {
   "cell_type": "code",
   "execution_count": 9,
   "metadata": {
    "collapsed": false
   },
   "outputs": [
    {
     "name": "stdout",
     "output_type": "stream",
     "text": [
      "Epoch 1/40\n",
      "8000/8000 [==============================] - 1s 165us/step - loss: 0.5171 - acc: 0.7961\n",
      "Epoch 2/40\n",
      "8000/8000 [==============================] - 1s 113us/step - loss: 0.4309 - acc: 0.7960\n",
      "Epoch 3/40\n",
      "8000/8000 [==============================] - 1s 120us/step - loss: 0.4254 - acc: 0.7960\n",
      "Epoch 4/40\n",
      "8000/8000 [==============================] - 1s 104us/step - loss: 0.4204 - acc: 0.8093\n",
      "Epoch 5/40\n",
      "8000/8000 [==============================] - 1s 102us/step - loss: 0.4152 - acc: 0.8274\n",
      "Epoch 6/40\n",
      "8000/8000 [==============================] - 1s 101us/step - loss: 0.4114 - acc: 0.8309\n",
      "Epoch 7/40\n",
      "8000/8000 [==============================] - 1s 104us/step - loss: 0.4085 - acc: 0.8313\n",
      "Epoch 8/40\n",
      "8000/8000 [==============================] - 1s 105us/step - loss: 0.4065 - acc: 0.8344\n",
      "Epoch 9/40\n",
      "8000/8000 [==============================] - 1s 104us/step - loss: 0.4042 - acc: 0.8345\n",
      "Epoch 10/40\n",
      "8000/8000 [==============================] - 1s 103us/step - loss: 0.4031 - acc: 0.8341\n",
      "Epoch 11/40\n",
      "8000/8000 [==============================] - 1s 107us/step - loss: 0.4017 - acc: 0.8345\n",
      "Epoch 12/40\n",
      "8000/8000 [==============================] - 1s 130us/step - loss: 0.4011 - acc: 0.8351\n",
      "Epoch 13/40\n",
      "8000/8000 [==============================] - 1s 132us/step - loss: 0.4004 - acc: 0.8334\n",
      "Epoch 14/40\n",
      "8000/8000 [==============================] - 1s 127us/step - loss: 0.3997 - acc: 0.8348\n",
      "Epoch 15/40\n",
      "8000/8000 [==============================] - 1s 121us/step - loss: 0.3992 - acc: 0.8335\n",
      "Epoch 16/40\n",
      "8000/8000 [==============================] - 1s 124us/step - loss: 0.3987 - acc: 0.8364\n",
      "Epoch 17/40\n",
      "8000/8000 [==============================] - 1s 123us/step - loss: 0.3982 - acc: 0.8346\n",
      "Epoch 18/40\n",
      "8000/8000 [==============================] - 1s 119us/step - loss: 0.3979 - acc: 0.8365\n",
      "Epoch 19/40\n",
      "8000/8000 [==============================] - 1s 126us/step - loss: 0.3978 - acc: 0.8353\n",
      "Epoch 20/40\n",
      "8000/8000 [==============================] - 1s 122us/step - loss: 0.3976 - acc: 0.8347\n",
      "Epoch 21/40\n",
      "8000/8000 [==============================] - 1s 123us/step - loss: 0.3972 - acc: 0.8369\n",
      "Epoch 22/40\n",
      "8000/8000 [==============================] - 1s 125us/step - loss: 0.3968 - acc: 0.8354\n",
      "Epoch 23/40\n",
      "8000/8000 [==============================] - 1s 123us/step - loss: 0.3969 - acc: 0.8360\n",
      "Epoch 24/40\n",
      "8000/8000 [==============================] - 1s 127us/step - loss: 0.3963 - acc: 0.8345\n",
      "Epoch 25/40\n",
      "8000/8000 [==============================] - 1s 122us/step - loss: 0.3963 - acc: 0.8351\n",
      "Epoch 26/40\n",
      "8000/8000 [==============================] - 1s 125us/step - loss: 0.3962 - acc: 0.8358\n",
      "Epoch 27/40\n",
      "8000/8000 [==============================] - 1s 126us/step - loss: 0.3959 - acc: 0.8359\n",
      "Epoch 28/40\n",
      "8000/8000 [==============================] - 1s 125us/step - loss: 0.3958 - acc: 0.8353\n",
      "Epoch 29/40\n",
      "8000/8000 [==============================] - 1s 124us/step - loss: 0.3959 - acc: 0.8365\n",
      "Epoch 30/40\n",
      "8000/8000 [==============================] - 1s 125us/step - loss: 0.3956 - acc: 0.8339\n",
      "Epoch 31/40\n",
      "8000/8000 [==============================] - 1s 125us/step - loss: 0.3951 - acc: 0.8343\n",
      "Epoch 32/40\n",
      "8000/8000 [==============================] - 1s 129us/step - loss: 0.3954 - acc: 0.8371\n",
      "Epoch 33/40\n",
      "8000/8000 [==============================] - 1s 126us/step - loss: 0.3947 - acc: 0.8360\n",
      "Epoch 34/40\n",
      "8000/8000 [==============================] - 1s 130us/step - loss: 0.3953 - acc: 0.8360\n",
      "Epoch 35/40\n",
      "8000/8000 [==============================] - 1s 128us/step - loss: 0.3942 - acc: 0.8368\n",
      "Epoch 36/40\n",
      "8000/8000 [==============================] - 1s 131us/step - loss: 0.3941 - acc: 0.8355\n",
      "Epoch 37/40\n",
      "8000/8000 [==============================] - 1s 127us/step - loss: 0.3934 - acc: 0.8358\n",
      "Epoch 38/40\n",
      "8000/8000 [==============================] - 1s 132us/step - loss: 0.3931 - acc: 0.8366\n",
      "Epoch 39/40\n",
      "8000/8000 [==============================] - 1s 129us/step - loss: 0.3921 - acc: 0.8369\n",
      "Epoch 40/40\n",
      "8000/8000 [==============================] - 1s 135us/step - loss: 0.3914 - acc: 0.8361\n"
     ]
    }
   ],
   "source": [
    "classifier = build_classifier('adam')\n",
    "classifier.fit(x_train, y_train, batch_size=20, epochs=40)\n",
    "y_pred_train = classifier.predict(x_train)\n",
    "y_pred_train = (y_pred_train > 0.5)\n",
    "y_pred_test = classifier.predict(x_test)\n",
    "y_pred_test = (y_pred_test > 0.5)"
   ]
  },
  {
   "cell_type": "code",
   "execution_count": 10,
   "metadata": {
    "collapsed": false
   },
   "outputs": [
    {
     "name": "stdout",
     "output_type": "stream",
     "text": [
      "The accuracy for the training set is 0.836250.\n",
      "\n",
      "The accuracy for the test set is 0.840500.\n",
      "\n"
     ]
    }
   ],
   "source": [
    "from sklearn.metrics import confusion_matrix\n",
    "cm_train = confusion_matrix(y_train, y_pred_train)\n",
    "cm_test = confusion_matrix(y_test, y_pred_test, labels=[0, 1]) #lables indicate the order of the results\n",
    "print ('The accuracy for the training set is %f.\\n'%((cm_train[0][0]+cm_train[1][1])/(x_train.shape[0])))\n",
    "print ('The accuracy for the test set is %f.\\n'%((cm_test[0][0]+cm_test[1][1])/(sum(sum(cm_test)))))"
   ]
  },
  {
   "cell_type": "markdown",
   "metadata": {},
   "source": [
    "## ======== Predicting a single new observation ========"
   ]
  },
  {
   "cell_type": "raw",
   "metadata": {},
   "source": [
    "\"\"\"Predict if the customer with the following informations will leave the bank:\n",
    "Geography: France\n",
    "Credit Score: 600\n",
    "Gender: Male\n",
    "Age: 40\n",
    "Tenure: 3\n",
    "Balance: 60000\n",
    "Number of Products: 2\n",
    "Has Credit Card: Yes\n",
    "Is Active Member: Yes\n",
    "Estimated Salary: 50000\"\"\""
   ]
  },
  {
   "cell_type": "code",
   "execution_count": 12,
   "metadata": {
    "collapsed": false
   },
   "outputs": [
    {
     "name": "stdout",
     "output_type": "stream",
     "text": [
      "Exited? False\n"
     ]
    },
    {
     "name": "stderr",
     "output_type": "stream",
     "text": [
      "/Users/LianshuiZhao/anaconda/lib/python3.5/site-packages/sklearn/utils/validation.py:595: DataConversionWarning: Data with input dtype int64 was converted to float64 by StandardScaler.\n",
      "  warnings.warn(msg, DataConversionWarning)\n"
     ]
    }
   ],
   "source": [
    "import numpy as np\n",
    "new_pred = classifier.predict(sc.transform(np.array([[0, 0, 600, 1, 40, 3, 60000, 2, 1, 1, 50000]])))\n",
    "print ('Exited?', (new_pred > 0.5)[0, 0])"
   ]
  }
 ],
 "metadata": {
  "anaconda-cloud": {},
  "kernelspec": {
   "display_name": "Python [default]",
   "language": "python",
   "name": "python3"
  },
  "language_info": {
   "codemirror_mode": {
    "name": "ipython",
    "version": 3
   },
   "file_extension": ".py",
   "mimetype": "text/x-python",
   "name": "python",
   "nbconvert_exporter": "python",
   "pygments_lexer": "ipython3",
   "version": "3.5.6"
  }
 },
 "nbformat": 4,
 "nbformat_minor": 1
}
