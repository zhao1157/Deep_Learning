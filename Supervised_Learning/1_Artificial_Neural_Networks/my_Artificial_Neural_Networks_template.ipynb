{
 "cells": [
  {
   "cell_type": "markdown",
   "metadata": {},
   "source": [
    "# Artificial Neural Network template"
   ]
  },
  {
   "cell_type": "markdown",
   "metadata": {},
   "source": [
    "## ======= Import the data set ========"
   ]
  },
  {
   "cell_type": "code",
   "execution_count": 85,
   "metadata": {
    "collapsed": true
   },
   "outputs": [],
   "source": [
    "import pandas as pd\n",
    "dataset = pd.read_csv('Churn_Modelling.csv')\n",
    "x = dataset.iloc[:, 3:-1].values\n",
    "y = dataset.iloc[:, -1].values"
   ]
  },
  {
   "cell_type": "markdown",
   "metadata": {},
   "source": [
    "## ======= Categorical Data ========="
   ]
  },
  {
   "cell_type": "code",
   "execution_count": 86,
   "metadata": {
    "collapsed": false
   },
   "outputs": [
    {
     "name": "stdout",
     "output_type": "stream",
     "text": [
      "Gender: {'Female', 'Male'} \n",
      "Country: {'Germany', 'Spain', 'France'}\n"
     ]
    },
    {
     "name": "stderr",
     "output_type": "stream",
     "text": [
      "/Users/LianshuiZhao/anaconda/lib/python3.5/site-packages/sklearn/preprocessing/_encoders.py:368: FutureWarning: The handling of integer data will change in version 0.22. Currently, the categories are determined based on the range [0, max(values)], while in the future they will be determined based on the unique values.\n",
      "If you want the future behaviour and silence this warning, you can specify \"categories='auto'\".\n",
      "In case you used a LabelEncoder before this OneHotEncoder to convert the categories to integers, then you can now use the OneHotEncoder directly.\n",
      "  warnings.warn(msg, FutureWarning)\n",
      "/Users/LianshuiZhao/anaconda/lib/python3.5/site-packages/sklearn/preprocessing/_encoders.py:390: DeprecationWarning: The 'categorical_features' keyword is deprecated in version 0.20 and will be removed in 0.22. You can use the ColumnTransformer instead.\n",
      "  \"use the ColumnTransformer instead.\", DeprecationWarning)\n"
     ]
    }
   ],
   "source": [
    "from sklearn.preprocessing import LabelEncoder, OneHotEncoder\n",
    "print ('Gender:', set(x[:,2]), '\\nCountry:', set(x[:,1]))\n",
    "label_encoder = LabelEncoder()\n",
    "x[:, 2] = label_encoder.fit_transform(x[:, 2]) #Female:0, Male:1\n",
    "x[:, 1] = label_encoder.fit_transform(x[:, 1]) \n",
    "one_hot_encoder = OneHotEncoder(categorical_features = [1])\n",
    "x = one_hot_encoder.fit_transform(x).toarray() #France:100, Spain:001, Germany:010\n",
    "x = x[:, 1:]"
   ]
  },
  {
   "cell_type": "markdown",
   "metadata": {},
   "source": [
    "## ======= Splitting the dataset ========"
   ]
  },
  {
   "cell_type": "code",
   "execution_count": 87,
   "metadata": {
    "collapsed": true
   },
   "outputs": [],
   "source": [
    "from sklearn.model_selection import train_test_split\n",
    "x_train, x_test, y_train, y_test = train_test_split(x, y, test_size = 0.2, random_state = 0)"
   ]
  },
  {
   "cell_type": "markdown",
   "metadata": {},
   "source": [
    "## ========= Feature Scaling ========"
   ]
  },
  {
   "cell_type": "code",
   "execution_count": 88,
   "metadata": {
    "collapsed": true
   },
   "outputs": [],
   "source": [
    "from sklearn.preprocessing import StandardScaler\n",
    "sc = StandardScaler()\n",
    "x_train = sc.fit_transform(x_train)\n",
    "x_test = sc.transform(x_test)"
   ]
  },
  {
   "cell_type": "markdown",
   "metadata": {},
   "source": [
    "## ======= Construct the ANN ========"
   ]
  },
  {
   "cell_type": "code",
   "execution_count": 89,
   "metadata": {
    "collapsed": false,
    "scrolled": true
   },
   "outputs": [],
   "source": [
    "import keras\n",
    "from keras.models import Sequential\n",
    "from keras.layers import Dense\n",
    "from keras.layers import Dropout\n",
    "\n",
    "def build_classifier(_optimizer):\n",
    "    ### ======== Initializing the ANN ======\n",
    "    classifier = Sequential()\n",
    "    \n",
    "    ### ======== add the input layer and the hidden layers and output layer =====\n",
    "    classifier.add(Dense(units=6, kernel_initializer='uniform', activation='relu', input_dim = x_train.shape[1])) #1st\n",
    "    #classifier.add(Dropout(p=0.1)) #dealwith overfitting\n",
    "    \n",
    "    classifier.add(Dense(units=6, kernel_initializer='uniform', activation='relu')) #2nd\n",
    "    #classifier.add(Dropout(p=0.1)) #dealwith overfitting\n",
    "    \n",
    "    classifier.add(Dense(units=1, kernel_initializer='uniform', activation='sigmoid')) #output\n",
    "    \n",
    "    ### ======= Compiling the ANN ========\n",
    "    classifier.compile(optimizer=_optimizer, loss='binary_crossentropy', metrics=['accuracy'])\n",
    "    return classifier"
   ]
  },
  {
   "cell_type": "markdown",
   "metadata": {},
   "source": [
    "## ======== Applying Grid Search to find the best model and the best parameters ========"
   ]
  },
  {
   "cell_type": "code",
   "execution_count": 90,
   "metadata": {
    "collapsed": false
   },
   "outputs": [
    {
     "name": "stdout",
     "output_type": "stream",
     "text": [
      "Epoch 1/20\n",
      "8000/8000 [==============================] - 2s 276us/step - loss: 0.5185 - acc: 0.7955\n",
      "Epoch 2/20\n",
      "8000/8000 [==============================] - 1s 153us/step - loss: 0.4311 - acc: 0.7960\n",
      "Epoch 3/20\n",
      "8000/8000 [==============================] - 1s 152us/step - loss: 0.4254 - acc: 0.7960\n",
      "Epoch 4/20\n",
      "8000/8000 [==============================] - 1s 166us/step - loss: 0.4219 - acc: 0.7969\n",
      "Epoch 5/20\n",
      "8000/8000 [==============================] - 1s 155us/step - loss: 0.4189 - acc: 0.8198\n",
      "Epoch 6/20\n",
      "8000/8000 [==============================] - 1s 152us/step - loss: 0.4171 - acc: 0.8244\n",
      "Epoch 7/20\n",
      "8000/8000 [==============================] - 1s 151us/step - loss: 0.4155 - acc: 0.8278\n",
      "Epoch 8/20\n",
      "8000/8000 [==============================] - 1s 152us/step - loss: 0.4141 - acc: 0.8285\n",
      "Epoch 9/20\n",
      "8000/8000 [==============================] - 1s 151us/step - loss: 0.4128 - acc: 0.8315\n",
      "Epoch 10/20\n",
      "8000/8000 [==============================] - 1s 173us/step - loss: 0.4123 - acc: 0.8310\n",
      "Epoch 11/20\n",
      "8000/8000 [==============================] - 1s 162us/step - loss: 0.4110 - acc: 0.8325\n",
      "Epoch 12/20\n",
      "8000/8000 [==============================] - 1s 158us/step - loss: 0.4103 - acc: 0.8333\n",
      "Epoch 13/20\n",
      "8000/8000 [==============================] - 1s 169us/step - loss: 0.4095 - acc: 0.8339\n",
      "Epoch 14/20\n",
      "8000/8000 [==============================] - 1s 174us/step - loss: 0.4088 - acc: 0.8349\n",
      "Epoch 15/20\n",
      "8000/8000 [==============================] - 2s 273us/step - loss: 0.4083 - acc: 0.8342\n",
      "Epoch 16/20\n",
      "8000/8000 [==============================] - 1s 178us/step - loss: 0.4076 - acc: 0.8346\n",
      "Epoch 17/20\n",
      "8000/8000 [==============================] - 2s 221us/step - loss: 0.4069 - acc: 0.8345\n",
      "Epoch 18/20\n",
      "8000/8000 [==============================] - 3s 408us/step - loss: 0.4069 - acc: 0.8349\n",
      "Epoch 19/20\n",
      "8000/8000 [==============================] - 2s 256us/step - loss: 0.4066 - acc: 0.8350\n",
      "Epoch 20/20\n",
      "8000/8000 [==============================] - 2s 218us/step - loss: 0.4054 - acc: 0.8351\n",
      "The best accuracy: 0.843125\n",
      "The best parameters: {'_optimizer': 'adam', 'epochs': 20, 'batch_size': 20}\n"
     ]
    }
   ],
   "source": [
    "from keras.wrappers.scikit_learn import KerasClassifier\n",
    "from sklearn.model_selection import GridSearchCV\n",
    "classifier = KerasClassifier(build_fn=build_classifier)\n",
    "parameters = [{'batch_size': [10, 20],\n",
    "              'epochs': [20, 40], \n",
    "              '_optimizer': ['adam']}] #try 'rmsprop' or other values with capable machines.\n",
    "grid_search = GridSearchCV(estimator = classifier,\n",
    "                           param_grid = parameters,\n",
    "                           scoring = 'accuracy',\n",
    "                           cv = 10,\n",
    "                           n_jobs=-1) \n",
    "grid_search = grid_search.fit(x_train, y_train)\n",
    "best_accuracy = grid_search.best_score_\n",
    "best_parameters = grid_search.best_params_\n",
    "print('The best accuracy:', best_accuracy)\n",
    "print('The best parameters:', best_parameters)"
   ]
  },
  {
   "cell_type": "markdown",
   "metadata": {
    "collapsed": true
   },
   "source": [
    "## ========= Applying the K-Fold cross validation ======"
   ]
  },
  {
   "cell_type": "code",
   "execution_count": 95,
   "metadata": {
    "collapsed": false
   },
   "outputs": [
    {
     "name": "stdout",
     "output_type": "stream",
     "text": [
      "The averaged accuracy is 0.836500, and\n",
      "std is 0.011289.\n",
      "\n"
     ]
    }
   ],
   "source": [
    "from sklearn.model_selection import cross_val_score\n",
    "classifier = KerasClassifier(build_fn = build_classifier, _optimizer = 'adam', batch_size = 20, epochs = 20)\n",
    "accuracies = cross_val_score(estimator = classifier, X = x_train, y = y_train, cv = 10, n_jobs = -1)\n",
    "print ('The averaged accuracy is %f, and\\nstd is %f.\\n'%(accuracies.mean(), accuracies.std()))"
   ]
  },
  {
   "cell_type": "markdown",
   "metadata": {},
   "source": [
    "## ====== Predict and make confusion matrix ======="
   ]
  },
  {
   "cell_type": "code",
   "execution_count": 96,
   "metadata": {
    "collapsed": false
   },
   "outputs": [
    {
     "name": "stdout",
     "output_type": "stream",
     "text": [
      "Epoch 1/20\n",
      "8000/8000 [==============================] - 4s 523us/step - loss: 0.5253 - acc: 0.7950\n",
      "Epoch 2/20\n",
      "8000/8000 [==============================] - 1s 171us/step - loss: 0.4311 - acc: 0.7960\n",
      "Epoch 3/20\n",
      "8000/8000 [==============================] - 2s 193us/step - loss: 0.4267 - acc: 0.7960\n",
      "Epoch 4/20\n",
      "8000/8000 [==============================] - 2s 220us/step - loss: 0.4234 - acc: 0.7960\n",
      "Epoch 5/20\n",
      "8000/8000 [==============================] - 1s 157us/step - loss: 0.4205 - acc: 0.8041\n",
      "Epoch 6/20\n",
      "8000/8000 [==============================] - 1s 160us/step - loss: 0.4182 - acc: 0.8219\n",
      "Epoch 7/20\n",
      "8000/8000 [==============================] - 1s 162us/step - loss: 0.4167 - acc: 0.8248\n",
      "Epoch 8/20\n",
      "8000/8000 [==============================] - 1s 171us/step - loss: 0.4151 - acc: 0.8274\n",
      "Epoch 9/20\n",
      "8000/8000 [==============================] - 2s 191us/step - loss: 0.4138 - acc: 0.8281\n",
      "Epoch 10/20\n",
      "8000/8000 [==============================] - 2s 205us/step - loss: 0.4128 - acc: 0.8306\n",
      "Epoch 11/20\n",
      "8000/8000 [==============================] - 1s 185us/step - loss: 0.4120 - acc: 0.8311\n",
      "Epoch 12/20\n",
      "8000/8000 [==============================] - 1s 177us/step - loss: 0.4110 - acc: 0.8318\n",
      "Epoch 13/20\n",
      "8000/8000 [==============================] - 1s 183us/step - loss: 0.4100 - acc: 0.8313\n",
      "Epoch 14/20\n",
      "8000/8000 [==============================] - 2s 188us/step - loss: 0.4091 - acc: 0.8349\n",
      "Epoch 15/20\n",
      "8000/8000 [==============================] - 1s 186us/step - loss: 0.4085 - acc: 0.8336\n",
      "Epoch 16/20\n",
      "8000/8000 [==============================] - 1s 180us/step - loss: 0.4078 - acc: 0.8335\n",
      "Epoch 17/20\n",
      "8000/8000 [==============================] - 1s 185us/step - loss: 0.4071 - acc: 0.8331\n",
      "Epoch 18/20\n",
      "8000/8000 [==============================] - 2s 204us/step - loss: 0.4067 - acc: 0.8343\n",
      "Epoch 19/20\n",
      "8000/8000 [==============================] - 2s 218us/step - loss: 0.4063 - acc: 0.8334\n",
      "Epoch 20/20\n",
      "8000/8000 [==============================] - 1s 180us/step - loss: 0.4057 - acc: 0.8330\n"
     ]
    }
   ],
   "source": [
    "classifier.fit(x_train, y_train)\n",
    "y_pred_train = classifier.predict(x_train)\n",
    "#y_pred_train = (y_pred_train > 0.5)\n",
    "y_pred_test = classifier.predict(x_test)\n",
    "#y_pred_test = (y_pred_test > 0.5)"
   ]
  },
  {
   "cell_type": "code",
   "execution_count": 97,
   "metadata": {
    "collapsed": false
   },
   "outputs": [
    {
     "name": "stdout",
     "output_type": "stream",
     "text": [
      "The accuracy for the training set is 0.834375.\n",
      "\n",
      "The accuracy for the test set is 0.838000.\n",
      "\n"
     ]
    }
   ],
   "source": [
    "from sklearn.metrics import confusion_matrix\n",
    "cm_train = confusion_matrix(y_train, y_pred_train)\n",
    "cm_test = confusion_matrix(y_test, y_pred_test, labels=[0, 1]) #lables indicate the order of the results\n",
    "print ('The accuracy for the training set is %f.\\n'%((cm_train[0][0]+cm_train[1][1])/(x_train.shape[0])))\n",
    "print ('The accuracy for the test set is %f.\\n'%((cm_test[0][0]+cm_test[1][1])/(sum(sum(cm_test)))))"
   ]
  },
  {
   "cell_type": "markdown",
   "metadata": {},
   "source": [
    "## ======== Predicting a single new observation ========"
   ]
  },
  {
   "cell_type": "markdown",
   "metadata": {},
   "source": [
    "\"\"\"Predict if the customer with the following informations will leave the bank:\n",
    "Geography: France\n",
    "Credit Score: 600\n",
    "Gender: Male\n",
    "Age: 40\n",
    "Tenure: 3\n",
    "Balance: 60000\n",
    "Number of Products: 2\n",
    "Has Credit Card: Yes\n",
    "Is Active Member: Yes\n",
    "Estimated Salary: 50000\"\"\""
   ]
  },
  {
   "cell_type": "code",
   "execution_count": 98,
   "metadata": {
    "collapsed": false
   },
   "outputs": [
    {
     "name": "stdout",
     "output_type": "stream",
     "text": [
      "Exited? 0\n"
     ]
    },
    {
     "name": "stderr",
     "output_type": "stream",
     "text": [
      "/Users/LianshuiZhao/anaconda/lib/python3.5/site-packages/sklearn/utils/validation.py:595: DataConversionWarning: Data with input dtype int64 was converted to float64 by StandardScaler.\n",
      "  warnings.warn(msg, DataConversionWarning)\n"
     ]
    }
   ],
   "source": [
    "import numpy as np\n",
    "new_pred = classifier.predict(sc.transform(np.array([[0, 0, 600, 1, 40, 3, 60000, 2, 1, 1, 50000]])))\n",
    "print ('Exited?', new_pred[0, 0])"
   ]
  }
 ],
 "metadata": {
  "anaconda-cloud": {},
  "kernelspec": {
   "display_name": "Python [default]",
   "language": "python",
   "name": "python3"
  },
  "language_info": {
   "codemirror_mode": {
    "name": "ipython",
    "version": 3
   },
   "file_extension": ".py",
   "mimetype": "text/x-python",
   "name": "python",
   "nbconvert_exporter": "python",
   "pygments_lexer": "ipython3",
   "version": "3.5.6"
  }
 },
 "nbformat": 4,
 "nbformat_minor": 1
}
